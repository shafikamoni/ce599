{
 "cells": [
  {
   "cell_type": "markdown",
   "metadata": {},
   "source": [
    "# Working with Data APIs\n",
    "\n",
    "**Adapted from: Sam Maurer // maurer@berkeley.edu // Oct. 3, 2016**\n",
    "\n",
    "This notebook provides a demonstration of data-access APIs that operate over the web. See README.md for setup instructions.\n",
    "\n",
    "In Part 1, we'll load and parse results from an API feed of earthquake data.  \n",
    "In Part 2, we'll add query parameters to the workflow, using the Google Maps Geolocation API as an example.  \n",
    "In Part 3, we'll use an authenticated API to query public Twitter posts. "
   ]
  },
  {
   "cell_type": "markdown",
   "metadata": {},
   "source": [
    "# Part 1: Reading from an automated data feed\n",
    "\n",
    "### USGS real-time earthquake feeds\n",
    "\n",
    "This is an API for near-real-time data about earthquakes. Data is provided in JSON format over the web. No authentication is needed, and there's no way to customize the output. Instead, the API has a separate endpoint for each permutation of the data that users might want.\n",
    "\n",
    "**API documentation:**  \n",
    "http://earthquake.usgs.gov/earthquakes/feed/v1.0/geojson.php\n",
    "\n",
    "**Sample API endpoint, for magnitude 4.5+ earthquakes in past day:**  \n",
    "http://earthquake.usgs.gov/earthquakes/feed/v1.0/summary/4.5_day.geojson  \n"
   ]
  },
  {
   "cell_type": "code",
   "execution_count": 1,
   "metadata": {},
   "outputs": [],
   "source": [
    "%matplotlib inline\n",
    "\n",
    "import pandas as pd\n",
    "\n",
    "import json    # library for working with JSON-formatted text strings\n",
    "import requests  # library for accessing content from web URLs\n",
    "\n",
    "import pprint  # library for making Python data structures readable\n",
    "pp = pprint.PrettyPrinter()"
   ]
  },
  {
   "cell_type": "code",
   "execution_count": 2,
   "metadata": {},
   "outputs": [
    {
     "name": "stdout",
     "output_type": "stream",
     "text": [
      "<class 'str'>\n"
     ]
    }
   ],
   "source": [
    "# download data on magnitude 2.5+ quakes from the past week\n",
    "\n",
    "endpoint_url = \"http://earthquake.usgs.gov/earthquakes/feed/v1.0/summary/2.5_week.geojson\"\n",
    "response = requests.get(endpoint_url)\n",
    "results = response.text\n",
    "\n",
    "# what is the data type of the results?\n",
    "print(type(results))"
   ]
  },
  {
   "cell_type": "code",
   "execution_count": 3,
   "metadata": {},
   "outputs": [
    {
     "name": "stdout",
     "output_type": "stream",
     "text": [
      "<Response [200]>\n"
     ]
    }
   ],
   "source": [
    "print(response)"
   ]
  },
  {
   "cell_type": "code",
   "execution_count": 4,
   "metadata": {},
   "outputs": [
    {
     "name": "stdout",
     "output_type": "stream",
     "text": [
      "{\"type\":\"FeatureCollection\",\"metadata\":{\"generated\":1551985383000,\"url\":\"https://earthquake.usgs.gov/earthquakes/feed/v1.0/summary/2.5_week.geojson\",\"title\":\"USGS Magnitude 2.5+ Earthquakes, Past Week\",\"status\":200,\"api\":\"1.7.0\",\"count\":294},\"features\":[{\"type\":\"Feature\",\"properties\":{\"mag\":2.5,\"place\":\"83km SSW of Kaktovik, Alaska\",\"time\":1551982140739,\"updated\":1551982844598,\"tz\":-540,\"url\":\"https://earthquake.usgs.gov/earthquakes/eventpage/ak01931g8mzd\",\"detail\":\"https://earthquake.usgs.gov/e\n"
     ]
    }
   ],
   "source": [
    "# print the first 500 characters to see a sample of the data\n",
    "\n",
    "print(results[:500])"
   ]
  },
  {
   "cell_type": "code",
   "execution_count": 5,
   "metadata": {},
   "outputs": [
    {
     "name": "stdout",
     "output_type": "stream",
     "text": [
      "<class 'dict'>\n"
     ]
    }
   ],
   "source": [
    "# it looks like the results are a string with JSON-formatted data inside\n",
    "\n",
    "# parse the string into a Python dictionary\n",
    "data = json.loads(results)\n",
    "\n",
    "print(type(data))"
   ]
  },
  {
   "cell_type": "code",
   "execution_count": 6,
   "metadata": {},
   "outputs": [
    {
     "name": "stdout",
     "output_type": "stream",
     "text": [
      "{'type': 'Feature', 'properties': {'mag': 2.5, 'place': '83km SSW of Kaktovik, Alaska', 'time': 1551982140739, 'updated': 1551982844598, 'tz': -540, 'url': 'https://earthquake.usgs.gov/earthquakes/eventpage/ak01931g8mzd', 'detail': 'https://earthquake.usgs.gov/earthquakes/feed/v1.0/detail/ak01931g8mzd.geojson', 'felt': None, 'cdi': None, 'mmi': None, 'alert': None, 'status': 'automatic', 'tsunami': 0, 'sig': 96, 'net': 'ak', 'code': '01931g8mzd', 'ids': ',ak01931g8mzd,', 'sources': ',ak,', 'types': ',geoserve,origin,', 'nst': None, 'dmin': None, 'rms': 0.78, 'gap': None, 'magType': 'ml', 'type': 'earthquake', 'title': 'M 2.5 - 83km SSW of Kaktovik, Alaska'}, 'geometry': {'type': 'Point', 'coordinates': [-144.3616, 69.4288, 9.6]}, 'id': 'ak01931g8mzd'}\n"
     ]
    }
   ],
   "source": [
    "# print the most recent quake\n",
    "\n",
    "quakes = data['features']\n",
    "print(quakes[0])"
   ]
  },
  {
   "cell_type": "code",
   "execution_count": 7,
   "metadata": {},
   "outputs": [
    {
     "name": "stdout",
     "output_type": "stream",
     "text": [
      "{'coordinates': [-144.3616, 69.4288, 9.6], 'type': 'Point'}\n",
      "{'alert': None,\n",
      " 'cdi': None,\n",
      " 'code': '01931g8mzd',\n",
      " 'detail': 'https://earthquake.usgs.gov/earthquakes/feed/v1.0/detail/ak01931g8mzd.geojson',\n",
      " 'dmin': None,\n",
      " 'felt': None,\n",
      " 'gap': None,\n",
      " 'ids': ',ak01931g8mzd,',\n",
      " 'mag': 2.5,\n",
      " 'magType': 'ml',\n",
      " 'mmi': None,\n",
      " 'net': 'ak',\n",
      " 'nst': None,\n",
      " 'place': '83km SSW of Kaktovik, Alaska',\n",
      " 'rms': 0.78,\n",
      " 'sig': 96,\n",
      " 'sources': ',ak,',\n",
      " 'status': 'automatic',\n",
      " 'time': 1551982140739,\n",
      " 'title': 'M 2.5 - 83km SSW of Kaktovik, Alaska',\n",
      " 'tsunami': 0,\n",
      " 'type': 'earthquake',\n",
      " 'types': ',geoserve,origin,',\n",
      " 'tz': -540,\n",
      " 'updated': 1551982844598,\n",
      " 'url': 'https://earthquake.usgs.gov/earthquakes/eventpage/ak01931g8mzd'}\n"
     ]
    }
   ],
   "source": [
    "# print it more clearly\n",
    "#1st quake\n",
    "pp.pprint(quakes[0]['geometry'])\n",
    "pp.pprint(quakes[0]['properties'])"
   ]
  },
  {
   "cell_type": "code",
   "execution_count": 8,
   "metadata": {},
   "outputs": [
    {
     "name": "stdout",
     "output_type": "stream",
     "text": [
      "M 2.5 - 83km SSW of Kaktovik, Alaska\n",
      "M 2.9 - 66km SSW of Kobuk, Alaska\n",
      "M 4.7 - 90km W of False Pass, Alaska\n",
      "M 5.7 - 134km SSE of L'Esperance Rock, New Zealand\n",
      "M 3.3 - 74km S of Kobuk, Alaska\n",
      "M 3.0 - 23km SSW of Beaver, Utah\n",
      "M 5.7 - 138km WNW of Coquimbo, Chile\n",
      "M 5.5 - 252km SE of L'Esperance Rock, New Zealand\n",
      "M 3.2 - 31km NNE of Road Town, British Virgin Islands\n",
      "M 2.8 - 4km E of Blanchard, Oklahoma\n",
      "M 3.2 - 33km SW of Hayfork, CA\n",
      "M 4.9 - 118km SE of L'Esperance Rock, New Zealand\n",
      "M 2.7 - 10km WSW of Knik-Fairview, Alaska\n",
      "M 4.8 - Izu Islands, Japan region\n",
      "M 2.5 - 12km NNE of Ocotillo Wells, CA\n",
      "M 4.8 - 96km SW of `Ohonua, Tonga\n",
      "M 4.7 - 12km S of Roghun, Tajikistan\n",
      "M 5.1 - 91km SW of Atka, Alaska\n",
      "M 4.8 - 6km E of Fochville, South Africa\n",
      "M 2.8 - 68km S of Kobuk, Alaska\n",
      "M 4.6 - 37km SSE of Sindangsari, Indonesia\n",
      "M 3.2 - 64km SSW of Kobuk, Alaska\n",
      "M 2.6 - 6km N of Moreno Valley, CA\n",
      "M 3.3 - 12km S of Big Lake, Alaska\n",
      "M 4.4 - 12km N of Kashmor, Pakistan\n",
      "M 3.4 - 46km NE of Road Town, British Virgin Islands\n",
      "M 5.0 - 71km SSE of Putre, Chile\n",
      "M 2.7 - 76km S of Kobuk, Alaska\n",
      "M 4.4 - 22km SSW of Anelo, Argentina\n",
      "M 3.0 - 144km N of Arecibo, Puerto Rico\n",
      "M 2.6 - 9km E of Century, Florida\n",
      "M 5.2 - 37km NNE of Chongoyape, Peru\n",
      "M 2.7 - 65km NNW of San Antonio, Puerto Rico\n",
      "M 4.9 - Northern Mid-Atlantic Ridge\n",
      "M 4.9 - 132km SSW of Hengchun, Taiwan\n",
      "M 2.9 - 105km NNW of San Antonio, Puerto Rico\n",
      "M 2.6 - 44km N of Hatillo, Puerto Rico\n",
      "M 2.9 - 17km WSW of Miramichi, Canada\n",
      "M 5.0 - 109km SE of L'Esperance Rock, New Zealand\n",
      "M 2.9 - 76km SSW of Kobuk, Alaska\n",
      "M 3.1 - 36km ENE of Punta Cana, Dominican Republic\n",
      "M 2.7 - 7km NNW of Meadow Lakes, Alaska\n",
      "M 3.0 - 12km S of Esperanza, Puerto Rico\n",
      "M 5.0 - 155km WNW of Tobelo, Indonesia\n",
      "M 2.9 - 68km SSW of Kobuk, Alaska\n",
      "M 3.0 - 71km SSW of Kobuk, Alaska\n",
      "M 3.1 - 78km SSW of Kobuk, Alaska\n",
      "M 2.6 - 74km SSW of Kobuk, Alaska\n",
      "M 3.3 - 64km SSW of Kobuk, Alaska\n",
      "M 5.1 - 139km SE of L'Esperance Rock, New Zealand\n",
      "M 5.2 - 68km SSW of Kobuk, Alaska\n",
      "M 4.7 - 165km SW of Al Qunfidhah, Saudi Arabia\n",
      "M 2.5 - 7km NE of Harper, Kansas\n",
      "M 5.7 - 139km SE of L'Esperance Rock, New Zealand\n",
      "M 5.0 - 161km SSW of Al Qunfidhah, Saudi Arabia\n",
      "M 5.0 - Volcano Islands, Japan region\n",
      "M 4.9 - 40km S of Ofunato, Japan\n",
      "M 2.8 - 229km SE of Kodiak, Alaska\n",
      "M 5.6 - 15km NNE of Ambunti, Papua New Guinea\n",
      "M 4.0 - 29km SSE of Ofunato, Japan\n",
      "M 2.6 - 16km NNE of Coalgate, Oklahoma\n",
      "M 2.7 - 33km WNW of Kobuk, Alaska\n",
      "M 2.5 - 17km NNW of Anchorage, Alaska\n",
      "M 4.7 - 99km W of Nikol'skoye, Russia\n",
      "M 2.9 - 290km ESE of Kodiak, Alaska\n",
      "M 5.0 - 105km ESE of L'Esperance Rock, New Zealand\n",
      "M 6.4 - 116km SE of L'Esperance Rock, New Zealand\n",
      "M 3.0 - 2km NW of Vega Baja, Puerto Rico\n",
      "M 5.1 - 230km NNW of Tobelo, Indonesia\n",
      "M 4.3 - 38km ESE of Savannah Bight, Honduras\n",
      "M 2.7 - 17km SSW of Big Lake, Alaska\n",
      "M 4.1 - 122km SW of Mapastepec, Mexico\n",
      "M 4.3 - 119km SW of Kiska Volcano, Alaska\n",
      "M 4.7 - 134km WNW of Tobelo, Indonesia\n",
      "M 2.5 - 48km N of Valdez, Alaska\n",
      "M 2.6 - 63km NNE of Isabela, Puerto Rico\n",
      "M 5.6 - West Chile Rise\n",
      "M 2.8 - 27km WSW of Anchor Point, Alaska\n",
      "M 3.0 - 27km NNE of Punta Cana, Dominican Republic\n",
      "M 3.2 - 135km NNE of Vieques, Puerto Rico\n",
      "M 3.4 - 174km NNE of Road Town, British Virgin Islands\n",
      "M 4.7 - 61km SW of Ile Hunter, New Caledonia\n",
      "M 5.3 - Bouvet Island region\n",
      "M 2.5 - 26km SSW of Esperanza, Puerto Rico\n",
      "M 3.3 - 55km W of Anchor Point, Alaska\n",
      "M 4.5 - 1km NE of Barranquilla, Colombia\n",
      "M 3.3 - 8km E of La Romana, Dominican Republic\n",
      "M 3.3 - 29km NNE of Sutton-Alpine, Alaska\n",
      "M 2.9 - 76km NNW of San Antonio, Puerto Rico\n",
      "M 5.7 - 69km ENE of Hinatuan, Philippines\n",
      "M 4.4 - 10km NNW of Tunapuna, Trinidad and Tobago\n",
      "M 3.0 - 143km SE of Akutan, Alaska\n",
      "M 3.0 - 14km NE of Miches, Dominican Republic\n",
      "M 4.8 - 82km N of Oxapampa, Peru\n",
      "M 2.7 - 77km SW of Kaktovik, Alaska\n",
      "M 4.9 - 63km SW of Puerto Madero, Mexico\n",
      "M 3.4 - 7km NE of Maynardville, Tennessee\n",
      "M 2.9 - 11km SE of Punta Cana, Dominican Republic\n",
      "M 4.8 - 94km ENE of Amahai, Indonesia\n",
      "M 3.2 - 48km SE of Boca de Yuma, Dominican Republic\n",
      "M 4.5 - 85km E of Ndoi Island, Fiji\n",
      "M 4.6 - 55km SW of Puerto Madero, Mexico\n",
      "M 2.7 - 64km N of Tierras Nuevas Poniente, Puerto Rico\n",
      "M 4.2 - 39km SW of Puerto Madero, Mexico\n",
      "M 4.1 - 3km NNW of Grebocice, Poland\n",
      "M 4.4 - 43km WNW of Coquimbo, Chile\n",
      "M 5.4 - 76km WSW of Puerto Madero, Mexico\n",
      "M 4.4 - 42km W of `Alaqahdari-ye Kiran wa Munjan, Afghanistan\n",
      "M 3.4 - 70km S of Kobuk, Alaska\n",
      "M 4.2 - 46km WSW of Tual, Indonesia\n",
      "M 3.5 - 258km SE of Kodiak, Alaska\n",
      "M 4.8 - 64km SW of Puerto Madero, Mexico\n",
      "M 5.1 - 60km SW of Buldir Island, Alaska\n",
      "M 4.8 - 62km SW of Puerto Madero, Mexico\n",
      "M 2.9 - 8km WSW of Ely, Nevada\n",
      "M 2.8 - 72km SW of Redoubt Volcano, Alaska\n",
      "M 2.6 - 116km W of Petrolia, CA\n",
      "M 4.0 - Izu Islands, Japan region\n",
      "M 2.5 - 1km S of Bluffdale, Utah\n",
      "M 3.8 - 121km SSE of Yunaska Island, Alaska\n",
      "M 2.5 - 52km N of Culebra, Puerto Rico\n",
      "M 4.6 - 137km WSW of Banda Aceh, Indonesia\n",
      "M 2.7 - 54km SE of Punta Cana, Dominican Republic\n",
      "M 2.9 - 127km NNE of Vieques, Puerto Rico\n",
      "M 2.9 - 65km SSW of Kobuk, Alaska\n",
      "M 2.6 - 89km S of Kodiak Station, Alaska\n",
      "M 2.8 - 91km SSW of Kaktovik, Alaska\n",
      "M 4.5 - 150km NW of Olonkinbyen, Svalbard and Jan Mayen\n",
      "M 2.6 - 1km NW of Manhattan, Montana\n",
      "M 2.8 - 71km WSW of Alberto Oviedo Mota, B.C., MX\n",
      "M 4.4 - 57km ENE of Malili, Indonesia\n",
      "M 4.5 - 57km NNE of Yanqi, China\n",
      "M 2.9 - 67km SSW of Kobuk, Alaska\n",
      "M 2.9 - 7km N of Cuero, Texas\n",
      "M 2.5 - 14km N of Anchorage, Alaska\n",
      "M 4.8 - 44km ENE of Malili, Indonesia\n",
      "M 4.5 - 57km N of Dove Creek, Colorado\n",
      "M 3.3 - 64km ENE of Old Faithful Geyser, Wyoming\n",
      "M 4.4 - 29km NE of Madang, Papua New Guinea\n",
      "M 4.2 - 65km SW of Santiago Pinotepa Nacional, Mexico\n",
      "M 4.4 - 28km ENE of Madang, Papua New Guinea\n",
      "M 4.6 - 24km WNW of Ust'-Barguzin, Russia\n",
      "M 3.8 - 9km NW of Red Deer, Canada\n",
      "M 4.8 - 46km E of Madang, Papua New Guinea\n",
      "M 4.5 - 40km WNW of Pisco, Peru\n",
      "M 5.9 - 43km E of Madang, Papua New Guinea\n",
      "M 2.7 - 41km SSE of Pecos, Texas\n",
      "M 2.6 - 13km NNW of Alderson, West Virginia\n",
      "M 4.4 - 71km SSW of Sand Point, Alaska\n",
      "M 4.8 - 69km NNW of Visokoi Island, South Georgia and the South Sandwich Islands\n",
      "M 4.0 - 28km N of Melipilla, Chile\n",
      "M 2.7 - 67km ENE of Road Town, British Virgin Islands\n",
      "M 2.5 - 26km E of Honaunau-Napoopoo, Hawaii\n",
      "M 3.4 - 110km N of Road Town, British Virgin Islands\n",
      "M 3.4 - 129km N of Vieques, Puerto Rico\n",
      "M 3.0 - 80km N of Charlotte Amalie, U.S. Virgin Islands\n",
      "M 4.6 - 142km ENE of Neiafu, Tonga\n",
      "M 2.9 - 58km NNW of Road Town, British Virgin Islands\n",
      "M 2.8 - 68km WSW of Tok, Alaska\n",
      "M 4.6 - 49km NE of Palue, Indonesia\n",
      "M 2.5 - 6km ENE of Salina, Kansas\n",
      "M 2.8 - 90km NE of Tanana, Alaska\n",
      "M 2.6 - 100km NE of Circle, Alaska\n",
      "M 3.4 - 64km NNW of Road Town, British Virgin Islands\n",
      "M 2.9 - 38km ESE of Punta Cana, Dominican Republic\n",
      "M 2.6 - 11km SE of Leilani Estates, Hawaii\n",
      "M 4.4 - 60km NNE of Palue, Indonesia\n",
      "M 4.6 - 3km S of Asuncion Ixtaltepec, Mexico\n",
      "M 4.2 - 124km SE of Pondaguitan, Philippines\n",
      "M 3.0 - 14km SW of Enterprise, Utah\n",
      "M 2.5 - 1km SSW of Bayamon, Puerto Rico\n",
      "M 2.8 - 86km W of Petrolia, CA\n",
      "M 4.9 - 34km WNW of Zirandaro, Mexico\n",
      "M 3.1 - 6km WSW of Lower Lake, CA\n",
      "M 4.2 - 275km SE of Kodiak, Alaska\n",
      "M 2.9 - 68km SSW of Kobuk, Alaska\n",
      "M 4.9 - 55km W of Kasiguncu, Indonesia\n",
      "M 5.4 - 127km NE of L'Esperance Rock, New Zealand\n",
      "M 2.8 - 292km SE of Kodiak, Alaska\n",
      "M 2.8 - 41km NNW of Currant, Nevada\n",
      "M 3.4 - 299km SE of Kodiak, Alaska\n",
      "M 2.5 - 29km N of San Antonio, Puerto Rico\n",
      "M 2.7 - 43km NNW of Currant, Nevada\n",
      "M 4.3 - 32km SSE of Pucallpa, Peru\n",
      "M 2.6 - 79km NE of Miches, Dominican Republic\n",
      "M 4.5 - 25km NNW of Gandava, Pakistan\n",
      "M 3.8 - 8km WSW of Marigot, Saint Martin\n",
      "M 2.5 - 7km NE of Georgetown, Ohio\n",
      "M 2.7 - 4km NE of Waikoloa, Hawaii\n",
      "M 2.8 - 32km SSW of Butte, Alaska\n",
      "M 4.5 - 24km E of Pamandzi, Mayotte\n",
      "M 2.9 - 12km SSE of Volcano, Hawaii\n",
      "M 4.3 - 54km SSW of Masachapa, Nicaragua\n",
      "M 4.2 - 52km NNW of Atka, Alaska\n",
      "M 4.4 - 172km SSE of Sinabang, Indonesia\n",
      "M 2.5 - 51km SSE of King Salmon, Alaska\n",
      "M 2.7 - 41km WNW of Rincon, Puerto Rico\n",
      "M 3.5 - 28km E of Karibib, Namibia\n",
      "M 3.2 - 84km NNW of Charlotte Amalie, U.S. Virgin Islands\n",
      "M 2.6 - 75km S of Kobuk, Alaska\n",
      "M 2.9 - 10km NNW of Cholame, CA\n",
      "M 5.5 - 94km W of San Antonio, Chile\n",
      "M 2.7 - 2km WNW of Manhattan, Montana\n",
      "M 5.6 - 21km NW of Davila, Philippines\n",
      "M 2.5 - 149km NE of Nome, Alaska\n",
      "M 4.9 - 225km NNW of Farallon de Pajaros, Northern Mariana Islands\n",
      "M 3.0 - 124km S of Boca de Yuma, Dominican Republic\n",
      "M 5.3 - Izu Islands, Japan region\n",
      "M 2.7 - 63km SSW of Kaktovik, Alaska\n",
      "M 2.6 - 20km NNW of Brenas, Puerto Rico\n",
      "M 4.1 - 119km SSW of George Town, Cayman Islands\n",
      "M 4.8 - 69km NNW of Alotau, Papua New Guinea\n",
      "M 4.3 - 100km SE of San Felipe, Mexico\n",
      "M 2.8 - 134km ESE of Akutan, Alaska\n",
      "M 2.8 - 14km SW of Cherokee, Oklahoma\n",
      "M 3.1 - 76km NNW of San Antonio, Puerto Rico\n",
      "M 2.8 - 43km WNW of Petrolia, CA\n",
      "M 4.3 - 50km NNE of Kerman, Iran\n",
      "M 2.9 - 51km N of Isabela, Puerto Rico\n",
      "M 2.7 - 20km W of Petrolia, CA\n",
      "M 3.1 - 169km S of False Pass, Alaska\n",
      "M 2.8 - 13km SE of Road Town, British Virgin Islands\n",
      "M 4.6 - 183km NE of Kuril'sk, Russia\n",
      "M 4.5 - 85km W of San Antonio, Chile\n",
      "M 2.9 - 114km NNW of Arctic Village, Alaska\n",
      "M 4.9 - Northern Mid-Atlantic Ridge\n",
      "M 3.8 - 21km W of Petrolia, CA\n",
      "M 2.5 - 50km N of San Juan, Puerto Rico\n",
      "M 3.4 - 78km N of Charlotte Amalie, U.S. Virgin Islands\n",
      "M 6.0 - 191km SE of Nemuro, Japan\n",
      "M 2.6 - 16km WSW of Enterprise, Utah\n",
      "M 5.2 - 80km SSE of Panguna, Papua New Guinea\n",
      "M 2.6 - 8km SSE of Ridgely, Tennessee\n",
      "M 2.9 - 116km N of San Juan, Puerto Rico\n",
      "M 3.9 - 19km WSW of Valparaiso, Chile\n",
      "M 2.5 - 72km SSW of Kaktovik, Alaska\n",
      "M 3.2 - 114km ENE of Chernabura Island, Alaska\n",
      "M 4.5 - Owen Fracture Zone region\n",
      "M 2.8 - 246km SE of Kodiak, Alaska\n",
      "M 3.1 - 123km NNW of Arctic Village, Alaska\n",
      "M 4.8 - Izu Islands, Japan region\n",
      "M 2.8 - 76km N of San Juan, Puerto Rico\n",
      "M 4.6 - 114km N of Lanos, Indonesia\n",
      "M 4.8 - South of the Fiji Islands\n",
      "M 5.2 - 45km W of Ovalle, Chile\n",
      "M 2.5 - 12km S of Tres Pinos, CA\n",
      "M 3.2 - 262km SE of Kodiak, Alaska\n",
      "M 3.7 - 274km SSE of Kodiak, Alaska\n",
      "M 4.4 - 37km ESE of Hitachi, Japan\n",
      "M 4.6 - 2km WNW of Comillas Norte, Philippines\n",
      "M 4.2 - 214km NW of Attu Station, Alaska\n",
      "M 2.8 - 18km NW of Anchorage, Alaska\n",
      "M 4.8 - 212km N of Sola, Vanuatu\n",
      "M 2.5 - 84km WSW of Cordova, Alaska\n",
      "M 2.6 - 85km W of Willow, Alaska\n",
      "M 2.7 - 70km E of Sutton-Alpine, Alaska\n",
      "M 4.2 - 32km NE of Calama, Chile\n",
      "M 4.4 - 232km WNW of Saumlaki, Indonesia\n",
      "M 4.9 - 50km E of Santiago, Philippines\n",
      "M 7.0 - 27km NNE of Azangaro, Peru\n",
      "M 2.6 - 29km SE of Boca de Yuma, Dominican Republic\n",
      "M 4.7 - 101km SSW of Porgera, Papua New Guinea\n",
      "M 2.6 - 130km NW of Talkeetna, Alaska\n",
      "M 2.8 - 264km ESE of Kodiak, Alaska\n",
      "M 3.1 - 16km NNW of Anchorage, Alaska\n",
      "M 4.0 - 21km WSW of Silvassa, India\n",
      "M 3.3 - 277km SE of Kodiak, Alaska\n",
      "M 2.6 - 103km NE of Punta Cana, Dominican Republic\n",
      "M 4.8 - 5km W of Soweto, South Africa\n",
      "M 3.0 - 221km ESE of Kodiak, Alaska\n",
      "M 2.5 - 14km E of Petrolia, CA\n",
      "M 4.2 - 271km ESE of Kodiak, Alaska\n",
      "M 3.3 - 282km ESE of Kodiak, Alaska\n",
      "M 2.5 - 62km SSW of Kaktovik, Alaska\n",
      "M 4.5 - 63km WSW of San Juan del Sur, Nicaragua\n",
      "M 2.7 - 0km N of Big Lake, Alaska\n",
      "M 2.7 - 77km SSW of Kobuk, Alaska\n",
      "M 4.5 - 7km N of Berlin, El Salvador\n",
      "M 2.9 - 61km SSW of Kaktovik, Alaska\n",
      "M 5.8 - 125km NNE of Macquarie Island, Australia\n",
      "M 5.2 - 41km SSW of Sarangani, Philippines\n",
      "M 4.0 - 26km NNW of Ishkashim, Tajikistan\n",
      "M 2.6 - 2km ESE of Rose Lodge, Oregon\n",
      "M 2.9 - 37km WSW of Old Iliamna, Alaska\n",
      "M 3.1 - 11km NW of Edmond, Oklahoma\n",
      "M 5.5 - 37km SSE of Suncho Corral, Argentina\n",
      "M 2.7 - 42km NNW of Culebra, Puerto Rico\n",
      "M 3.2 - 218km W of Bandon, Oregon\n",
      "M 2.6 - 21km NW of Garland, Utah\n",
      "M 2.8 - 32km NE of Cantwell, Alaska\n",
      "M 4.6 - 50km SW of Severo-Kuril'sk, Russia\n",
      "M 4.8 - 31km ESE of Tarata, Peru\n",
      "M 4.9 - 12km SE of Lithakia, Greece\n",
      "M 5.1 - 163km NE of Gisborne, New Zealand\n"
     ]
    }
   ],
   "source": [
    "# pull out the title from each earthquake listing\n",
    "\n",
    "for q in quakes:\n",
    "    print(q['properties']['title'])"
   ]
  },
  {
   "cell_type": "code",
   "execution_count": 9,
   "metadata": {},
   "outputs": [
    {
     "name": "stdout",
     "output_type": "stream",
     "text": [
      "294\n"
     ]
    }
   ],
   "source": [
    "# pull out magnitudes and depths into a Pandas dataframe, using\n",
    "# a more compact Python syntax for iterating through lists\n",
    "\n",
    "d = {'magnitude': [q['properties']['mag'] for q in quakes],\n",
    "     'depth': [q['geometry']['coordinates'][2] for q in quakes]}\n",
    "\n",
    "df = pd.DataFrame.from_dict(d)\n",
    "\n",
    "# how many earthquakes were loaded into the dataframe?\n",
    "print(len(df))"
   ]
  },
  {
   "cell_type": "code",
   "execution_count": 10,
   "metadata": {},
   "outputs": [
    {
     "name": "stdout",
     "output_type": "stream",
     "text": [
      "   magnitude   depth\n",
      "0        2.5    9.60\n",
      "1        2.9    0.00\n",
      "2        4.7  162.92\n",
      "3        5.7   27.36\n",
      "4        3.3    0.00\n"
     ]
    }
   ],
   "source": [
    "# print the first few lines of data\n",
    "#depth in meter\n",
    "\n",
    "print(df.head())"
   ]
  },
  {
   "cell_type": "code",
   "execution_count": 11,
   "metadata": {},
   "outputs": [
    {
     "name": "stdout",
     "output_type": "stream",
     "text": [
      "        magnitude       depth\n",
      "count  294.000000  294.000000\n",
      "mean     3.708537   44.614048\n",
      "std      1.027381   77.835422\n",
      "min      2.450000   -0.450000\n",
      "25%      2.800000   10.000000\n",
      "50%      3.300000   15.745000\n",
      "75%      4.600000   47.787500\n",
      "max      7.000000  573.630000\n"
     ]
    }
   ],
   "source": [
    "# print some descriptive statistics\n",
    "\n",
    "print(df.describe())"
   ]
  },
  {
   "cell_type": "code",
   "execution_count": 12,
   "metadata": {},
   "outputs": [
    {
     "data": {
      "text/plain": [
       "<matplotlib.axes._subplots.AxesSubplot at 0x1ef661ce438>"
      ]
     },
     "execution_count": 12,
     "metadata": {},
     "output_type": "execute_result"
    },
    {
     "data": {
      "image/png": "[encoded data removed]",
      "text/plain": [
       "<Figure size 432x288 with 1 Axes>"
      ]
     },
     "metadata": {
      "needs_background": "light"
     },
     "output_type": "display_data"
    }
   ],
   "source": [
    "# plot the depth vs. magnitude\n",
    "\n",
    "df.plot(x='magnitude', y='depth', kind='scatter')"
   ]
  },
  {
   "cell_type": "code",
   "execution_count": 13,
   "metadata": {},
   "outputs": [
    {
     "name": "stdout",
     "output_type": "stream",
     "text": [
      "file saved\n"
     ]
    }
   ],
   "source": [
    "# save the dataframe to disk\n",
    "\n",
    "df.to_csv('usgs_earthquake_data.csv')\n",
    "\n",
    "print('file saved')"
   ]
  },
  {
   "cell_type": "code",
   "execution_count": 14,
   "metadata": {},
   "outputs": [
    {
     "name": "stdout",
     "output_type": "stream",
     "text": [
      "   magnitude   depth\n",
      "0        2.5    9.60\n",
      "1        2.9    0.00\n",
      "2        4.7  162.92\n",
      "3        5.7   27.36\n",
      "4        3.3    0.00\n"
     ]
    },
    {
     "name": "stderr",
     "output_type": "stream",
     "text": [
      "C:\\Users\\moni_\\Anaconda3\\lib\\site-packages\\ipykernel_launcher.py:3: FutureWarning: from_csv is deprecated. Please use read_csv(...) instead. Note that some of the default arguments are different, so please refer to the documentation for from_csv when changing your function calls\n",
      "  This is separate from the ipykernel package so we can avoid doing imports until\n"
     ]
    }
   ],
   "source": [
    "# read it back later\n",
    "\n",
    "new_df = pd.DataFrame.from_csv('usgs_earthquake_data.csv')\n",
    "\n",
    "print(new_df.head())"
   ]
  },
  {
   "cell_type": "code",
   "execution_count": null,
   "metadata": {},
   "outputs": [],
   "source": []
  },
  {
   "cell_type": "code",
   "execution_count": null,
   "metadata": {},
   "outputs": [],
   "source": []
  },
  {
   "cell_type": "code",
   "execution_count": null,
   "metadata": {},
   "outputs": [],
   "source": []
  },
  {
   "cell_type": "markdown",
   "metadata": {},
   "source": [
    "# Part 2: Querying an API endpoint\n",
    "\n",
    "### Google Maps Geocoding API\n",
    "\n",
    "Google has lots of APIs that let you access its services through code instead of through GUI apps. This one from Google Maps lets you look up the latitude-longitude coordinates of street addresses.\n",
    "\n",
    "It works similarly to the earthquakes example, but with query parameters added to the URL endpoint!\n",
    "\n",
    "**API documentation:**  \n",
    "https://developers.google.com/maps/documentation/geocoding/intro\n",
    "\n",
    "**API endpoint:**  \n",
    "https://maps.googleapis.com/maps/api/geocode/json\n",
    "\n",
    "**API endpoint with query parameters:**  \n",
    "https://maps.googleapis.com/maps/api/geocode/json?address=Wurster+Hall"
   ]
  },
  {
   "cell_type": "code",
   "execution_count": 15,
   "metadata": {},
   "outputs": [],
   "source": [
    "import json    # library for working with JSON-formatted text strings\n",
    "import requests  # library for accessing content from web URLs\n",
    "\n",
    "import pprint  # library for making Python data structures readable\n",
    "pp = pprint.PrettyPrinter()"
   ]
  },
  {
   "cell_type": "code",
   "execution_count": 16,
   "metadata": {},
   "outputs": [
    {
     "name": "stdout",
     "output_type": "stream",
     "text": [
      "https://maps.googleapis.com/maps/api/geocode/json?address=young+library+uky&key=\n"
     ]
    }
   ],
   "source": [
    "# we have to encode the search query so that it can be passed as a URL, \n",
    "# with spaces and other special characters removed\n",
    "\n",
    "endpoint = 'https://maps.googleapis.com/maps/api/geocode/json'\n",
    "\n",
    "params = {'address': 'young library uky','key':''}\n",
    "\n",
    "url = requests.Request('GET', endpoint, params=params).prepare().url\n",
    "print(url)"
   ]
  },
  {
   "cell_type": "code",
   "execution_count": 17,
   "metadata": {},
   "outputs": [
    {
     "name": "stdout",
     "output_type": "stream",
     "text": [
      "{'error_message': 'You must use an API key to authenticate each request to Google Maps Platform APIs. For additional information, please refer to http://g.co/dev/maps-no-account', 'results': [], 'status': 'REQUEST_DENIED'}\n"
     ]
    }
   ],
   "source": [
    "# download and parse the results\n",
    "\n",
    "response = requests.get(url)\n",
    "results = response.text\n",
    "data = json.loads(results)\n",
    "\n",
    "print(data)"
   ]
  },
  {
   "cell_type": "code",
   "execution_count": 18,
   "metadata": {},
   "outputs": [
    {
     "name": "stdout",
     "output_type": "stream",
     "text": [
      "{'error_message': 'You must use an API key to authenticate each request to '\n",
      "                  'Google Maps Platform APIs. For additional information, '\n",
      "                  'please refer to http://g.co/dev/maps-no-account',\n",
      " 'results': [],\n",
      " 'status': 'REQUEST_DENIED'}\n"
     ]
    }
   ],
   "source": [
    "# print it more nicely\n",
    "\n",
    "pp.pprint(data)"
   ]
  },
  {
   "cell_type": "code",
   "execution_count": 19,
   "metadata": {},
   "outputs": [],
   "source": [
    "# pull out the lat-lon coordinates\n",
    "\n",
    "for r in data['results']:\n",
    "    coords = r['geometry']['location']\n",
    "    print(coords['lat'], coords['lng'])"
   ]
  },
  {
   "cell_type": "markdown",
   "metadata": {},
   "source": [
    "### Exercises\n",
    "\n",
    "1. Search for some other addresses or landmarks!\n",
    "2. Take a look at the [API documentation](https://developers.google.com/maps/documentation/geocoding/intro). What are the usage limits?"
   ]
  },
  {
   "cell_type": "code",
   "execution_count": null,
   "metadata": {},
   "outputs": [],
   "source": []
  },
  {
   "cell_type": "code",
   "execution_count": null,
   "metadata": {},
   "outputs": [],
   "source": []
  },
  {
   "cell_type": "code",
   "execution_count": null,
   "metadata": {},
   "outputs": [],
   "source": []
  },
  {
   "cell_type": "markdown",
   "metadata": {},
   "source": [
    "# Part 3: Querying an API with authentication\n",
    "\n",
    "### Twitter REST APIs\n",
    "\n",
    "Twitter's APIs also operate over the web, but they require a back-and-forth authentication process at the beginning of each connection. It's easier to have a Python library handle this than to create the query URLs ourselves.\n",
    "\n",
    "The Twitter \"REST\" APIs perform stand-alone operations: you submit a query and receive results, like in earlier examples. ([REST](https://en.wikipedia.org/wiki/Representational_state_transfer) is a particular set of guidelines that many APIs follow.) Twitter also has a \"streaming\" API that continues sending results in real time until you disconnect.\n",
    "\n",
    "**API documentation:**  \n",
    "https://dev.twitter.com/rest/public  \n",
    "https://dev.twitter.com/overview/api/tweets\n",
    "\n",
    "**Documentation for the Python helper library**:  \n",
    "https://github.com/geduldig/TwitterAPI"
   ]
  },
  {
   "cell_type": "code",
   "execution_count": 20,
   "metadata": {},
   "outputs": [],
   "source": [
    "from TwitterAPI import TwitterAPI\n",
    "\n",
    "import pprint  # library for making Python data structures readable\n",
    "pp = pprint.PrettyPrinter()"
   ]
  },
  {
   "cell_type": "code",
   "execution_count": 21,
   "metadata": {},
   "outputs": [],
   "source": [
    "# import API credentials from keys.py file in the\n",
    "# same directory as this notebook\n",
    "\n",
    "from keys import *\n",
    "#navita.io for key"
   ]
  },
  {
   "cell_type": "code",
   "execution_count": 22,
   "metadata": {},
   "outputs": [
    {
     "name": "stdout",
     "output_type": "stream",
     "text": [
      "Connection is set up but not tested\n"
     ]
    }
   ],
   "source": [
    "# set up an API connection using credentials from the keys file\n",
    "\n",
    "api = TwitterAPI(consumer_key, consumer_secret, \n",
    "                 access_token, access_token_secret)\n",
    "\n",
    "print(\"Connection is set up but not tested\")"
   ]
  },
  {
   "cell_type": "markdown",
   "metadata": {},
   "source": [
    "### Making a simple data request"
   ]
  },
  {
   "cell_type": "code",
   "execution_count": 23,
   "metadata": {},
   "outputs": [
    {
     "name": "stdout",
     "output_type": "stream",
     "text": [
      "RT @KentuckyMBB: .@PJWashington is one of the top players in college basketball. It should come as no surprise then that he's a finalist fo…\n",
      "RT @KentuckyWBB: Everything you need to know about our run in the SEC Tournament: https://t.co/aLNC2I6xQF #poWEr https://t.co/VQ2OW4PcR1\n"
     ]
    }
   ],
   "source": [
    "# most recent tweet from @UCBerkeley's timeline\n",
    "\n",
    "endpoint = 'statuses/user_timeline'\n",
    "params = {\n",
    "    'screen_name': 'UKAthletics', \n",
    "    'count': 2\n",
    "}\n",
    "r = api.request(endpoint, params)\n",
    "\n",
    "for tweet in r.get_iterator():\n",
    "    print(tweet['text'])"
   ]
  },
  {
   "cell_type": "code",
   "execution_count": 24,
   "metadata": {},
   "outputs": [
    {
     "name": "stdout",
     "output_type": "stream",
     "text": [
      "{'contributors': None,\n",
      " 'coordinates': None,\n",
      " 'created_at': 'Thu Mar 07 17:58:17 +0000 2019',\n",
      " 'entities': {'hashtags': [{'indices': [106, 112], 'text': 'poWEr'}],\n",
      "              'symbols': [],\n",
      "              'urls': [{'display_url': 'ukathletics.com/secwomen',\n",
      "                        'expanded_url': 'http://ukathletics.com/secwomen',\n",
      "                        'indices': [82, 105],\n",
      "                        'url': 'https://t.co/aLNC2I6xQF'},\n",
      "                       {'display_url': 'twitter.com/kentuckywbb/st…',\n",
      "                        'expanded_url': 'https://twitter.com/kentuckywbb/status/1103398152965636097',\n",
      "                        'indices': [113, 136],\n",
      "                        'url': 'https://t.co/VQ2OW4PcR1'}],\n",
      "              'user_mentions': [{'id': 56402878,\n",
      "                                 'id_str': '56402878',\n",
      "                                 'indices': [3, 15],\n",
      "                                 'name': 'Kentucky WBB',\n",
      "                                 'screen_name': 'KentuckyWBB'}]},\n",
      " 'favorite_count': 0,\n",
      " 'favorited': False,\n",
      " 'geo': None,\n",
      " 'id': 1103716515197669376,\n",
      " 'id_str': '1103716515197669376',\n",
      " 'in_reply_to_screen_name': None,\n",
      " 'in_reply_to_status_id': None,\n",
      " 'in_reply_to_status_id_str': None,\n",
      " 'in_reply_to_user_id': None,\n",
      " 'in_reply_to_user_id_str': None,\n",
      " 'is_quote_status': True,\n",
      " 'lang': 'en',\n",
      " 'place': None,\n",
      " 'possibly_sensitive': False,\n",
      " 'quoted_status_id': 1103398152965636097,\n",
      " 'quoted_status_id_str': '1103398152965636097',\n",
      " 'retweet_count': 2,\n",
      " 'retweeted': False,\n",
      " 'retweeted_status': {'contributors': None,\n",
      "                      'coordinates': None,\n",
      "                      'created_at': 'Thu Mar 07 17:57:16 +0000 2019',\n",
      "                      'entities': {'hashtags': [{'indices': [89, 95],\n",
      "                                                 'text': 'poWEr'}],\n",
      "                                   'symbols': [],\n",
      "                                   'urls': [{'display_url': 'ukathletics.com/secwomen',\n",
      "                                             'expanded_url': 'http://ukathletics.com/secwomen',\n",
      "                                             'indices': [65, 88],\n",
      "                                             'url': 'https://t.co/aLNC2I6xQF'},\n",
      "                                            {'display_url': 'twitter.com/kentuckywbb/st…',\n",
      "                                             'expanded_url': 'https://twitter.com/kentuckywbb/status/1103398152965636097',\n",
      "                                             'indices': [96, 119],\n",
      "                                             'url': 'https://t.co/VQ2OW4PcR1'}],\n",
      "                                   'user_mentions': []},\n",
      "                      'favorite_count': 15,\n",
      "                      'favorited': False,\n",
      "                      'geo': None,\n",
      "                      'id': 1103716259160576000,\n",
      "                      'id_str': '1103716259160576000',\n",
      "                      'in_reply_to_screen_name': None,\n",
      "                      'in_reply_to_status_id': None,\n",
      "                      'in_reply_to_status_id_str': None,\n",
      "                      'in_reply_to_user_id': None,\n",
      "                      'in_reply_to_user_id_str': None,\n",
      "                      'is_quote_status': True,\n",
      "                      'lang': 'en',\n",
      "                      'place': None,\n",
      "                      'possibly_sensitive': False,\n",
      "                      'quoted_status': {'contributors': None,\n",
      "                                        'coordinates': None,\n",
      "                                        'created_at': 'Wed Mar 06 20:53:14 '\n",
      "                                                      '+0000 2019',\n",
      "                                        'entities': {'hashtags': [],\n",
      "                                                     'symbols': [],\n",
      "                                                     'urls': [{'display_url': 'twitter.com/i/web/status/1…',\n",
      "                                                               'expanded_url': 'https://twitter.com/i/web/status/1103398152965636097',\n",
      "                                                               'indices': [117,\n",
      "                                                                           140],\n",
      "                                                               'url': 'https://t.co/vTiXMsL0yz'}],\n",
      "                                                     'user_mentions': []},\n",
      "                                        'favorite_count': 58,\n",
      "                                        'favorited': False,\n",
      "                                        'geo': None,\n",
      "                                        'id': 1103398152965636097,\n",
      "                                        'id_str': '1103398152965636097',\n",
      "                                        'in_reply_to_screen_name': None,\n",
      "                                        'in_reply_to_status_id': None,\n",
      "                                        'in_reply_to_status_id_str': None,\n",
      "                                        'in_reply_to_user_id': None,\n",
      "                                        'in_reply_to_user_id_str': None,\n",
      "                                        'is_quote_status': False,\n",
      "                                        'lang': 'en',\n",
      "                                        'place': None,\n",
      "                                        'possibly_sensitive': False,\n",
      "                                        'retweet_count': 5,\n",
      "                                        'retweeted': False,\n",
      "                                        'source': '<a '\n",
      "                                                  'href=\"http://twitter.com\" '\n",
      "                                                  'rel=\"nofollow\">Twitter Web '\n",
      "                                                  'Client</a>',\n",
      "                                        'text': 'Our quarterfinal opponent is '\n",
      "                                                'still to be determined but '\n",
      "                                                'our focus heading into '\n",
      "                                                'postseason play is clear. We '\n",
      "                                                'begin o… '\n",
      "                                                'https://t.co/vTiXMsL0yz',\n",
      "                                        'truncated': True,\n",
      "                                        'user': {'contributors_enabled': False,\n",
      "                                                 'created_at': 'Mon Jul 13 '\n",
      "                                                               '15:36:47 +0000 '\n",
      "                                                               '2009',\n",
      "                                                 'default_profile': False,\n",
      "                                                 'default_profile_image': False,\n",
      "                                                 'description': 'Official '\n",
      "                                                                'Twitter '\n",
      "                                                                'account of '\n",
      "                                                                'the '\n",
      "                                                                'University of '\n",
      "                                                                'Kentucky '\n",
      "                                                                \"Women's \"\n",
      "                                                                'Basketball '\n",
      "                                                                'Team.',\n",
      "                                                 'entities': {'description': {'urls': []},\n",
      "                                                              'url': {'urls': [{'display_url': 'ukathletics.com',\n",
      "                                                                                'expanded_url': 'http://ukathletics.com',\n",
      "                                                                                'indices': [0,\n",
      "                                                                                            23],\n",
      "                                                                                'url': 'https://t.co/kMUdWRDbJ6'}]}},\n",
      "                                                 'favourites_count': 1618,\n",
      "                                                 'follow_request_sent': False,\n",
      "                                                 'followers_count': 40240,\n",
      "                                                 'following': False,\n",
      "                                                 'friends_count': 874,\n",
      "                                                 'geo_enabled': True,\n",
      "                                                 'has_extended_profile': False,\n",
      "                                                 'id': 56402878,\n",
      "                                                 'id_str': '56402878',\n",
      "                                                 'is_translation_enabled': False,\n",
      "                                                 'is_translator': False,\n",
      "                                                 'lang': 'en',\n",
      "                                                 'listed_count': 303,\n",
      "                                                 'location': 'Lexington, Ky.',\n",
      "                                                 'name': 'Kentucky WBB',\n",
      "                                                 'notifications': False,\n",
      "                                                 'profile_background_color': '9AE4E8',\n",
      "                                                 'profile_background_image_url': 'http://abs.twimg.com/images/themes/theme1/bg.png',\n",
      "                                                 'profile_background_image_url_https': 'https://abs.twimg.com/images/themes/theme1/bg.png',\n",
      "                                                 'profile_background_tile': True,\n",
      "                                                 'profile_banner_url': 'https://pbs.twimg.com/profile_banners/56402878/1539101026',\n",
      "                                                 'profile_image_url': 'http://pbs.twimg.com/profile_images/665229172667629568/2kOP_gIo_normal.jpg',\n",
      "                                                 'profile_image_url_https': 'https://pbs.twimg.com/profile_images/665229172667629568/2kOP_gIo_normal.jpg',\n",
      "                                                 'profile_link_color': '0084B4',\n",
      "                                                 'profile_sidebar_border_color': 'BDDCAD',\n",
      "                                                 'profile_sidebar_fill_color': 'DDFFCC',\n",
      "                                                 'profile_text_color': '333333',\n",
      "                                                 'profile_use_background_image': True,\n",
      "                                                 'protected': False,\n",
      "                                                 'screen_name': 'KentuckyWBB',\n",
      "                                                 'statuses_count': 18547,\n",
      "                                                 'time_zone': None,\n",
      "                                                 'translator_type': 'none',\n",
      "                                                 'url': 'https://t.co/kMUdWRDbJ6',\n",
      "                                                 'utc_offset': None,\n",
      "                                                 'verified': True}},\n",
      "                      'quoted_status_id': 1103398152965636097,\n",
      "                      'quoted_status_id_str': '1103398152965636097',\n",
      "                      'retweet_count': 2,\n",
      "                      'retweeted': False,\n",
      "                      'source': '<a href=\"http://twitter.com/download/iphone\" '\n",
      "                                'rel=\"nofollow\">Twitter for iPhone</a>',\n",
      "                      'text': 'Everything you need to know about our run in '\n",
      "                              'the SEC Tournament: https://t.co/aLNC2I6xQF '\n",
      "                              '#poWEr https://t.co/VQ2OW4PcR1',\n",
      "                      'truncated': False,\n",
      "                      'user': {'contributors_enabled': False,\n",
      "                               'created_at': 'Mon Jul 13 15:36:47 +0000 2009',\n",
      "                               'default_profile': False,\n",
      "                               'default_profile_image': False,\n",
      "                               'description': 'Official Twitter account of the '\n",
      "                                              \"University of Kentucky Women's \"\n",
      "                                              'Basketball Team.',\n",
      "                               'entities': {'description': {'urls': []},\n",
      "                                            'url': {'urls': [{'display_url': 'ukathletics.com',\n",
      "                                                              'expanded_url': 'http://ukathletics.com',\n",
      "                                                              'indices': [0,\n",
      "                                                                          23],\n",
      "                                                              'url': 'https://t.co/kMUdWRDbJ6'}]}},\n",
      "                               'favourites_count': 1618,\n",
      "                               'follow_request_sent': False,\n",
      "                               'followers_count': 40240,\n",
      "                               'following': False,\n",
      "                               'friends_count': 874,\n",
      "                               'geo_enabled': True,\n",
      "                               'has_extended_profile': False,\n",
      "                               'id': 56402878,\n",
      "                               'id_str': '56402878',\n",
      "                               'is_translation_enabled': False,\n",
      "                               'is_translator': False,\n",
      "                               'lang': 'en',\n",
      "                               'listed_count': 303,\n",
      "                               'location': 'Lexington, Ky.',\n",
      "                               'name': 'Kentucky WBB',\n",
      "                               'notifications': False,\n",
      "                               'profile_background_color': '9AE4E8',\n",
      "                               'profile_background_image_url': 'http://abs.twimg.com/images/themes/theme1/bg.png',\n",
      "                               'profile_background_image_url_https': 'https://abs.twimg.com/images/themes/theme1/bg.png',\n",
      "                               'profile_background_tile': True,\n",
      "                               'profile_banner_url': 'https://pbs.twimg.com/profile_banners/56402878/1539101026',\n",
      "                               'profile_image_url': 'http://pbs.twimg.com/profile_images/665229172667629568/2kOP_gIo_normal.jpg',\n",
      "                               'profile_image_url_https': 'https://pbs.twimg.com/profile_images/665229172667629568/2kOP_gIo_normal.jpg',\n",
      "                               'profile_link_color': '0084B4',\n",
      "                               'profile_sidebar_border_color': 'BDDCAD',\n",
      "                               'profile_sidebar_fill_color': 'DDFFCC',\n",
      "                               'profile_text_color': '333333',\n",
      "                               'profile_use_background_image': True,\n",
      "                               'protected': False,\n",
      "                               'screen_name': 'KentuckyWBB',\n",
      "                               'statuses_count': 18547,\n",
      "                               'time_zone': None,\n",
      "                               'translator_type': 'none',\n",
      "                               'url': 'https://t.co/kMUdWRDbJ6',\n",
      "                               'utc_offset': None,\n",
      "                               'verified': True}},\n",
      " 'source': '<a href=\"http://twitter.com/download/iphone\" '\n",
      "           'rel=\"nofollow\">Twitter for iPhone</a>',\n",
      " 'text': 'RT @KentuckyWBB: Everything you need to know about our run in the '\n",
      "         'SEC Tournament: https://t.co/aLNC2I6xQF #poWEr '\n",
      "         'https://t.co/VQ2OW4PcR1',\n",
      " 'truncated': False,\n",
      " 'user': {'contributors_enabled': False,\n",
      "          'created_at': 'Tue Mar 17 18:41:37 +0000 2009',\n",
      "          'default_profile': False,\n",
      "          'default_profile_image': False,\n",
      "          'description': 'The official Twitter account of the University of '\n",
      "                         'Kentucky Athletics Department. Facebook: Kentucky '\n",
      "                         'Wildcats; Instagram: ukathletics',\n",
      "          'entities': {'description': {'urls': []},\n",
      "                       'url': {'urls': [{'display_url': 'ukathletics.com',\n",
      "                                         'expanded_url': 'http://www.ukathletics.com/',\n",
      "                                         'indices': [0, 23],\n",
      "                                         'url': 'https://t.co/Zqcn6uhNdp'}]}},\n",
      "          'favourites_count': 4791,\n",
      "          'follow_request_sent': False,\n",
      "          'followers_count': 330018,\n",
      "          'following': False,\n",
      "          'friends_count': 869,\n",
      "          'geo_enabled': True,\n",
      "          'has_extended_profile': False,\n",
      "          'id': 24929053,\n",
      "          'id_str': '24929053',\n",
      "          'is_translation_enabled': False,\n",
      "          'is_translator': False,\n",
      "          'lang': 'en',\n",
      "          'listed_count': 1370,\n",
      "          'location': 'Lexington, Ky.',\n",
      "          'name': 'Kentucky Athletics',\n",
      "          'notifications': False,\n",
      "          'profile_background_color': '000738',\n",
      "          'profile_background_image_url': 'http://abs.twimg.com/images/themes/theme9/bg.gif',\n",
      "          'profile_background_image_url_https': 'https://abs.twimg.com/images/themes/theme9/bg.gif',\n",
      "          'profile_background_tile': False,\n",
      "          'profile_banner_url': 'https://pbs.twimg.com/profile_banners/24929053/1536335213',\n",
      "          'profile_image_url': 'http://pbs.twimg.com/profile_images/875802157605408769/-DftO40K_normal.jpg',\n",
      "          'profile_image_url_https': 'https://pbs.twimg.com/profile_images/875802157605408769/-DftO40K_normal.jpg',\n",
      "          'profile_link_color': '084AE7',\n",
      "          'profile_sidebar_border_color': 'FFFFFF',\n",
      "          'profile_sidebar_fill_color': 'FFFFFF',\n",
      "          'profile_text_color': '787878',\n",
      "          'profile_use_background_image': True,\n",
      "          'protected': False,\n",
      "          'screen_name': 'UKAthletics',\n",
      "          'statuses_count': 46985,\n",
      "          'time_zone': None,\n",
      "          'translator_type': 'none',\n",
      "          'url': 'https://t.co/Zqcn6uhNdp',\n",
      "          'utc_offset': None,\n",
      "          'verified': True}}\n"
     ]
    }
   ],
   "source": [
    "# what other data is there?\n",
    "\n",
    "pp.pprint(tweet)"
   ]
  },
  {
   "cell_type": "markdown",
   "metadata": {},
   "source": [
    "### Other API endpoints allow different types of searches"
   ]
  },
  {
   "cell_type": "code",
   "execution_count": 25,
   "metadata": {},
   "outputs": [
    {
     "name": "stdout",
     "output_type": "stream",
     "text": [
      "Eddie Gran explains why he turned down Georgia to stay at Kentucky https://t.co/67yh7QpAbO via @DerekSTerry #BBN https://t.co/GqT2INIhNw\n",
      "\n",
      "RT @EricThomas0523: Lol Will Wade. I pray this internal violation circus doesn’t affect your locker-room before we get our hands on you aga…\n",
      "\n",
      "New ILB coach Jon Sumrall says coaching at alma mater 'gives me a little extra juice' https://t.co/3FdEKO3cWn via… https://t.co/FsTBCdjdsV\n",
      "\n",
      "RT @JEdwar247: Cats offer three from California including the No. 3 player overall - https://t.co/GQoTexrYyF #BBN https://t.co/cslOrmGuTw\n",
      "\n",
      "Low pad level spring practice #3 in the books 📖 @ChristopherOats  #BBN #WILDCATS #Uk #supersophmore #DeuceDeuce https://t.co/RvtB4nuCSQ\n",
      "\n"
     ]
    }
   ],
   "source": [
    "# search for public tweets about #BBN\n",
    "\n",
    "endpoint = 'search/tweets'\n",
    "params = {\n",
    "    'q': '#BBN', \n",
    "    'count': 5\n",
    "}\n",
    "r = api.request(endpoint, params)\n",
    "\n",
    "for tweet in r.get_iterator():\n",
    "    print(tweet['text'] + '\\n')"
   ]
  },
  {
   "cell_type": "code",
   "execution_count": 26,
   "metadata": {},
   "outputs": [
    {
     "name": "stdout",
     "output_type": "stream",
     "text": [
      "@Hyounsuke খুবি ভয়ংকর\n",
      "\n",
      "নন্দিনী পাওয়ার ওমেন ক্যাম্পেইনে ভাইচার ও ফ্রি ডেলিভারি https://t.co/jWzYT3lWd1 https://t.co/w60Ugv9onL\n",
      "\n",
      "৭ই মার্চ ; বঙ্গবন্ধু ও বাংলাদেশ নিয়ে\n",
      "বাংলা টিভিতে Bangla Talk এ\n",
      "অন্যান্য অতিথিদের সাথে আমিও যখন\n",
      "দেখতে পারেন- (… https://t.co/K0Pf7cK4tO\n",
      "\n",
      "বঙ্গবন্ধুর ঐতিহাসিক ভাষণ স্বরণ ও শহীদদের প্রতি গভীর শ্রদ্ধা https://t.co/n0lcIlzG2O https://t.co/iIsIaig4gp\n",
      "\n",
      "সন্দ্বীপে উপজেলা আ.লীগের ঐতিহাসিক ৭মার্চ পালিত https://t.co/0VCrg0BdJc\n",
      "\n"
     ]
    }
   ],
   "source": [
    "# search for public tweets in bangla\n",
    "\n",
    "endpoint = 'search/tweets'\n",
    "params = {\n",
    "    'q': '*', \n",
    "    'lang': 'bn', \n",
    "    'count': 5\n",
    "} \n",
    "r = api.request(endpoint, params)\n",
    "\n",
    "for tweet in r.get_iterator():\n",
    "    print(tweet['text'] + '\\n')"
   ]
  },
  {
   "cell_type": "code",
   "execution_count": 27,
   "metadata": {},
   "outputs": [
    {
     "name": "stdout",
     "output_type": "stream",
     "text": [
      "@ColeBoyle3 hey lil buddy.... why ya hiding over there??? https://t.co/BwOBqgVenZ\n",
      "\n",
      "I would like to scream\n",
      "\n",
      "Students Make the Best Teachers! New BLOG! Students Make the Best Teachers  https://t.co/h4fau911BK\n",
      "\n",
      "I hope Dr. Everett McCorvey sings the national anthem Saturday at Rupp Arena. He would be perfect for UK Senior Day… https://t.co/4TVMbwQBS0\n",
      "\n",
      "Madama Butterfly 🦋\n",
      "#Opera #GNO @ Singletary Center for the Arts https://t.co/XgxZUlBBB5\n",
      "\n",
      "hbd justin bieber ( michael_rutherford_ ) hope you have the worst day ever cause you deserve it 🥴 swipe for a surpr… https://t.co/cKupMId15q\n",
      "\n",
      ".@universityofky can you please turn on the heat in the graduate student study? It's hard to write dissertations wi… https://t.co/bzFJSE26lc\n",
      "\n"
     ]
    }
   ],
   "source": [
    "# search for public tweets geotagged near the UK campus\n",
    "\n",
    "endpoint = 'search/tweets'\n",
    "params = {\n",
    "    'q': '*', \n",
    "    'geocode': '38.034,-84.500,0.5km', \n",
    "    'count': 10\n",
    "} \n",
    "r = api.request(endpoint, params)\n",
    "\n",
    "for tweet in r.get_iterator():\n",
    "    print(tweet['text'] + '\\n')"
   ]
  },
  {
   "cell_type": "markdown",
   "metadata": {},
   "source": [
    "### Exercises\n",
    "\n",
    "1. Try some different search queries!\n",
    "2. Display some more data fields in addition to the tweet text"
   ]
  },
  {
   "cell_type": "markdown",
   "metadata": {},
   "source": [
    "# Answer 1"
   ]
  },
  {
   "cell_type": "code",
   "execution_count": 28,
   "metadata": {},
   "outputs": [
    {
     "name": "stdout",
     "output_type": "stream",
     "text": [
      "Watch the #Oscar winning and #GoldenGlobe winning performance by #ReginaKing in #BarryJenkins If #BealeStreet Could… https://t.co/daZxOUz8UB\n",
      "\n",
      "RT @wsyx6: #WakandaForever\n",
      "\n",
      "The #Oscar for Best Original Score goes to @ludwiggoransson for @theblackpanther #Oscars #BlackPanther\n",
      "https://…\n",
      "\n",
      "RT @blkcreatives: After accepting his award from Sam + before telling the audience about our history + ancestors, #Oscar award-winning dire…\n",
      "\n",
      "Watch my #redcarpet #oscars2019 #interviews at the #warnerbros #estate. #Congrats to the short #film #skin on their… https://t.co/FqMVpFMvNT\n",
      "\n",
      "RT @filmmakerspod: Want to Make a Studio #IndieFilm ? Have a listen to this weeks podcast with  Hollywood #producer @JackBinder \n",
      "\n",
      "He tells…\n",
      "\n"
     ]
    }
   ],
   "source": [
    "# search for public tweets about #OSCAR in english\n",
    "\n",
    "endpoint = 'search/tweets'\n",
    "params = {\n",
    "    'q': '#OSCAR', \n",
    "    'count': 5,\n",
    "     'lang': 'en',\n",
    "}\n",
    "r = api.request(endpoint, params)\n",
    "\n",
    "for tweet in r.get_iterator():\n",
    "    print(tweet['text'] + '\\n')"
   ]
  },
  {
   "cell_type": "code",
   "execution_count": 29,
   "metadata": {},
   "outputs": [
    {
     "name": "stdout",
     "output_type": "stream",
     "text": [
      "সকল দেশের রানী সে যে-\n",
      "আমার জন্মভূমি....\n",
      "\n",
      "#আমার #অহংকার \n",
      "\n",
      "#আমার #বাংলাদেশ\n",
      "\n",
      "কে সে ? \n",
      "যে বলে আমরা (#বাংলাদেশ) আগাইনি?\n",
      "ভারত, পাকিস্তান আমাদের ফলো করে 🙄\n",
      "\n",
      "মেঠো পথ কি একেই বলে?! #বাংলাদেশ #BD #Rural #Village #Road #Trip https://t.co/HLUTttm4u9\n",
      "\n",
      "#বাংলাদেশ\n",
      "#ইপিআই\n",
      "#টিটি\n",
      "#টিডি\n",
      "বর্তমানে ব্যবহৃত টিটি টিকার ভায়াল শেষ হলে সম্প্রসারিত টিকাদান কর্মসূচি (ইপিআই)-এর নি… https://t.co/NV1D00STgq\n",
      "\n",
      "- ধর্ষণের সাজা....\n",
      "#বাংলাদেশ\n",
      "🚫 প্রতিবাদ\n",
      "🚫 ফেসবুক স্ট্যাটাস\n",
      "🚫 ধর্না\n",
      "🚫 তদন্ত\n",
      "🚫 সমঝোতার চেষ্টা\n",
      "🚫 ঘুষ দেওয়া\n",
      "🚫 ধমক-চমক… https://t.co/rAOmN1QF8S\n",
      "\n"
     ]
    }
   ],
   "source": [
    "# search for public tweets about #বাংলাদেশ in bangla\n",
    "endpoint = 'search/tweets'\n",
    "params = {\n",
    "    'q': '#বাংলাদেশ', \n",
    "    'lang': 'bn', \n",
    "    'count': 5\n",
    "} \n",
    "r = api.request(endpoint, params)\n",
    "\n",
    "for tweet in r.get_iterator():\n",
    "    print(tweet['text'] + '\\n')"
   ]
  },
  {
   "cell_type": "markdown",
   "metadata": {},
   "source": [
    "# Answer 2"
   ]
  },
  {
   "cell_type": "code",
   "execution_count": 30,
   "metadata": {},
   "outputs": [
    {
     "name": "stdout",
     "output_type": "stream",
     "text": [
      "⭐️PROPERTY OF THE WEEK⭐️\n",
      "This week, get prepared for #spring with a #peaceful break to the quaint and quiet Sealsba… https://t.co/dNcU2eZhcJ\n",
      "\n",
      "RT @DaemenResLife: Residence Halls close Saturday the 9th @ 10 AM for Spring Break!! Have a safe break! Res halls re-open on the 17th at 10…\n",
      "\n",
      "We are weeks away from the first day of #spring. Now is the time to start thinking about #springbreak - check out o… https://t.co/ZCHrq5AF5O\n",
      "\n",
      "Yes! Enjoy #Spring Break but be safe. And don’t pass out in your contact lenses! https://t.co/Io1GRAiZ9n\n",
      "\n",
      "Almost time to break out those skirts for spring 2019.\n",
      "\n",
      "#spring\n",
      "#springtime\n",
      "#skirts\n",
      "\n",
      "https://t.co/71NIKQuXNZ https://t.co/8QgpzNUyRT\n",
      "\n"
     ]
    }
   ],
   "source": [
    "# more data fields\n",
    "\n",
    "endpoint = 'search/tweets'\n",
    "params = {\n",
    "    'q': '#spring break',\n",
    "    'location': 'University of Kentucky, Lexington, KY',\n",
    "    'count': 5\n",
    "} \n",
    "r = api.request(endpoint, params)\n",
    "\n",
    "for tweet in r.get_iterator():\n",
    "    print(tweet['text'] + '\\n')"
   ]
  },
  {
   "cell_type": "code",
   "execution_count": 36,
   "metadata": {},
   "outputs": [
    {
     "name": "stdout",
     "output_type": "stream",
     "text": [
      "If u want to capture her vintage heart n soul , surrender yours. -Joseph colombrita #💞💫 #vintage #vintagesoul… https://t.co/glkPbcwmVB\n",
      "\n",
      "RT @Madonna: 😂😂 #stella #estere #dance #happy @Pharrell https://t.co/N6xtwjOH9n\n",
      "\n",
      "RT @4AMShower: Rainy days. Today’s smile goal: hold an umbrella up. 🦖🦊🐇 Support me making these comics at https://t.co/xoU612ZiFo :)\n",
      "\n",
      "#happ…\n",
      "\n",
      "Our beautiful babies😍 @VenturaIzaiah  Throwback Thursday❤  #tbt #ourbabies #kids #momlife #dadlife #happy #blessed… https://t.co/AbHjQCOGuJ\n",
      "\n"
     ]
    }
   ],
   "source": [
    "# more data fields\n",
    "endpoint = 'search/tweets'\n",
    "params = {\n",
    "    'q': '#happy',\n",
    "    'date': '3/7/2019',\n",
    "    'count': 5\n",
    "} \n",
    "r = api.request(endpoint, params)\n",
    "\n",
    "for tweet in r.get_iterator():\n",
    "    print(tweet['text'] + '\\n')"
   ]
  },
  {
   "cell_type": "markdown",
   "metadata": {},
   "source": [
    "### Bonus: Streaming live tweets in real time "
   ]
  },
  {
   "cell_type": "code",
   "execution_count": 32,
   "metadata": {},
   "outputs": [
    {
     "name": "stdout",
     "output_type": "stream",
     "text": [
      "Thu Mar 07 19:04:12 +0000 2019\n",
      "Krabi, Thailand, Thailand\n",
      "ใจเทอมันบางเกิน\n",
      "\n",
      "Thu Mar 07 19:04:12 +0000 2019\n",
      "Campina Grande, Brasil, Brasil\n",
      "@BrunoHenriqueff Que baixa\n",
      "\n",
      "Thu Mar 07 19:04:12 +0000 2019\n",
      "La Ligua, Chile, Chile\n",
      "Láminas táctiles de sala para dioramas y murales de la #exposiciónpermanente #museolaligua #proyecto… https://t.co/RjIOpaxiEL\n",
      "\n",
      "Thu Mar 07 19:04:12 +0000 2019\n",
      "São Paulo, Brasil, Brasil\n",
      "@FrutillitaDulc1 Gracias\n",
      "\n",
      "Thu Mar 07 19:04:12 +0000 2019\n",
      "La Plata, Argentina, Argentina\n",
      "@marianoobarrio @MalenaStein @salvinamusica O sea: usted está planteando que es mas ético generar un niñe gravement… https://t.co/NgyLZuqe1V\n",
      "\n",
      "Thu Mar 07 19:04:12 +0000 2019\n",
      "İstanbul, Türkiye, Türkiye\n",
      "Ne acıdır ki şu manzara Türkiyemizde artık olmuyor  🤔😥😣\n",
      "\n",
      "Thu Mar 07 19:04:12 +0000 2019\n",
      "Easton, MD, United States\n",
      "@nikki_widen love you ❤️❤️\n",
      "\n",
      "Thu Mar 07 19:04:12 +0000 2019\n",
      "Digoin, France, France\n",
      "si tu savais à quel point je te déteste tu serais a quel point je t'aime\n",
      "\n",
      "Thu Mar 07 19:04:12 +0000 2019\n",
      "São Gonçalo, Brasil, Brasil\n",
      "[7/3 15:52] ~Milena Cruz.🌻: A internet  caiu\n",
      "[7/3 16:00] ~Milena Cruz.🌻: Liga p  o cr\n",
      "[7/3 16:00] ~Milena Cruz.🌻: A… https://t.co/UkwZIQMMiI\n",
      "\n",
      "Thu Mar 07 19:04:12 +0000 2019\n",
      "Le Pontet, France, France\n",
      "@fetavie 😂😂😂\n",
      "\n",
      "Thu Mar 07 19:04:12 +0000 2019\n",
      "Teylingen, Nederland, Nederland\n",
      "https://t.co/L2HYzuHX7U I miss this the behind the scene video's, #TBT\n",
      "\n",
      "Thu Mar 07 19:04:12 +0000 2019\n",
      "Santiago de Surco, Peru, Peru\n",
      "Creo que ya me llego al pincho quemarmeeee\n",
      "\n",
      "Thu Mar 07 19:04:12 +0000 2019\n",
      "Ituzaingó Centro, Argentina, Argentina\n",
      "Todos los que no me creían ahora quieren hacer una oferta\n",
      "\n",
      "Thu Mar 07 19:04:12 +0000 2019\n",
      "Clarkston, WA, United States\n",
      "What I got in my email @darrenwearmouth  and @jamessmurray https://t.co/zqOZ6KI99Z\n",
      "\n",
      "Thu Mar 07 19:04:12 +0000 2019\n",
      "Dayton, OH, United States\n",
      "ما يسولف بـ ظهرك الا إلي انت كاسر عينه 💯\n",
      "\n",
      "Thu Mar 07 19:04:12 +0000 2019\n",
      "Port Elizabeth, South Africa, South Africa\n",
      "Bitter Taste of Orange arrived today. I have a personal experience with the author. He was my teacher, my inspirati… https://t.co/8aZTuW8GxE\n",
      "\n",
      "Thu Mar 07 19:04:12 +0000 2019\n",
      "Orlando, FL, United States\n",
      "😱😱😱❤ @ Orlando, Florida https://t.co/lmseZImQjQ\n",
      "\n",
      "Thu Mar 07 19:04:12 +0000 2019\n",
      "Guadalajara, Jalisco, México\n",
      "Ya m había olvidado de esta súper rola: https://t.co/OJ4zbgMovR\n",
      "\n",
      "Thu Mar 07 19:04:12 +0000 2019\n",
      "Chesapeake, VA, United States\n",
      "@deegayass ☺️❤️\n",
      "\n",
      "Thu Mar 07 19:04:12 +0000 2019\n",
      "Rocha, Uruguay, Uruguay\n",
      "Decile a el payaso de  @colowolman que es un cobarde. Me bloqueó solo de incapaz en debatir o confrontar \n",
      "Es un tra… https://t.co/ZXNCGrM6qC\n",
      "\n",
      "Thu Mar 07 19:04:12 +0000 2019\n",
      "Belford Roxo, Brasil, Brasil\n",
      "sou bisneta de índia, se eu, um dia, me \"fantasia\" e alguém vir de mimimi, vou dar um porrada\n",
      "\n",
      "Thu Mar 07 19:04:12 +0000 2019\n",
      "Castelfranco Emilia, Emilia Romagna, Italia\n",
      "Euse ... mi dispiace tanto @MisterDiFra\n",
      "\n"
     ]
    }
   ],
   "source": [
    "# Twitter limits simultaneous connections to the streaming API,\n",
    "# so this part may not work using the demo API keys during class\n",
    "\n",
    "endpoint = 'statuses/filter'\n",
    "params = {'locations': '-180,-90,180,90'}\n",
    "r = api.request(endpoint, params)\n",
    "LIMIT = 20\n",
    "\n",
    "# 'enumerate' lets us count tweets as we receive them\n",
    "\n",
    "for i, tweet in enumerate(r.get_iterator()):\n",
    "    print(tweet['created_at'])\n",
    "    print(tweet['place']['full_name'] + ', ' + tweet['place']['country'])\n",
    "    print(tweet['text'] + '\\n')\n",
    "    if (i > LIMIT): break\n",
    "\n",
    "# close the streaming connection\n",
    "r.close()"
   ]
  },
  {
   "cell_type": "code",
   "execution_count": null,
   "metadata": {},
   "outputs": [],
   "source": []
  },
  {
   "cell_type": "code",
   "execution_count": null,
   "metadata": {},
   "outputs": [],
   "source": []
  },
  {
   "cell_type": "code",
   "execution_count": null,
   "metadata": {},
   "outputs": [],
   "source": []
  },
  {
   "cell_type": "markdown",
   "metadata": {},
   "source": [
    "### Exercises for the remainder of class\n",
    "\n",
    "1. Make a scatter plot of the lat-lon coordinates of earthquakes.  \n",
    "   &nbsp;\n",
    "   \n",
    "2. Using the geocoding example as a starting point, try searching the Google Maps Directions API or Elevation API instead. Descriptions are in the [API documentation](https://developers.google.com/maps/documentation/geocoding/intro).  \n",
    "   &nbsp;\n",
    "   "
   ]
  },
  {
   "cell_type": "markdown",
   "metadata": {},
   "source": [
    "# Answer 1"
   ]
  },
  {
   "cell_type": "code",
   "execution_count": 33,
   "metadata": {},
   "outputs": [
    {
     "name": "stdout",
     "output_type": "stream",
     "text": [
      "294\n"
     ]
    }
   ],
   "source": [
    "# pull out magnitudes and depths into a Pandas dataframe, using\n",
    "# a more compact Python syntax for iterating through lists\n",
    "\n",
    "d = {'lat': [q['geometry']['coordinates'][0] for q in quakes],\n",
    "     'long': [q['geometry']['coordinates'][1] for q in quakes]}\n",
    "\n",
    "df = pd.DataFrame.from_dict(d)\n",
    "\n",
    "# how many earthquakes were loaded into the dataframe?\n",
    "print(len(df))"
   ]
  },
  {
   "cell_type": "code",
   "execution_count": 34,
   "metadata": {},
   "outputs": [
    {
     "data": {
      "text/html": [
       "<div>\n",
       "<style scoped>\n",
       "    .dataframe tbody tr th:only-of-type {\n",
       "        vertical-align: middle;\n",
       "    }\n",
       "\n",
       "    .dataframe tbody tr th {\n",
       "        vertical-align: top;\n",
       "    }\n",
       "\n",
       "    .dataframe thead th {\n",
       "        text-align: right;\n",
       "    }\n",
       "</style>\n",
       "<table border=\"1\" class=\"dataframe\">\n",
       "  <thead>\n",
       "    <tr style=\"text-align: right;\">\n",
       "      <th></th>\n",
       "      <th>lat</th>\n",
       "      <th>long</th>\n",
       "    </tr>\n",
       "  </thead>\n",
       "  <tbody>\n",
       "    <tr>\n",
       "      <th>0</th>\n",
       "      <td>-144.3616</td>\n",
       "      <td>69.4288</td>\n",
       "    </tr>\n",
       "    <tr>\n",
       "      <th>1</th>\n",
       "      <td>-157.2174</td>\n",
       "      <td>66.3299</td>\n",
       "    </tr>\n",
       "    <tr>\n",
       "      <th>2</th>\n",
       "      <td>-164.8113</td>\n",
       "      <td>54.7878</td>\n",
       "    </tr>\n",
       "    <tr>\n",
       "      <th>3</th>\n",
       "      <td>-178.3749</td>\n",
       "      <td>-32.5605</td>\n",
       "    </tr>\n",
       "    <tr>\n",
       "      <th>4</th>\n",
       "      <td>-157.2005</td>\n",
       "      <td>66.2474</td>\n",
       "    </tr>\n",
       "  </tbody>\n",
       "</table>\n",
       "</div>"
      ],
      "text/plain": [
       "        lat     long\n",
       "0 -144.3616  69.4288\n",
       "1 -157.2174  66.3299\n",
       "2 -164.8113  54.7878\n",
       "3 -178.3749 -32.5605\n",
       "4 -157.2005  66.2474"
      ]
     },
     "execution_count": 34,
     "metadata": {},
     "output_type": "execute_result"
    }
   ],
   "source": [
    "df.head()"
   ]
  },
  {
   "cell_type": "code",
   "execution_count": 35,
   "metadata": {},
   "outputs": [
    {
     "data": {
      "text/plain": [
       "<matplotlib.axes._subplots.AxesSubplot at 0x1ef665d1780>"
      ]
     },
     "execution_count": 35,
     "metadata": {},
     "output_type": "execute_result"
    },
    {
     "data": {
      "image/png": "[encoded data removed]",
      "text/plain": [
       "<Figure size 432x288 with 1 Axes>"
      ]
     },
     "metadata": {
      "needs_background": "light"
     },
     "output_type": "display_data"
    }
   ],
   "source": [
    "# plot the lat vs. long\n",
    "\n",
    "df.plot(x='long', y='lat', kind='scatter')"
   ]
  },
  {
   "cell_type": "code",
   "execution_count": null,
   "metadata": {},
   "outputs": [],
   "source": []
  },
  {
   "cell_type": "code",
   "execution_count": null,
   "metadata": {},
   "outputs": [],
   "source": []
  },
  {
   "cell_type": "markdown",
   "metadata": {
    "collapsed": true
   },
   "source": [
    "### For next time...\n",
    "\n",
    "In the next class, you will try out another API that provides data you're interested in. You will be asked to try connecting to it using Python code, and performing some basic operations on the data.  To come prepared for next time, please explore some of the transportation-related APIs that may be valuable, and choose one that is of interest to you.\n",
    "\n",
    "Here are a a few to get you started. \n",
    "\n",
    "Public Transit\n",
    "https://www.programmableweb.com/news/how-smart-cities-are-using-apis-public-transport-apis/2014/05/22\n",
    "\n",
    "Long-Distance Travel\n",
    "http://www.olery.com/blog/the-best-travel-apis-discover-contribute/ \n",
    "\n",
    "Transportation\n",
    "https://www.programmableweb.com/category/transportation/api\n",
    "\n",
    "\n",
    "Start by reading the public transit page, because that provides a nice overview of the types of applications out there, and some of the issues in using them.  These lessons often apply to traffic and transportation more generally.  \n",
    "\n",
    "Keep in mind that there are a number of different organizations that provide APIs, with different motivations and quality of what is provided.  If it is a private company, what is their business model?  What is the underlying source of the data, and what might that imply about how representative it is of the real world?  There is a ton of stuff out there.  How do we go about sorting out what is useful to us and what is now.  Spend some time exploring these and thinking about these questions.  \n"
   ]
  },
  {
   "cell_type": "code",
   "execution_count": null,
   "metadata": {},
   "outputs": [],
   "source": []
  },
  {
   "cell_type": "code",
   "execution_count": null,
   "metadata": {},
   "outputs": [],
   "source": []
  }
 ],
 "metadata": {
  "anaconda-cloud": {},
  "kernelspec": {
   "display_name": "Python 3",
   "language": "python",
   "name": "python3"
  },
  "language_info": {
   "codemirror_mode": {
    "name": "ipython",
    "version": 3
   },
   "file_extension": ".py",
   "mimetype": "text/x-python",
   "name": "python",
   "nbconvert_exporter": "python",
   "pygments_lexer": "ipython3",
   "version": "3.7.0"
  }
 },
 "nbformat": 4,
 "nbformat_minor": 1
}
