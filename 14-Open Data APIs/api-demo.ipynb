{
 "cells": [
  {
   "cell_type": "markdown",
   "metadata": {},
   "source": [
    "# Working with Data APIs\n",
    "\n",
    "**Adapted from: Sam Maurer // maurer@berkeley.edu // Oct. 3, 2016**\n",
    "\n",
    "This notebook provides a demonstration of data-access APIs that operate over the web. See README.md for setup instructions.\n",
    "\n",
    "In Part 1, we'll load and parse results from an API feed of earthquake data.  \n",
    "In Part 2, we'll add query parameters to the workflow, using the Google Maps Geolocation API as an example.  \n",
    "In Part 3, we'll use an authenticated API to query public Twitter posts. "
   ]
  },
  {
   "cell_type": "markdown",
   "metadata": {},
   "source": [
    "# Part 1: Reading from an automated data feed\n",
    "\n",
    "### USGS real-time earthquake feeds\n",
    "\n",
    "This is an API for near-real-time data about earthquakes. Data is provided in JSON format over the web. No authentication is needed, and there's no way to customize the output. Instead, the API has a separate endpoint for each permutation of the data that users might want.\n",
    "\n",
    "**API documentation:**  \n",
    "http://earthquake.usgs.gov/earthquakes/feed/v1.0/geojson.php\n",
    "\n",
    "**Sample API endpoint, for magnitude 4.5+ earthquakes in past day:**  \n",
    "http://earthquake.usgs.gov/earthquakes/feed/v1.0/summary/4.5_day.geojson  \n"
   ]
  },
  {
   "cell_type": "code",
   "execution_count": 1,
   "metadata": {},
   "outputs": [],
   "source": [
    "%matplotlib inline\n",
    "\n",
    "import pandas as pd\n",
    "\n",
    "import json    # library for working with JSON-formatted text strings\n",
    "import requests  # library for accessing content from web URLs\n",
    "\n",
    "import pprint  # library for making Python data structures readable\n",
    "pp = pprint.PrettyPrinter()"
   ]
  },
  {
   "cell_type": "code",
   "execution_count": 2,
   "metadata": {},
   "outputs": [
    {
     "name": "stdout",
     "output_type": "stream",
     "text": [
      "<class 'str'>\n"
     ]
    }
   ],
   "source": [
    "# download data on magnitude 2.5+ quakes from the past week\n",
    "\n",
    "endpoint_url = \"http://earthquake.usgs.gov/earthquakes/feed/v1.0/summary/2.5_week.geojson\"\n",
    "response = requests.get(endpoint_url)\n",
    "results = response.text\n",
    "\n",
    "# what is the data type of the results?\n",
    "print(type(results))"
   ]
  },
  {
   "cell_type": "code",
   "execution_count": 3,
   "metadata": {},
   "outputs": [
    {
     "name": "stdout",
     "output_type": "stream",
     "text": [
      "<Response [200]>\n"
     ]
    }
   ],
   "source": [
    "print(response)"
   ]
  },
  {
   "cell_type": "code",
   "execution_count": 4,
   "metadata": {},
   "outputs": [
    {
     "name": "stdout",
     "output_type": "stream",
     "text": [
      "{\"type\":\"FeatureCollection\",\"metadata\":{\"generated\":1551915653000,\"url\":\"https://earthquake.usgs.gov/earthquakes/feed/v1.0/summary/2.5_week.geojson\",\"title\":\"USGS Magnitude 2.5+ Earthquakes, Past Week\",\"status\":200,\"api\":\"1.7.0\",\"count\":290},\"features\":[{\"type\":\"Feature\",\"properties\":{\"mag\":2.9,\"place\":\"71km SSW of Kobuk, Alaska\",\"time\":1551915198531,\"updated\":1551915581128,\"tz\":-540,\"url\":\"https://earthquake.usgs.gov/earthquakes/eventpage/ak0192zvtn3t\",\"detail\":\"https://earthquake.usgs.gov/eart\n"
     ]
    }
   ],
   "source": [
    "# print the first 500 characters to see a sample of the data\n",
    "\n",
    "print(results[:500])"
   ]
  },
  {
   "cell_type": "code",
   "execution_count": 5,
   "metadata": {},
   "outputs": [
    {
     "name": "stdout",
     "output_type": "stream",
     "text": [
      "<class 'dict'>\n"
     ]
    }
   ],
   "source": [
    "# it looks like the results are a string with JSON-formatted data inside\n",
    "\n",
    "# parse the string into a Python dictionary\n",
    "data = json.loads(results)\n",
    "\n",
    "print(type(data))"
   ]
  },
  {
   "cell_type": "code",
   "execution_count": 6,
   "metadata": {},
   "outputs": [
    {
     "name": "stdout",
     "output_type": "stream",
     "text": [
      "{'type': 'Feature', 'properties': {'mag': 2.9, 'place': '71km SSW of Kobuk, Alaska', 'time': 1551915198531, 'updated': 1551915581128, 'tz': -540, 'url': 'https://earthquake.usgs.gov/earthquakes/eventpage/ak0192zvtn3t', 'detail': 'https://earthquake.usgs.gov/earthquakes/feed/v1.0/detail/ak0192zvtn3t.geojson', 'felt': None, 'cdi': None, 'mmi': None, 'alert': None, 'status': 'automatic', 'tsunami': 0, 'sig': 129, 'net': 'ak', 'code': '0192zvtn3t', 'ids': ',ak0192zvtn3t,', 'sources': ',ak,', 'types': ',geoserve,origin,', 'nst': None, 'dmin': None, 'rms': 0.82, 'gap': None, 'magType': 'ml', 'type': 'earthquake', 'title': 'M 2.9 - 71km SSW of Kobuk, Alaska'}, 'geometry': {'type': 'Point', 'coordinates': [-157.225, 66.2829, 0]}, 'id': 'ak0192zvtn3t'}\n"
     ]
    }
   ],
   "source": [
    "# print the most recent quake\n",
    "\n",
    "quakes = data['features']\n",
    "print(quakes[0])"
   ]
  },
  {
   "cell_type": "code",
   "execution_count": 7,
   "metadata": {},
   "outputs": [
    {
     "name": "stdout",
     "output_type": "stream",
     "text": [
      "{'coordinates': [-157.225, 66.2829, 0], 'type': 'Point'}\n",
      "{'alert': None,\n",
      " 'cdi': None,\n",
      " 'code': '0192zvtn3t',\n",
      " 'detail': 'https://earthquake.usgs.gov/earthquakes/feed/v1.0/detail/ak0192zvtn3t.geojson',\n",
      " 'dmin': None,\n",
      " 'felt': None,\n",
      " 'gap': None,\n",
      " 'ids': ',ak0192zvtn3t,',\n",
      " 'mag': 2.9,\n",
      " 'magType': 'ml',\n",
      " 'mmi': None,\n",
      " 'net': 'ak',\n",
      " 'nst': None,\n",
      " 'place': '71km SSW of Kobuk, Alaska',\n",
      " 'rms': 0.82,\n",
      " 'sig': 129,\n",
      " 'sources': ',ak,',\n",
      " 'status': 'automatic',\n",
      " 'time': 1551915198531,\n",
      " 'title': 'M 2.9 - 71km SSW of Kobuk, Alaska',\n",
      " 'tsunami': 0,\n",
      " 'type': 'earthquake',\n",
      " 'types': ',geoserve,origin,',\n",
      " 'tz': -540,\n",
      " 'updated': 1551915581128,\n",
      " 'url': 'https://earthquake.usgs.gov/earthquakes/eventpage/ak0192zvtn3t'}\n"
     ]
    }
   ],
   "source": [
    "# print it more clearly\n",
    "#1st quake\n",
    "pp.pprint(quakes[0]['geometry'])\n",
    "pp.pprint(quakes[0]['properties'])"
   ]
  },
  {
   "cell_type": "code",
   "execution_count": 8,
   "metadata": {},
   "outputs": [
    {
     "name": "stdout",
     "output_type": "stream",
     "text": [
      "M 2.9 - 71km SSW of Kobuk, Alaska\n",
      "M 3.1 - 78km SSW of Kobuk, Alaska\n",
      "M 2.6 - 74km SSW of Kobuk, Alaska\n",
      "M 3.3 - 64km SSW of Kobuk, Alaska\n",
      "M 5.1 - 139km SE of L'Esperance Rock, New Zealand\n",
      "M 5.2 - 68km SSW of Kobuk, Alaska\n",
      "M 4.7 - 165km SW of Al Qunfidhah, Saudi Arabia\n",
      "M 2.5 - 7km NE of Harper, Kansas\n",
      "M 5.7 - 139km SE of L'Esperance Rock, New Zealand\n",
      "M 5.0 - 161km SSW of Al Qunfidhah, Saudi Arabia\n",
      "M 5.0 - Volcano Islands, Japan region\n",
      "M 4.9 - 40km S of Ofunato, Japan\n",
      "M 2.8 - 229km SE of Kodiak, Alaska\n",
      "M 5.6 - 15km NNE of Ambunti, Papua New Guinea\n",
      "M 4.0 - 29km SSE of Ofunato, Japan\n",
      "M 2.6 - 16km NNE of Coalgate, Oklahoma\n",
      "M 2.7 - 33km WNW of Kobuk, Alaska\n",
      "M 2.5 - 17km NNW of Anchorage, Alaska\n",
      "M 4.7 - 99km W of Nikol'skoye, Russia\n",
      "M 2.9 - 290km ESE of Kodiak, Alaska\n",
      "M 5.0 - 105km ESE of L'Esperance Rock, New Zealand\n",
      "M 6.4 - 116km SE of L'Esperance Rock, New Zealand\n",
      "M 3.0 - 2km WSW of Vega Baja, Puerto Rico\n",
      "M 5.1 - 230km NNW of Tobelo, Indonesia\n",
      "M 4.3 - 38km ESE of Savannah Bight, Honduras\n",
      "M 2.7 - 17km SSW of Big Lake, Alaska\n",
      "M 4.1 - 122km SW of Mapastepec, Mexico\n",
      "M 4.3 - 119km SW of Kiska Volcano, Alaska\n",
      "M 4.7 - 134km WNW of Tobelo, Indonesia\n",
      "M 2.5 - 48km N of Valdez, Alaska\n",
      "M 2.6 - 63km NNE of Isabela, Puerto Rico\n",
      "M 5.6 - West Chile Rise\n",
      "M 2.8 - 27km WSW of Anchor Point, Alaska\n",
      "M 3.0 - 27km NNE of Punta Cana, Dominican Republic\n",
      "M 3.2 - 135km NNE of Vieques, Puerto Rico\n",
      "M 3.4 - 174km NNE of Road Town, British Virgin Islands\n",
      "M 4.7 - 61km SW of Ile Hunter, New Caledonia\n",
      "M 5.3 - Bouvet Island region\n",
      "M 2.5 - 26km SSW of Esperanza, Puerto Rico\n",
      "M 3.3 - 55km W of Anchor Point, Alaska\n",
      "M 4.5 - 1km NE of Barranquilla, Colombia\n",
      "M 3.3 - 8km E of La Romana, Dominican Republic\n",
      "M 3.3 - 29km NNE of Sutton-Alpine, Alaska\n",
      "M 2.9 - 76km NNW of San Antonio, Puerto Rico\n",
      "M 5.7 - 69km ENE of Hinatuan, Philippines\n",
      "M 4.4 - 10km NNW of Tunapuna, Trinidad and Tobago\n",
      "M 3.0 - 143km SE of Akutan, Alaska\n",
      "M 3.0 - 14km NE of Miches, Dominican Republic\n",
      "M 4.8 - 82km N of Oxapampa, Peru\n",
      "M 2.7 - 77km SW of Kaktovik, Alaska\n",
      "M 4.9 - 63km SW of Puerto Madero, Mexico\n",
      "M 3.4 - 7km NE of Maynardville, Tennessee\n",
      "M 2.9 - 11km SE of Punta Cana, Dominican Republic\n",
      "M 4.8 - 94km ENE of Amahai, Indonesia\n",
      "M 3.2 - 48km SE of Boca de Yuma, Dominican Republic\n",
      "M 4.5 - 85km E of Ndoi Island, Fiji\n",
      "M 4.6 - 55km SW of Puerto Madero, Mexico\n",
      "M 2.7 - 64km N of Tierras Nuevas Poniente, Puerto Rico\n",
      "M 4.2 - 39km SW of Puerto Madero, Mexico\n",
      "M 4.1 - 3km NNW of Grebocice, Poland\n",
      "M 4.4 - 43km WNW of Coquimbo, Chile\n",
      "M 5.4 - 76km WSW of Puerto Madero, Mexico\n",
      "M 4.4 - 42km W of `Alaqahdari-ye Kiran wa Munjan, Afghanistan\n",
      "M 3.4 - 70km S of Kobuk, Alaska\n",
      "M 4.2 - 46km WSW of Tual, Indonesia\n",
      "M 3.5 - 258km SE of Kodiak, Alaska\n",
      "M 4.8 - 64km SW of Puerto Madero, Mexico\n",
      "M 5.1 - 60km SW of Buldir Island, Alaska\n",
      "M 4.8 - 62km SW of Puerto Madero, Mexico\n",
      "M 2.9 - 8km WSW of Ely, Nevada\n",
      "M 2.8 - 72km SW of Redoubt Volcano, Alaska\n",
      "M 2.6 - 116km W of Petrolia, CA\n",
      "M 4.0 - Izu Islands, Japan region\n",
      "M 2.5 - 1km S of Bluffdale, Utah\n",
      "M 3.8 - 121km SSE of Yunaska Island, Alaska\n",
      "M 2.5 - 52km N of Culebra, Puerto Rico\n",
      "M 4.6 - 137km WSW of Banda Aceh, Indonesia\n",
      "M 2.7 - 54km SE of Punta Cana, Dominican Republic\n",
      "M 2.9 - 127km NNE of Vieques, Puerto Rico\n",
      "M 2.9 - 65km SSW of Kobuk, Alaska\n",
      "M 2.6 - 89km S of Kodiak Station, Alaska\n",
      "M 2.8 - 91km SSW of Kaktovik, Alaska\n",
      "M 4.5 - 150km NW of Olonkinbyen, Svalbard and Jan Mayen\n",
      "M 2.6 - 1km NW of Manhattan, Montana\n",
      "M 2.8 - 71km WSW of Alberto Oviedo Mota, B.C., MX\n",
      "M 4.4 - 57km ENE of Malili, Indonesia\n",
      "M 4.5 - 57km NNE of Yanqi, China\n",
      "M 2.9 - 67km SSW of Kobuk, Alaska\n",
      "M 2.9 - 7km N of Cuero, Texas\n",
      "M 2.5 - 14km N of Anchorage, Alaska\n",
      "M 4.8 - 44km ENE of Malili, Indonesia\n",
      "M 4.5 - 57km N of Dove Creek, Colorado\n",
      "M 3.3 - 64km ENE of Old Faithful Geyser, Wyoming\n",
      "M 4.4 - 29km NE of Madang, Papua New Guinea\n",
      "M 4.2 - 65km SW of Santiago Pinotepa Nacional, Mexico\n",
      "M 4.4 - 28km ENE of Madang, Papua New Guinea\n",
      "M 4.6 - 24km WNW of Ust'-Barguzin, Russia\n",
      "M 3.8 - 9km NW of Red Deer, Canada\n",
      "M 4.8 - 46km E of Madang, Papua New Guinea\n",
      "M 4.5 - 40km WNW of Pisco, Peru\n",
      "M 5.9 - 43km E of Madang, Papua New Guinea\n",
      "M 2.7 - 41km SSE of Pecos, Texas\n",
      "M 2.6 - 13km NNW of Alderson, West Virginia\n",
      "M 4.4 - 71km SSW of Sand Point, Alaska\n",
      "M 4.8 - 69km NNW of Visokoi Island, South Georgia and the South Sandwich Islands\n",
      "M 4.0 - 28km N of Melipilla, Chile\n",
      "M 2.7 - 67km ENE of Road Town, British Virgin Islands\n",
      "M 2.5 - 26km E of Honaunau-Napoopoo, Hawaii\n",
      "M 3.4 - 110km N of Road Town, British Virgin Islands\n",
      "M 3.4 - 129km N of Vieques, Puerto Rico\n",
      "M 3.0 - 80km N of Charlotte Amalie, U.S. Virgin Islands\n",
      "M 4.6 - 142km ENE of Neiafu, Tonga\n",
      "M 2.9 - 58km NNW of Road Town, British Virgin Islands\n",
      "M 2.8 - 68km WSW of Tok, Alaska\n",
      "M 4.6 - 49km NE of Palue, Indonesia\n",
      "M 2.5 - 6km ENE of Salina, Kansas\n",
      "M 2.8 - 90km NE of Tanana, Alaska\n",
      "M 2.6 - 100km NE of Circle, Alaska\n",
      "M 3.4 - 64km NNW of Road Town, British Virgin Islands\n",
      "M 2.9 - 38km ESE of Punta Cana, Dominican Republic\n",
      "M 2.6 - 11km SE of Leilani Estates, Hawaii\n",
      "M 4.4 - 60km NNE of Palue, Indonesia\n",
      "M 4.6 - 3km S of Asuncion Ixtaltepec, Mexico\n",
      "M 4.2 - 124km SE of Pondaguitan, Philippines\n",
      "M 3.0 - 14km SW of Enterprise, Utah\n",
      "M 2.5 - 1km SSW of Bayamon, Puerto Rico\n",
      "M 2.8 - 86km W of Petrolia, CA\n",
      "M 4.9 - 34km WNW of Zirandaro, Mexico\n",
      "M 3.1 - 6km WSW of Lower Lake, CA\n",
      "M 4.2 - 275km SE of Kodiak, Alaska\n",
      "M 2.9 - 68km SSW of Kobuk, Alaska\n",
      "M 4.9 - 55km W of Kasiguncu, Indonesia\n",
      "M 5.4 - 127km NE of L'Esperance Rock, New Zealand\n",
      "M 2.8 - 292km SE of Kodiak, Alaska\n",
      "M 2.8 - 41km NNW of Currant, Nevada\n",
      "M 3.4 - 299km SE of Kodiak, Alaska\n",
      "M 2.5 - 29km N of San Antonio, Puerto Rico\n",
      "M 2.7 - 43km NNW of Currant, Nevada\n",
      "M 4.3 - 32km SSE of Pucallpa, Peru\n",
      "M 2.6 - 79km NE of Miches, Dominican Republic\n",
      "M 4.5 - 25km NNW of Gandava, Pakistan\n",
      "M 3.8 - 8km WSW of Marigot, Saint Martin\n",
      "M 2.5 - 7km NE of Georgetown, Ohio\n",
      "M 2.7 - 4km NE of Waikoloa, Hawaii\n",
      "M 2.8 - 32km SSW of Butte, Alaska\n",
      "M 4.5 - 24km E of Pamandzi, Mayotte\n",
      "M 2.9 - 12km SSE of Volcano, Hawaii\n",
      "M 4.3 - 54km SSW of Masachapa, Nicaragua\n",
      "M 4.2 - 52km NNW of Atka, Alaska\n",
      "M 4.4 - 172km SSE of Sinabang, Indonesia\n",
      "M 2.5 - 51km SSE of King Salmon, Alaska\n",
      "M 2.7 - 41km WNW of Rincon, Puerto Rico\n",
      "M 3.5 - 28km E of Karibib, Namibia\n",
      "M 3.2 - 84km NNW of Charlotte Amalie, U.S. Virgin Islands\n",
      "M 2.6 - 75km S of Kobuk, Alaska\n",
      "M 2.9 - 10km NNW of Cholame, CA\n",
      "M 5.5 - 94km W of San Antonio, Chile\n",
      "M 2.7 - 2km WNW of Manhattan, Montana\n",
      "M 5.6 - 21km NW of Davila, Philippines\n",
      "M 2.5 - 149km NE of Nome, Alaska\n",
      "M 4.9 - 225km NNW of Farallon de Pajaros, Northern Mariana Islands\n",
      "M 3.0 - 124km S of Boca de Yuma, Dominican Republic\n",
      "M 5.3 - Izu Islands, Japan region\n",
      "M 2.7 - 63km SSW of Kaktovik, Alaska\n",
      "M 2.6 - 20km NNW of Brenas, Puerto Rico\n",
      "M 4.1 - 119km SSW of George Town, Cayman Islands\n",
      "M 4.8 - 69km NNW of Alotau, Papua New Guinea\n",
      "M 4.3 - 100km SE of San Felipe, Mexico\n",
      "M 2.8 - 134km ESE of Akutan, Alaska\n",
      "M 2.8 - 14km SW of Cherokee, Oklahoma\n",
      "M 3.1 - 76km NNW of San Antonio, Puerto Rico\n",
      "M 2.8 - 43km WNW of Petrolia, CA\n",
      "M 4.3 - 50km NNE of Kerman, Iran\n",
      "M 2.9 - 51km N of Isabela, Puerto Rico\n",
      "M 2.7 - 20km W of Petrolia, CA\n",
      "M 3.1 - 169km S of False Pass, Alaska\n",
      "M 2.8 - 13km SE of Road Town, British Virgin Islands\n",
      "M 4.6 - 183km NE of Kuril'sk, Russia\n",
      "M 4.5 - 85km W of San Antonio, Chile\n",
      "M 2.9 - 114km NNW of Arctic Village, Alaska\n",
      "M 4.9 - Northern Mid-Atlantic Ridge\n",
      "M 3.8 - 21km W of Petrolia, CA\n",
      "M 2.5 - 50km N of San Juan, Puerto Rico\n",
      "M 3.4 - 78km N of Charlotte Amalie, U.S. Virgin Islands\n",
      "M 6.0 - 191km SE of Nemuro, Japan\n",
      "M 2.6 - 16km WSW of Enterprise, Utah\n",
      "M 5.2 - 80km SSE of Panguna, Papua New Guinea\n",
      "M 2.6 - 8km SSE of Ridgely, Tennessee\n",
      "M 2.9 - 116km N of San Juan, Puerto Rico\n",
      "M 3.9 - 19km WSW of Valparaiso, Chile\n",
      "M 2.5 - 72km SSW of Kaktovik, Alaska\n",
      "M 3.2 - 114km ENE of Chernabura Island, Alaska\n",
      "M 4.5 - Owen Fracture Zone region\n",
      "M 2.8 - 246km SE of Kodiak, Alaska\n",
      "M 3.1 - 123km NNW of Arctic Village, Alaska\n",
      "M 4.8 - Izu Islands, Japan region\n",
      "M 2.8 - 76km N of San Juan, Puerto Rico\n",
      "M 4.6 - 114km N of Lanos, Indonesia\n",
      "M 4.8 - South of the Fiji Islands\n",
      "M 5.2 - 45km W of Ovalle, Chile\n",
      "M 2.5 - 12km S of Tres Pinos, CA\n",
      "M 3.2 - 262km SE of Kodiak, Alaska\n",
      "M 3.7 - 274km SSE of Kodiak, Alaska\n",
      "M 4.4 - 37km ESE of Hitachi, Japan\n",
      "M 4.6 - 2km WNW of Comillas Norte, Philippines\n",
      "M 4.2 - 214km NW of Attu Station, Alaska\n",
      "M 2.8 - 18km NW of Anchorage, Alaska\n",
      "M 4.8 - 212km N of Sola, Vanuatu\n",
      "M 2.5 - 84km WSW of Cordova, Alaska\n",
      "M 2.6 - 85km W of Willow, Alaska\n",
      "M 2.7 - 70km E of Sutton-Alpine, Alaska\n",
      "M 4.2 - 32km NE of Calama, Chile\n",
      "M 4.4 - 232km WNW of Saumlaki, Indonesia\n",
      "M 4.9 - 50km E of Santiago, Philippines\n",
      "M 7.0 - 27km NNE of Azangaro, Peru\n",
      "M 2.6 - 29km SE of Boca de Yuma, Dominican Republic\n",
      "M 4.7 - 101km SSW of Porgera, Papua New Guinea\n",
      "M 2.6 - 130km NW of Talkeetna, Alaska\n",
      "M 2.8 - 264km ESE of Kodiak, Alaska\n",
      "M 3.1 - 16km NNW of Anchorage, Alaska\n",
      "M 4.0 - 21km WSW of Silvassa, India\n",
      "M 3.3 - 277km SE of Kodiak, Alaska\n",
      "M 2.6 - 103km NE of Punta Cana, Dominican Republic\n",
      "M 4.8 - 5km W of Soweto, South Africa\n",
      "M 3.0 - 221km ESE of Kodiak, Alaska\n",
      "M 2.5 - 14km E of Petrolia, CA\n",
      "M 4.2 - 271km ESE of Kodiak, Alaska\n",
      "M 3.3 - 282km ESE of Kodiak, Alaska\n",
      "M 2.5 - 62km SSW of Kaktovik, Alaska\n",
      "M 4.5 - 63km WSW of San Juan del Sur, Nicaragua\n",
      "M 2.7 - 0km N of Big Lake, Alaska\n",
      "M 2.7 - 77km SSW of Kobuk, Alaska\n",
      "M 4.5 - 7km N of Berlin, El Salvador\n",
      "M 2.9 - 61km SSW of Kaktovik, Alaska\n",
      "M 5.8 - 125km NNE of Macquarie Island, Australia\n",
      "M 5.2 - 41km SSW of Sarangani, Philippines\n",
      "M 4.0 - 26km NNW of Ishkashim, Tajikistan\n",
      "M 2.6 - 2km ESE of Rose Lodge, Oregon\n",
      "M 2.9 - 37km WSW of Old Iliamna, Alaska\n",
      "M 3.1 - 11km NW of Edmond, Oklahoma\n"
     ]
    },
    {
     "name": "stdout",
     "output_type": "stream",
     "text": [
      "M 5.5 - 37km SSE of Suncho Corral, Argentina\n",
      "M 2.7 - 42km NNW of Culebra, Puerto Rico\n",
      "M 3.2 - 218km W of Bandon, Oregon\n",
      "M 2.6 - 21km NW of Garland, Utah\n",
      "M 2.8 - 32km NE of Cantwell, Alaska\n",
      "M 4.6 - 50km SW of Severo-Kuril'sk, Russia\n",
      "M 4.8 - 31km ESE of Tarata, Peru\n",
      "M 4.9 - 12km SE of Lithakia, Greece\n",
      "M 5.1 - 163km NE of Gisborne, New Zealand\n",
      "M 4.8 - 37km WSW of Chonchi, Chile\n",
      "M 4.6 - 110km NE of Nago, Japan\n",
      "M 2.8 - 5km NE of La Plaine, Dominica\n",
      "M 2.6 - 101km S of Unalaska, Alaska\n",
      "M 3.0 - 76km SSW of Kobuk, Alaska\n",
      "M 3.5 - 209km NNW of Wainwright, Alaska\n",
      "M 4.4 - 180km ESE of Enarotali, Indonesia\n",
      "M 2.8 - 19km N of Arecibo, Puerto Rico\n",
      "M 3.6 - 35km ENE of Alamosa East, Colorado\n",
      "M 4.8 - 93km ESE of Muara Siberut, Indonesia\n",
      "M 2.7 - 11km SSE of Volcano, Hawaii\n",
      "M 4.5 - Reykjanes Ridge\n",
      "M 2.9 - 108km SSW of Kaktovik, Alaska\n",
      "M 2.9 - 58km W of Petrolia, CA\n",
      "M 3.1 - 51km SSW of Goldfield, Nevada\n",
      "M 2.8 - 51km SSW of Goldfield, Nevada\n",
      "M 3.1 - 127km NNE of San Juan, Puerto Rico\n",
      "M 3.2 - 134km NNE of Vieques, Puerto Rico\n",
      "M 3.6 - 139km N of Road Town, British Virgin Islands\n",
      "M 2.9 - 17km ESE of Julian, CA\n",
      "M 4.4 - 230km NNW of Saumlaki, Indonesia\n",
      "M 4.4 - 201km N of Siglufjordur, Iceland\n",
      "M 4.4 - 197km N of Siglufjordur, Iceland\n",
      "M 2.8 - 20km ENE of Little Lake, CA\n",
      "M 4.7 - 12km ENE of Labuhankananga, Indonesia\n",
      "M 2.9 - 97km SSE of Boca de Yuma, Dominican Republic\n",
      "M 4.5 - 65km ESE of Caburan, Philippines\n",
      "M 4.7 - 105km ESE of Mohean, India\n",
      "M 4.6 - 79km WNW of San Antonio de los Cobres, Argentina\n",
      "M 2.8 - 41km NNE of Road Town, British Virgin Islands\n",
      "M 3.8 - 30km ENE of Alamosa East, Colorado\n",
      "M 2.9 - 64km SE of Punta Cana, Dominican Republic\n",
      "M 3.4 - 15km W of Perry, Oklahoma\n",
      "M 2.5 - 59km NNE of Vieques, Puerto Rico\n",
      "M 4.5 - 28km E of Lata, Solomon Islands\n",
      "M 3.3 - 65km SSW of Kaktovik, Alaska\n",
      "M 4.7 - 79km SW of Tugu Hilir, Indonesia\n",
      "M 4.4 - 14km NNW of Kizukuri, Japan\n",
      "M 2.5 - 19km W of Perry, Oklahoma\n",
      "M 5.0 - 140km ESE of Mohean, India\n",
      "M 2.7 - 3km NW of Punta Cana, Dominican Republic\n"
     ]
    }
   ],
   "source": [
    "# pull out the title from each earthquake listing\n",
    "\n",
    "for q in quakes:\n",
    "    print(q['properties']['title'])"
   ]
  },
  {
   "cell_type": "code",
   "execution_count": 34,
   "metadata": {},
   "outputs": [
    {
     "name": "stdout",
     "output_type": "stream",
     "text": [
      "290\n"
     ]
    }
   ],
   "source": [
    "# pull out magnitudes and depths into a Pandas dataframe, using\n",
    "# a more compact Python syntax for iterating through lists\n",
    "\n",
    "d = {'magnitude': [q['properties']['mag'] for q in quakes],\n",
    "     'depth': [q['geometry']['coordinates'][2] for q in quakes]}\n",
    "\n",
    "df = pd.DataFrame.from_dict(d)\n",
    "\n",
    "# how many earthquakes were loaded into the dataframe?\n",
    "print(len(df))"
   ]
  },
  {
   "cell_type": "code",
   "execution_count": 35,
   "metadata": {},
   "outputs": [
    {
     "name": "stdout",
     "output_type": "stream",
     "text": [
      "   magnitude  depth\n",
      "0        2.9    0.0\n",
      "1        3.1   13.4\n",
      "2        2.6    5.4\n",
      "3        3.3   24.4\n",
      "4        5.1   10.0\n"
     ]
    }
   ],
   "source": [
    "# print the first few lines of data\n",
    "#depth in meter\n",
    "\n",
    "print(df.head())"
   ]
  },
  {
   "cell_type": "code",
   "execution_count": 11,
   "metadata": {},
   "outputs": [
    {
     "name": "stdout",
     "output_type": "stream",
     "text": [
      "        magnitude       depth\n",
      "count  290.000000  290.000000\n",
      "mean     3.687138   46.608828\n",
      "std      0.996499   78.864885\n",
      "min      2.450000   -0.450000\n",
      "25%      2.800000   10.000000\n",
      "50%      3.360000   17.435000\n",
      "75%      4.500000   57.000000\n",
      "max      7.000000  573.630000\n"
     ]
    }
   ],
   "source": [
    "# print some descriptive statistics\n",
    "\n",
    "print(df.describe())"
   ]
  },
  {
   "cell_type": "code",
   "execution_count": 12,
   "metadata": {},
   "outputs": [
    {
     "data": {
      "text/plain": [
       "<matplotlib.axes._subplots.AxesSubplot at 0x1c7a474ce48>"
      ]
     },
     "execution_count": 12,
     "metadata": {},
     "output_type": "execute_result"
    },
    {
     "data": {
      "image/png": "[encoded data removed]",
      "text/plain": [
       "<Figure size 432x288 with 1 Axes>"
      ]
     },
     "metadata": {
      "needs_background": "light"
     },
     "output_type": "display_data"
    }
   ],
   "source": [
    "# plot the depth vs. magnitude\n",
    "\n",
    "df.plot(x='magnitude', y='depth', kind='scatter')"
   ]
  },
  {
   "cell_type": "code",
   "execution_count": 13,
   "metadata": {},
   "outputs": [
    {
     "name": "stdout",
     "output_type": "stream",
     "text": [
      "file saved\n"
     ]
    }
   ],
   "source": [
    "# save the dataframe to disk\n",
    "\n",
    "df.to_csv('usgs_earthquake_data.csv')\n",
    "\n",
    "print('file saved')"
   ]
  },
  {
   "cell_type": "code",
   "execution_count": 14,
   "metadata": {},
   "outputs": [
    {
     "name": "stdout",
     "output_type": "stream",
     "text": [
      "   magnitude  depth\n",
      "0        2.9    0.0\n",
      "1        3.1   13.4\n",
      "2        2.6    5.4\n",
      "3        3.3   24.4\n",
      "4        5.1   10.0\n"
     ]
    },
    {
     "name": "stderr",
     "output_type": "stream",
     "text": [
      "C:\\Users\\moni_\\Anaconda3\\lib\\site-packages\\ipykernel_launcher.py:3: FutureWarning: from_csv is deprecated. Please use read_csv(...) instead. Note that some of the default arguments are different, so please refer to the documentation for from_csv when changing your function calls\n",
      "  This is separate from the ipykernel package so we can avoid doing imports until\n"
     ]
    }
   ],
   "source": [
    "# read it back later\n",
    "\n",
    "new_df = pd.DataFrame.from_csv('usgs_earthquake_data.csv')\n",
    "\n",
    "print(new_df.head())"
   ]
  },
  {
   "cell_type": "code",
   "execution_count": null,
   "metadata": {},
   "outputs": [],
   "source": []
  },
  {
   "cell_type": "code",
   "execution_count": null,
   "metadata": {},
   "outputs": [],
   "source": []
  },
  {
   "cell_type": "code",
   "execution_count": null,
   "metadata": {},
   "outputs": [],
   "source": []
  },
  {
   "cell_type": "markdown",
   "metadata": {},
   "source": [
    "# Part 2: Querying an API endpoint\n",
    "\n",
    "### Google Maps Geocoding API\n",
    "\n",
    "Google has lots of APIs that let you access its services through code instead of through GUI apps. This one from Google Maps lets you look up the latitude-longitude coordinates of street addresses.\n",
    "\n",
    "It works similarly to the earthquakes example, but with query parameters added to the URL endpoint!\n",
    "\n",
    "**API documentation:**  \n",
    "https://developers.google.com/maps/documentation/geocoding/intro\n",
    "\n",
    "**API endpoint:**  \n",
    "https://maps.googleapis.com/maps/api/geocode/json\n",
    "\n",
    "**API endpoint with query parameters:**  \n",
    "https://maps.googleapis.com/maps/api/geocode/json?address=Wurster+Hall"
   ]
  },
  {
   "cell_type": "code",
   "execution_count": 15,
   "metadata": {},
   "outputs": [],
   "source": [
    "import json    # library for working with JSON-formatted text strings\n",
    "import requests  # library for accessing content from web URLs\n",
    "\n",
    "import pprint  # library for making Python data structures readable\n",
    "pp = pprint.PrettyPrinter()"
   ]
  },
  {
   "cell_type": "code",
   "execution_count": 16,
   "metadata": {},
   "outputs": [
    {
     "name": "stdout",
     "output_type": "stream",
     "text": [
      "https://maps.googleapis.com/maps/api/geocode/json?address=young+library+uky&key=\n"
     ]
    }
   ],
   "source": [
    "# we have to encode the search query so that it can be passed as a URL, \n",
    "# with spaces and other special characters removed\n",
    "\n",
    "endpoint = 'https://maps.googleapis.com/maps/api/geocode/json'\n",
    "\n",
    "params = {'address': 'young library uky','key':''}\n",
    "\n",
    "url = requests.Request('GET', endpoint, params=params).prepare().url\n",
    "print(url)"
   ]
  },
  {
   "cell_type": "code",
   "execution_count": 17,
   "metadata": {},
   "outputs": [
    {
     "name": "stdout",
     "output_type": "stream",
     "text": [
      "{'error_message': 'You must use an API key to authenticate each request to Google Maps Platform APIs. For additional information, please refer to http://g.co/dev/maps-no-account', 'results': [], 'status': 'REQUEST_DENIED'}\n"
     ]
    }
   ],
   "source": [
    "# download and parse the results\n",
    "\n",
    "response = requests.get(url)\n",
    "results = response.text\n",
    "data = json.loads(results)\n",
    "\n",
    "print(data)"
   ]
  },
  {
   "cell_type": "code",
   "execution_count": 18,
   "metadata": {},
   "outputs": [
    {
     "name": "stdout",
     "output_type": "stream",
     "text": [
      "{'error_message': 'You must use an API key to authenticate each request to '\n",
      "                  'Google Maps Platform APIs. For additional information, '\n",
      "                  'please refer to http://g.co/dev/maps-no-account',\n",
      " 'results': [],\n",
      " 'status': 'REQUEST_DENIED'}\n"
     ]
    }
   ],
   "source": [
    "# print it more nicely\n",
    "\n",
    "pp.pprint(data)"
   ]
  },
  {
   "cell_type": "code",
   "execution_count": 19,
   "metadata": {},
   "outputs": [],
   "source": [
    "# pull out the lat-lon coordinates\n",
    "\n",
    "for r in data['results']:\n",
    "    coords = r['geometry']['location']\n",
    "    print(coords['lat'], coords['lng'])"
   ]
  },
  {
   "cell_type": "markdown",
   "metadata": {},
   "source": [
    "### Exercises\n",
    "\n",
    "1. Search for some other addresses or landmarks!\n",
    "2. Take a look at the [API documentation](https://developers.google.com/maps/documentation/geocoding/intro). What are the usage limits?"
   ]
  },
  {
   "cell_type": "code",
   "execution_count": null,
   "metadata": {},
   "outputs": [],
   "source": []
  },
  {
   "cell_type": "code",
   "execution_count": null,
   "metadata": {},
   "outputs": [],
   "source": []
  },
  {
   "cell_type": "code",
   "execution_count": null,
   "metadata": {},
   "outputs": [],
   "source": []
  },
  {
   "cell_type": "markdown",
   "metadata": {},
   "source": [
    "# Part 3: Querying an API with authentication\n",
    "\n",
    "### Twitter REST APIs\n",
    "\n",
    "Twitter's APIs also operate over the web, but they require a back-and-forth authentication process at the beginning of each connection. It's easier to have a Python library handle this than to create the query URLs ourselves.\n",
    "\n",
    "The Twitter \"REST\" APIs perform stand-alone operations: you submit a query and receive results, like in earlier examples. ([REST](https://en.wikipedia.org/wiki/Representational_state_transfer) is a particular set of guidelines that many APIs follow.) Twitter also has a \"streaming\" API that continues sending results in real time until you disconnect.\n",
    "\n",
    "**API documentation:**  \n",
    "https://dev.twitter.com/rest/public  \n",
    "https://dev.twitter.com/overview/api/tweets\n",
    "\n",
    "**Documentation for the Python helper library**:  \n",
    "https://github.com/geduldig/TwitterAPI"
   ]
  },
  {
   "cell_type": "code",
   "execution_count": 20,
   "metadata": {},
   "outputs": [],
   "source": [
    "from TwitterAPI import TwitterAPI\n",
    "\n",
    "import pprint  # library for making Python data structures readable\n",
    "pp = pprint.PrettyPrinter()"
   ]
  },
  {
   "cell_type": "code",
   "execution_count": 21,
   "metadata": {},
   "outputs": [],
   "source": [
    "# import API credentials from keys.py file in the\n",
    "# same directory as this notebook\n",
    "\n",
    "from keys import *\n",
    "#navita.io for key"
   ]
  },
  {
   "cell_type": "code",
   "execution_count": 22,
   "metadata": {},
   "outputs": [
    {
     "name": "stdout",
     "output_type": "stream",
     "text": [
      "Connection is set up but not tested\n"
     ]
    }
   ],
   "source": [
    "# set up an API connection using credentials from the keys file\n",
    "\n",
    "api = TwitterAPI(consumer_key, consumer_secret, \n",
    "                 access_token, access_token_secret)\n",
    "\n",
    "print(\"Connection is set up but not tested\")"
   ]
  },
  {
   "cell_type": "markdown",
   "metadata": {},
   "source": [
    "### Making a simple data request"
   ]
  },
  {
   "cell_type": "code",
   "execution_count": 36,
   "metadata": {},
   "outputs": [
    {
     "name": "stdout",
     "output_type": "stream",
     "text": [
      "RT @KentuckyMBB: #BBN, it's not too late to join. Exclusive content that you won't find anywhere else. Directions ⤵️ https://t.co/ichzpiMD8m\n",
      "RT @UKSwimDive: Party of nine. \n",
      "\n",
      "😼🎟🏊‍♀️\n",
      "\n",
      "#LockedIn https://t.co/2CR1gOIRRx\n"
     ]
    }
   ],
   "source": [
    "# most recent tweet from @UCBerkeley's timeline\n",
    "\n",
    "endpoint = 'statuses/user_timeline'\n",
    "params = {\n",
    "    'screen_name': 'UKAthletics', \n",
    "    'count': 2\n",
    "}\n",
    "r = api.request(endpoint, params)\n",
    "\n",
    "for tweet in r.get_iterator():\n",
    "    print(tweet['text'])"
   ]
  },
  {
   "cell_type": "code",
   "execution_count": 24,
   "metadata": {},
   "outputs": [
    {
     "name": "stdout",
     "output_type": "stream",
     "text": [
      "{'contributors': None,\n",
      " 'coordinates': None,\n",
      " 'created_at': 'Wed Mar 06 22:20:10 +0000 2019',\n",
      " 'entities': {'hashtags': [{'indices': [17, 21], 'text': 'BBN'}],\n",
      "              'symbols': [],\n",
      "              'urls': [{'display_url': 'twitter.com/KentuckyMBB/st…',\n",
      "                        'expanded_url': 'https://twitter.com/KentuckyMBB/status/1087141644867112961',\n",
      "                        'indices': [117, 140],\n",
      "                        'url': 'https://t.co/ichzpiMD8m'}],\n",
      "              'user_mentions': [{'id': 35583547,\n",
      "                                 'id_str': '35583547',\n",
      "                                 'indices': [3, 15],\n",
      "                                 'name': 'Kentucky Basketball',\n",
      "                                 'screen_name': 'KentuckyMBB'}]},\n",
      " 'favorite_count': 0,\n",
      " 'favorited': False,\n",
      " 'geo': None,\n",
      " 'id': 1103420031386435586,\n",
      " 'id_str': '1103420031386435586',\n",
      " 'in_reply_to_screen_name': None,\n",
      " 'in_reply_to_status_id': None,\n",
      " 'in_reply_to_status_id_str': None,\n",
      " 'in_reply_to_user_id': None,\n",
      " 'in_reply_to_user_id_str': None,\n",
      " 'is_quote_status': True,\n",
      " 'lang': 'en',\n",
      " 'place': None,\n",
      " 'possibly_sensitive': False,\n",
      " 'quoted_status_id': 1087141644867112961,\n",
      " 'quoted_status_id_str': '1087141644867112961',\n",
      " 'retweet_count': 31,\n",
      " 'retweeted': False,\n",
      " 'retweeted_status': {'contributors': None,\n",
      "                      'coordinates': None,\n",
      "                      'created_at': 'Wed Mar 06 22:19:55 +0000 2019',\n",
      "                      'entities': {'hashtags': [{'indices': [0, 4],\n",
      "                                                 'text': 'BBN'}],\n",
      "                                   'symbols': [],\n",
      "                                   'urls': [{'display_url': 'twitter.com/KentuckyMBB/st…',\n",
      "                                             'expanded_url': 'https://twitter.com/KentuckyMBB/status/1087141644867112961',\n",
      "                                             'indices': [100, 123],\n",
      "                                             'url': 'https://t.co/ichzpiMD8m'}],\n",
      "                                   'user_mentions': []},\n",
      "                      'favorite_count': 118,\n",
      "                      'favorited': False,\n",
      "                      'geo': None,\n",
      "                      'id': 1103419966936760320,\n",
      "                      'id_str': '1103419966936760320',\n",
      "                      'in_reply_to_screen_name': None,\n",
      "                      'in_reply_to_status_id': None,\n",
      "                      'in_reply_to_status_id_str': None,\n",
      "                      'in_reply_to_user_id': None,\n",
      "                      'in_reply_to_user_id_str': None,\n",
      "                      'is_quote_status': True,\n",
      "                      'lang': 'en',\n",
      "                      'place': None,\n",
      "                      'possibly_sensitive': False,\n",
      "                      'quoted_status': {'contributors': None,\n",
      "                                        'coordinates': None,\n",
      "                                        'created_at': 'Mon Jan 21 00:15:40 '\n",
      "                                                      '+0000 2019',\n",
      "                                        'entities': {'hashtags': [{'indices': [0,\n",
      "                                                                               4],\n",
      "                                                                   'text': 'BBN'}],\n",
      "                                                     'symbols': [],\n",
      "                                                     'urls': [{'display_url': 'twitter.com/i/web/status/1…',\n",
      "                                                               'expanded_url': 'https://twitter.com/i/web/status/1087141644867112961',\n",
      "                                                               'indices': [116,\n",
      "                                                                           139],\n",
      "                                                               'url': 'https://t.co/Su1fwJHTXH'}],\n",
      "                                                     'user_mentions': []},\n",
      "                                        'favorite_count': 5450,\n",
      "                                        'favorited': False,\n",
      "                                        'geo': None,\n",
      "                                        'id': 1087141644867112961,\n",
      "                                        'id_str': '1087141644867112961',\n",
      "                                        'in_reply_to_screen_name': None,\n",
      "                                        'in_reply_to_status_id': None,\n",
      "                                        'in_reply_to_status_id_str': None,\n",
      "                                        'in_reply_to_user_id': None,\n",
      "                                        'in_reply_to_user_id_str': None,\n",
      "                                        'is_quote_status': False,\n",
      "                                        'lang': 'en',\n",
      "                                        'place': None,\n",
      "                                        'possibly_sensitive': False,\n",
      "                                        'retweet_count': 1441,\n",
      "                                        'retweeted': False,\n",
      "                                        'source': '<a '\n",
      "                                                  'href=\"https://studio.twitter.com\" '\n",
      "                                                  'rel=\"nofollow\">Twitter '\n",
      "                                                  'Media Studio</a>',\n",
      "                                        'text': '#BBN, we’ve got a treat for '\n",
      "                                                'you. \\n'\n",
      "                                                '\\n'\n",
      "                                                'LIKE or RT this tweet to have '\n",
      "                                                'exclusive content about the '\n",
      "                                                'Cats sent directly to… '\n",
      "                                                'https://t.co/Su1fwJHTXH',\n",
      "                                        'truncated': True,\n",
      "                                        'user': {'contributors_enabled': False,\n",
      "                                                 'created_at': 'Sun Apr 26 '\n",
      "                                                               '22:25:01 +0000 '\n",
      "                                                               '2009',\n",
      "                                                 'default_profile': False,\n",
      "                                                 'default_profile_image': False,\n",
      "                                                 'description': 'The official '\n",
      "                                                                'Twitter '\n",
      "                                                                'account for '\n",
      "                                                                'the '\n",
      "                                                                'eight-time '\n",
      "                                                                'national '\n",
      "                                                                'champion '\n",
      "                                                                'Kentucky '\n",
      "                                                                \"men's \"\n",
      "                                                                'basketball '\n",
      "                                                                'team, the '\n",
      "                                                                'winningest '\n",
      "                                                                'program in '\n",
      "                                                                'college '\n",
      "                                                                'basketball. '\n",
      "                                                                '#DreamBIG',\n",
      "                                                 'entities': {'description': {'urls': []},\n",
      "                                                              'url': {'urls': [{'display_url': 'ukathletics.com',\n",
      "                                                                                'expanded_url': 'http://ukathletics.com',\n",
      "                                                                                'indices': [0,\n",
      "                                                                                            23],\n",
      "                                                                                'url': 'https://t.co/kMUdWRDbJ6'}]}},\n",
      "                                                 'favourites_count': 387,\n",
      "                                                 'follow_request_sent': False,\n",
      "                                                 'followers_count': 769345,\n",
      "                                                 'following': False,\n",
      "                                                 'friends_count': 627,\n",
      "                                                 'geo_enabled': True,\n",
      "                                                 'has_extended_profile': False,\n",
      "                                                 'id': 35583547,\n",
      "                                                 'id_str': '35583547',\n",
      "                                                 'is_translation_enabled': False,\n",
      "                                                 'is_translator': False,\n",
      "                                                 'lang': 'en',\n",
      "                                                 'listed_count': 1145,\n",
      "                                                 'location': 'Rupp Arena',\n",
      "                                                 'name': 'Kentucky Basketball',\n",
      "                                                 'notifications': False,\n",
      "                                                 'profile_background_color': '0A11B8',\n",
      "                                                 'profile_background_image_url': 'http://abs.twimg.com/images/themes/theme1/bg.png',\n",
      "                                                 'profile_background_image_url_https': 'https://abs.twimg.com/images/themes/theme1/bg.png',\n",
      "                                                 'profile_background_tile': False,\n",
      "                                                 'profile_banner_url': 'https://pbs.twimg.com/profile_banners/35583547/1502115999',\n",
      "                                                 'profile_image_url': 'http://pbs.twimg.com/profile_images/875807773619040257/Z-qMKViO_normal.jpg',\n",
      "                                                 'profile_image_url_https': 'https://pbs.twimg.com/profile_images/875807773619040257/Z-qMKViO_normal.jpg',\n",
      "                                                 'profile_link_color': '060404',\n",
      "                                                 'profile_sidebar_border_color': 'FFFFFF',\n",
      "                                                 'profile_sidebar_fill_color': 'FFFFFF',\n",
      "                                                 'profile_text_color': '060404',\n",
      "                                                 'profile_use_background_image': True,\n",
      "                                                 'protected': False,\n",
      "                                                 'screen_name': 'KentuckyMBB',\n",
      "                                                 'statuses_count': 32998,\n",
      "                                                 'time_zone': None,\n",
      "                                                 'translator_type': 'none',\n",
      "                                                 'url': 'https://t.co/kMUdWRDbJ6',\n",
      "                                                 'utc_offset': None,\n",
      "                                                 'verified': True}},\n",
      "                      'quoted_status_id': 1087141644867112961,\n",
      "                      'quoted_status_id_str': '1087141644867112961',\n",
      "                      'retweet_count': 31,\n",
      "                      'retweeted': False,\n",
      "                      'source': '<a href=\"http://twitter.com\" '\n",
      "                                'rel=\"nofollow\">Twitter Web Client</a>',\n",
      "                      'text': \"#BBN, it's not too late to join. Exclusive \"\n",
      "                              \"content that you won't find anywhere else. \"\n",
      "                              'Directions ⤵️ https://t.co/ichzpiMD8m',\n",
      "                      'truncated': False,\n",
      "                      'user': {'contributors_enabled': False,\n",
      "                               'created_at': 'Sun Apr 26 22:25:01 +0000 2009',\n",
      "                               'default_profile': False,\n",
      "                               'default_profile_image': False,\n",
      "                               'description': 'The official Twitter account '\n",
      "                                              'for the eight-time national '\n",
      "                                              \"champion Kentucky men's \"\n",
      "                                              'basketball team, the winningest '\n",
      "                                              'program in college basketball. '\n",
      "                                              '#DreamBIG',\n",
      "                               'entities': {'description': {'urls': []},\n",
      "                                            'url': {'urls': [{'display_url': 'ukathletics.com',\n",
      "                                                              'expanded_url': 'http://ukathletics.com',\n",
      "                                                              'indices': [0,\n",
      "                                                                          23],\n",
      "                                                              'url': 'https://t.co/kMUdWRDbJ6'}]}},\n",
      "                               'favourites_count': 387,\n",
      "                               'follow_request_sent': False,\n",
      "                               'followers_count': 769345,\n",
      "                               'following': False,\n",
      "                               'friends_count': 627,\n",
      "                               'geo_enabled': True,\n",
      "                               'has_extended_profile': False,\n",
      "                               'id': 35583547,\n",
      "                               'id_str': '35583547',\n",
      "                               'is_translation_enabled': False,\n",
      "                               'is_translator': False,\n",
      "                               'lang': 'en',\n",
      "                               'listed_count': 1145,\n",
      "                               'location': 'Rupp Arena',\n",
      "                               'name': 'Kentucky Basketball',\n",
      "                               'notifications': False,\n",
      "                               'profile_background_color': '0A11B8',\n",
      "                               'profile_background_image_url': 'http://abs.twimg.com/images/themes/theme1/bg.png',\n",
      "                               'profile_background_image_url_https': 'https://abs.twimg.com/images/themes/theme1/bg.png',\n",
      "                               'profile_background_tile': False,\n",
      "                               'profile_banner_url': 'https://pbs.twimg.com/profile_banners/35583547/1502115999',\n",
      "                               'profile_image_url': 'http://pbs.twimg.com/profile_images/875807773619040257/Z-qMKViO_normal.jpg',\n",
      "                               'profile_image_url_https': 'https://pbs.twimg.com/profile_images/875807773619040257/Z-qMKViO_normal.jpg',\n",
      "                               'profile_link_color': '060404',\n",
      "                               'profile_sidebar_border_color': 'FFFFFF',\n",
      "                               'profile_sidebar_fill_color': 'FFFFFF',\n",
      "                               'profile_text_color': '060404',\n",
      "                               'profile_use_background_image': True,\n",
      "                               'protected': False,\n",
      "                               'screen_name': 'KentuckyMBB',\n",
      "                               'statuses_count': 32998,\n",
      "                               'time_zone': None,\n",
      "                               'translator_type': 'none',\n",
      "                               'url': 'https://t.co/kMUdWRDbJ6',\n",
      "                               'utc_offset': None,\n",
      "                               'verified': True}},\n",
      " 'source': '<a href=\"http://twitter.com/download/iphone\" '\n",
      "           'rel=\"nofollow\">Twitter for iPhone</a>',\n",
      " 'text': \"RT @KentuckyMBB: #BBN, it's not too late to join. Exclusive content \"\n",
      "         \"that you won't find anywhere else. Directions ⤵️ \"\n",
      "         'https://t.co/ichzpiMD8m',\n",
      " 'truncated': False,\n",
      " 'user': {'contributors_enabled': False,\n",
      "          'created_at': 'Tue Mar 17 18:41:37 +0000 2009',\n",
      "          'default_profile': False,\n",
      "          'default_profile_image': False,\n",
      "          'description': 'The official Twitter account of the University of '\n",
      "                         'Kentucky Athletics Department. Facebook: Kentucky '\n",
      "                         'Wildcats; Instagram: ukathletics',\n",
      "          'entities': {'description': {'urls': []},\n",
      "                       'url': {'urls': [{'display_url': 'ukathletics.com',\n",
      "                                         'expanded_url': 'http://www.ukathletics.com/',\n",
      "                                         'indices': [0, 23],\n",
      "                                         'url': 'https://t.co/Zqcn6uhNdp'}]}},\n",
      "          'favourites_count': 4798,\n",
      "          'follow_request_sent': False,\n",
      "          'followers_count': 329991,\n",
      "          'following': False,\n",
      "          'friends_count': 868,\n",
      "          'geo_enabled': True,\n",
      "          'has_extended_profile': False,\n",
      "          'id': 24929053,\n",
      "          'id_str': '24929053',\n",
      "          'is_translation_enabled': False,\n",
      "          'is_translator': False,\n",
      "          'lang': 'en',\n",
      "          'listed_count': 1370,\n",
      "          'location': 'Lexington, Ky.',\n",
      "          'name': 'Kentucky Athletics',\n",
      "          'notifications': False,\n",
      "          'profile_background_color': '000738',\n",
      "          'profile_background_image_url': 'http://abs.twimg.com/images/themes/theme9/bg.gif',\n",
      "          'profile_background_image_url_https': 'https://abs.twimg.com/images/themes/theme9/bg.gif',\n",
      "          'profile_background_tile': False,\n",
      "          'profile_banner_url': 'https://pbs.twimg.com/profile_banners/24929053/1536335213',\n",
      "          'profile_image_url': 'http://pbs.twimg.com/profile_images/875802157605408769/-DftO40K_normal.jpg',\n",
      "          'profile_image_url_https': 'https://pbs.twimg.com/profile_images/875802157605408769/-DftO40K_normal.jpg',\n",
      "          'profile_link_color': '084AE7',\n",
      "          'profile_sidebar_border_color': 'FFFFFF',\n",
      "          'profile_sidebar_fill_color': 'FFFFFF',\n",
      "          'profile_text_color': '787878',\n",
      "          'profile_use_background_image': True,\n",
      "          'protected': False,\n",
      "          'screen_name': 'UKAthletics',\n",
      "          'statuses_count': 46924,\n",
      "          'time_zone': None,\n",
      "          'translator_type': 'none',\n",
      "          'url': 'https://t.co/Zqcn6uhNdp',\n",
      "          'utc_offset': None,\n",
      "          'verified': True}}\n"
     ]
    }
   ],
   "source": [
    "# what other data is there?\n",
    "\n",
    "pp.pprint(tweet)"
   ]
  },
  {
   "cell_type": "markdown",
   "metadata": {},
   "source": [
    "### Other API endpoints allow different types of searches"
   ]
  },
  {
   "cell_type": "code",
   "execution_count": 61,
   "metadata": {},
   "outputs": [
    {
     "name": "stdout",
     "output_type": "stream",
     "text": [
      "RT @_iamGS3_: Blessed to receive an offer from the University of Kentucky 🔵⚪️ #BBN https://t.co/3lO7MaazsZ\n",
      "\n",
      "RT @PatrickLoney: #BBN can you get me to 6,000 followers?\n",
      "\n",
      "RT @EricThomas0523: Should’ve been 3 in a row 😩 #BBN https://t.co/fOg9rK2J2V\n",
      "\n",
      "Isaac Humphries - ‘Say Something’ https://t.co/S8Wg6PIYGB via @YouTube #BBN #MustHear @IsaacHumphries7\n",
      "\n",
      "RT @Nthepost: #BBN https://t.co/zOpy0ltNRq\n",
      "\n"
     ]
    }
   ],
   "source": [
    "# search for public tweets about #BBN\n",
    "\n",
    "endpoint = 'search/tweets'\n",
    "params = {\n",
    "    'q': '#BBN', \n",
    "    'count': 5\n",
    "}\n",
    "r = api.request(endpoint, params)\n",
    "\n",
    "for tweet in r.get_iterator():\n",
    "    print(tweet['text'] + '\\n')"
   ]
  },
  {
   "cell_type": "code",
   "execution_count": 37,
   "metadata": {},
   "outputs": [
    {
     "name": "stdout",
     "output_type": "stream",
     "text": [
      "@Mechanicsudipto @70chatterjee @parthagee @DilipGhoshBJP @WBPolice তো?\n",
      "\n",
      "ড.নিতাই কুমার সাহা  _ সহকারী অধ্যাপক, মনোবিজ্ঞান বিভাগ, রাজশাহী কলেজ https://t.co/IH9Y0YgTEM via @YouTube\n",
      "\n",
      "কুয়াকাটা হুজুরের গজল না স্লোগান https://t.co/hupM3RnmKN via @YouTube\n",
      "\n",
      "@parthagee @DilipGhoshBJP @WBPolice কি লোক \n",
      "পুরো ঢক্কন একটা\n",
      "\n",
      "@Delowarhafiz মুর্সিদরা পুরানো হলে একদিন ঠিকই টের পেয়ে যাবে। আমি যতটা সম্ভব এইসবদের থেকে দূরে থাকার চেষ্টা করি।\n",
      "\n"
     ]
    }
   ],
   "source": [
    "# search for public tweets in bangla\n",
    "\n",
    "endpoint = 'search/tweets'\n",
    "params = {\n",
    "    'q': '*', \n",
    "    'lang': 'bn', \n",
    "    'count': 5\n",
    "} \n",
    "r = api.request(endpoint, params)\n",
    "\n",
    "for tweet in r.get_iterator():\n",
    "    print(tweet['text'] + '\\n')"
   ]
  },
  {
   "cell_type": "code",
   "execution_count": 38,
   "metadata": {},
   "outputs": [
    {
     "name": "stdout",
     "output_type": "stream",
     "text": [
      "I would like to scream\n",
      "\n",
      "Students Make the Best Teachers! New BLOG! Students Make the Best Teachers  https://t.co/h4fau911BK\n",
      "\n",
      "I hope Dr. Everett McCorvey sings the national anthem Saturday at Rupp Arena. He would be perfect for UK Senior Day… https://t.co/4TVMbwQBS0\n",
      "\n",
      "Madama Butterfly 🦋\n",
      "#Opera #GNO @ Singletary Center for the Arts https://t.co/XgxZUlBBB5\n",
      "\n",
      "hbd justin bieber ( michael_rutherford_ ) hope you have the worst day ever cause you deserve it 🥴 swipe for a surpr… https://t.co/cKupMId15q\n",
      "\n",
      ".@universityofky can you please turn on the heat in the graduate student study? It's hard to write dissertations wi… https://t.co/bzFJSE26lc\n",
      "\n",
      "Thanks uk_bgpsa !  We want to share to help, sharing is caring!… https://t.co/BmgJMqy09a\n",
      "\n"
     ]
    }
   ],
   "source": [
    "# search for public tweets geotagged near the UK campus\n",
    "\n",
    "endpoint = 'search/tweets'\n",
    "params = {\n",
    "    'q': '*', \n",
    "    'geocode': '38.034,-84.500,0.5km', \n",
    "    'count': 10\n",
    "} \n",
    "r = api.request(endpoint, params)\n",
    "\n",
    "for tweet in r.get_iterator():\n",
    "    print(tweet['text'] + '\\n')"
   ]
  },
  {
   "cell_type": "markdown",
   "metadata": {},
   "source": [
    "### Exercises\n",
    "\n",
    "1. Try some different search queries!\n",
    "2. Display some more data fields in addition to the tweet text"
   ]
  },
  {
   "cell_type": "code",
   "execution_count": 42,
   "metadata": {},
   "outputs": [
    {
     "name": "stdout",
     "output_type": "stream",
     "text": [
      "RT @dneg: Just a normal day at work today... #oscar #photoshoot #sneakpeek \n",
      "\"Everyone at DNEG is an Oscar winner!\" #firstman https://t.co/N…\n",
      "\n",
      "RT @BHlive_official: Edin Dzeko looking to win his first #Oscar.. 😂 #PortoRoma \n",
      "\n",
      " https://t.co/xZkIcYcArR\n",
      "\n",
      "RT @LiveCivil: Vanity Fairs #Oscar After Party with Gabrielle Union. 😍 https://t.co/PtaXgzqqxw\n",
      "\n",
      "ICYMI: @iammikemuse talked with #Oscar-winning director @pramsey342 about making #IntoTheSpiderverse representative… https://t.co/ckkeWsyzR6\n",
      "\n"
     ]
    }
   ],
   "source": [
    "# search for public tweets about #OSCAR in english\n",
    "\n",
    "endpoint = 'search/tweets'\n",
    "params = {\n",
    "    'q': '#OSCAR', \n",
    "    'count': 5,\n",
    "     'lang': 'en',\n",
    "}\n",
    "r = api.request(endpoint, params)\n",
    "\n",
    "for tweet in r.get_iterator():\n",
    "    print(tweet['text'] + '\\n')"
   ]
  },
  {
   "cell_type": "code",
   "execution_count": 48,
   "metadata": {},
   "outputs": [
    {
     "name": "stdout",
     "output_type": "stream",
     "text": [
      "#বাংলাদেশ\n",
      "#ইপিআই\n",
      "#টিটি\n",
      "#টিডি\n",
      "বর্তমানে ব্যবহৃত টিটি টিকার ভায়াল শেষ হলে সম্প্রসারিত টিকাদান কর্মসূচি (ইপিআই)-এর নি… https://t.co/NV1D00STgq\n",
      "\n",
      "- ধর্ষণের সাজা....\n",
      "#বাংলাদেশ\n",
      "🚫 প্রতিবাদ\n",
      "🚫 ফেসবুক স্ট্যাটাস\n",
      "🚫 ধর্না\n",
      "🚫 তদন্ত\n",
      "🚫 সমঝোতার চেষ্টা\n",
      "🚫 ঘুষ দেওয়া\n",
      "🚫 ধমক-চমক… https://t.co/rAOmN1QF8S\n",
      "\n"
     ]
    }
   ],
   "source": [
    "# search for public tweets about #বাংলাদেশ in bangla\n",
    "endpoint = 'search/tweets'\n",
    "params = {\n",
    "    'q': '#বাংলাদেশ', \n",
    "    'lang': 'bn', \n",
    "    'count': 5\n",
    "} \n",
    "r = api.request(endpoint, params)\n",
    "\n",
    "for tweet in r.get_iterator():\n",
    "    print(tweet['text'] + '\\n')"
   ]
  },
  {
   "cell_type": "code",
   "execution_count": 55,
   "metadata": {},
   "outputs": [
    {
     "name": "stdout",
     "output_type": "stream",
     "text": [
      "Start planning today: There's lots to do this March Break in Durham Region #marchbreak #spring\n",
      "\n",
      "https://t.co/JyhHa1JW0i\n",
      "\n",
      "Where are you travelling this #spring break? Tell us in comments! https://t.co/TaUj7YXaNq\n",
      "\n",
      "Though I’m desperate for some sun, this read is making me rethink my #Spring travel plans...\n",
      "\n",
      "U.S. Issues Travel Wa… https://t.co/fQXCo6zvOM\n",
      "\n",
      "We had a #spring #style teaser during our #winter break vacation. It’s a bummer that we have approximately 60 days… https://t.co/uDZTXQFqcy\n",
      "\n",
      "Spring break is next week! Stop by for a treat. Open 7 days. #spring #springbreak #somethingforeveryone #keto… https://t.co/HJceM4kyEa\n",
      "\n"
     ]
    }
   ],
   "source": [
    "# more data fields\n",
    "\n",
    "endpoint = 'search/tweets'\n",
    "params = {\n",
    "    'q': '#spring break',\n",
    "    'location': 'University of Kentucky, Lexington, KY',\n",
    "    'count': 5\n",
    "} \n",
    "r = api.request(endpoint, params)\n",
    "\n",
    "for tweet in r.get_iterator():\n",
    "    print(tweet['text'] + '\\n')"
   ]
  },
  {
   "cell_type": "markdown",
   "metadata": {},
   "source": [
    "### Bonus: Streaming live tweets in real time "
   ]
  },
  {
   "cell_type": "code",
   "execution_count": 28,
   "metadata": {},
   "outputs": [
    {
     "name": "stdout",
     "output_type": "stream",
     "text": [
      "Wed Mar 06 23:41:47 +0000 2019\n",
      "Senegal, Senegal\n",
      "Tu voulais dire les mancuniens ??\n",
      "\n",
      "Wed Mar 06 23:41:47 +0000 2019\n",
      "Waco, TX, United States\n",
      "@dahliajrendon Me!!!\n",
      "\n",
      "Wed Mar 06 23:41:47 +0000 2019\n",
      "Quito, Ecuador, Ecuador\n",
      "@jfcarpio ✋\n",
      "\n",
      "Wed Mar 06 23:41:47 +0000 2019\n",
      "Candelaria, Colombia, Colombia\n",
      "MDL.\n",
      "\n",
      "Wed Mar 06 23:41:47 +0000 2019\n",
      "Ciudad Autónoma de Buenos Aires, Argentina, Argentina\n",
      "UPD y que mejor que vivirlo con ustedes 🎉❤️💣DALE QUE SI, ESTO RECIÉN EMPIEZAAAA en Plaza Arenales https://t.co/imiCtIJn9z\n",
      "\n",
      "Wed Mar 06 23:41:47 +0000 2019\n",
      "Batavia, NY, United States\n",
      "Both my fucking girls went home on the Bachlor so wtf is the point ..\n",
      "\n",
      "Wed Mar 06 23:41:47 +0000 2019\n",
      "Osasco, Brasil, Brasil\n",
      "Dor de cabeça agr posh\n",
      "\n",
      "Wed Mar 06 23:41:46 +0000 2019\n",
      "Rhinelander, WI, United States\n",
      "Caught the sunset at Rhinelander airport tonight. What a beaut! #wisconsin #sunset #rhinelander https://t.co/kdGmFUWpGE\n",
      "\n",
      "Wed Mar 06 23:41:47 +0000 2019\n",
      "Yorkshire and The Humber, England, United Kingdom\n",
      "@TheMattWain The Nordic Model when it comes to sex worker; however, is terrible.\n",
      "\n",
      "Wed Mar 06 23:41:47 +0000 2019\n",
      "Florianópolis, Brasil, Brasil\n",
      "@Neni_vc Um dia chego nesse nível\n",
      "\n",
      "Wed Mar 06 23:41:47 +0000 2019\n",
      "Royal Pines, NC, United States\n",
      "@dbongino @tjdarnell76 Meh...let them keep their audiences small &amp; limited to the few viewers of the other networks...lol\n",
      "\n",
      "Wed Mar 06 23:41:47 +0000 2019\n",
      "New Mexico, USA, United States\n",
      "@GovMLG That's ridiculous.  We all know to fund such legislation we'll pay at the pump, on the utilities bills and… https://t.co/BF4mc6Tf8C\n",
      "\n",
      "Wed Mar 06 23:41:47 +0000 2019\n",
      "Rio de Janeiro, Brasil, Brasil\n",
      "Ontem eu comi mt camarão e peixe, matei minha vontade\n",
      "\n",
      "Wed Mar 06 23:41:47 +0000 2019\n",
      "Green, OH, United States\n",
      "@CNN It should be turned into a museum.. would be cool\n",
      "\n",
      "Wed Mar 06 23:41:47 +0000 2019\n",
      "Ciudad Autónoma de Buenos Aires, Argentina, Argentina\n",
      "Pase lo que pase, siempre voy a estar enamorada de esta ciudad ❤️\n",
      "\n",
      "Wed Mar 06 23:41:47 +0000 2019\n",
      "São Paulo, Brasil, Brasil\n",
      "Alter ego é uma locução substantiva com origem no latim \"alter\" (outro) e \"ego\" (eu) cujo significado literal é \"o… https://t.co/0Dfzh0KhMl\n",
      "\n",
      "Wed Mar 06 23:41:47 +0000 2019\n",
      "Cabo Frio, Brasil, Brasil\n",
      "ISN’T SHE LOVELY?\n",
      "\n",
      "Wed Mar 06 23:41:47 +0000 2019\n",
      "Ile-de-France, France, France\n",
      "je pense que je ferai une nuit blanche à cause de la mauvaise nouvelle et qui me dégoûte . j'y croyais à la qualifi… https://t.co/Ycucb93aSH\n",
      "\n",
      "Wed Mar 06 23:41:47 +0000 2019\n",
      "Alexandria, Egypt, Egypt\n",
      "اذا قلت منو الحمار الي طفا البلستيشن وطلع ابوك https://t.co/Tr4D8Iuyu3\n",
      "\n",
      "Wed Mar 06 23:41:47 +0000 2019\n",
      "Uberlândia, Brasil, Brasil\n",
      "ai hoje eu vi um bambi na estrada, coisa mais lindinha do mundo na moral q bixo lindo fofo d+\n",
      "\n",
      "Wed Mar 06 23:41:47 +0000 2019\n",
      "Fargo, ND, United States\n",
      "... Bye Felicia aka...  #TrumpCrimeFamily #GOP https://t.co/Uck8Fu1zHr\n",
      "\n",
      "Wed Mar 06 23:41:47 +0000 2019\n",
      "Fair Oaks, VA, United States\n",
      "If you are truly living your values, they quickly become your culture... If you paint them on the wall and don't li… https://t.co/MA3zafYZJR\n",
      "\n"
     ]
    }
   ],
   "source": [
    "# Twitter limits simultaneous connections to the streaming API,\n",
    "# so this part may not work using the demo API keys during class\n",
    "\n",
    "endpoint = 'statuses/filter'\n",
    "params = {'locations': '-180,-90,180,90'}\n",
    "r = api.request(endpoint, params)\n",
    "LIMIT = 20\n",
    "\n",
    "# 'enumerate' lets us count tweets as we receive them\n",
    "\n",
    "for i, tweet in enumerate(r.get_iterator()):\n",
    "    print(tweet['created_at'])\n",
    "    print(tweet['place']['full_name'] + ', ' + tweet['place']['country'])\n",
    "    print(tweet['text'] + '\\n')\n",
    "    if (i > LIMIT): break\n",
    "\n",
    "# close the streaming connection\n",
    "r.close()"
   ]
  },
  {
   "cell_type": "code",
   "execution_count": null,
   "metadata": {},
   "outputs": [],
   "source": []
  },
  {
   "cell_type": "code",
   "execution_count": null,
   "metadata": {},
   "outputs": [],
   "source": []
  },
  {
   "cell_type": "code",
   "execution_count": null,
   "metadata": {},
   "outputs": [],
   "source": []
  },
  {
   "cell_type": "markdown",
   "metadata": {},
   "source": [
    "### Exercises for the remainder of class\n",
    "\n",
    "1. Make a scatter plot of the lat-lon coordinates of earthquakes.  \n",
    "   &nbsp;\n",
    "   \n",
    "2. Using the geocoding example as a starting point, try searching the Google Maps Directions API or Elevation API instead. Descriptions are in the [API documentation](https://developers.google.com/maps/documentation/geocoding/intro).  \n",
    "   &nbsp;\n",
    "   "
   ]
  },
  {
   "cell_type": "code",
   "execution_count": 57,
   "metadata": {},
   "outputs": [
    {
     "name": "stdout",
     "output_type": "stream",
     "text": [
      "290\n"
     ]
    }
   ],
   "source": [
    "# pull out magnitudes and depths into a Pandas dataframe, using\n",
    "# a more compact Python syntax for iterating through lists\n",
    "\n",
    "d = {'lat': [q['geometry']['coordinates'][0] for q in quakes],\n",
    "     'long': [q['geometry']['coordinates'][1] for q in quakes]}\n",
    "\n",
    "df = pd.DataFrame.from_dict(d)\n",
    "\n",
    "# how many earthquakes were loaded into the dataframe?\n",
    "print(len(df))"
   ]
  },
  {
   "cell_type": "code",
   "execution_count": 58,
   "metadata": {},
   "outputs": [
    {
     "data": {
      "text/html": [
       "<div>\n",
       "<style scoped>\n",
       "    .dataframe tbody tr th:only-of-type {\n",
       "        vertical-align: middle;\n",
       "    }\n",
       "\n",
       "    .dataframe tbody tr th {\n",
       "        vertical-align: top;\n",
       "    }\n",
       "\n",
       "    .dataframe thead th {\n",
       "        text-align: right;\n",
       "    }\n",
       "</style>\n",
       "<table border=\"1\" class=\"dataframe\">\n",
       "  <thead>\n",
       "    <tr style=\"text-align: right;\">\n",
       "      <th></th>\n",
       "      <th>lat</th>\n",
       "      <th>long</th>\n",
       "    </tr>\n",
       "  </thead>\n",
       "  <tbody>\n",
       "    <tr>\n",
       "      <th>0</th>\n",
       "      <td>-157.2250</td>\n",
       "      <td>66.2829</td>\n",
       "    </tr>\n",
       "    <tr>\n",
       "      <th>1</th>\n",
       "      <td>-157.3818</td>\n",
       "      <td>66.2305</td>\n",
       "    </tr>\n",
       "    <tr>\n",
       "      <th>2</th>\n",
       "      <td>-157.4072</td>\n",
       "      <td>66.2194</td>\n",
       "    </tr>\n",
       "    <tr>\n",
       "      <th>3</th>\n",
       "      <td>-157.1878</td>\n",
       "      <td>66.3447</td>\n",
       "    </tr>\n",
       "    <tr>\n",
       "      <th>4</th>\n",
       "      <td>-177.7028</td>\n",
       "      <td>-32.1609</td>\n",
       "    </tr>\n",
       "  </tbody>\n",
       "</table>\n",
       "</div>"
      ],
      "text/plain": [
       "        lat     long\n",
       "0 -157.2250  66.2829\n",
       "1 -157.3818  66.2305\n",
       "2 -157.4072  66.2194\n",
       "3 -157.1878  66.3447\n",
       "4 -177.7028 -32.1609"
      ]
     },
     "execution_count": 58,
     "metadata": {},
     "output_type": "execute_result"
    }
   ],
   "source": [
    "df.head()"
   ]
  },
  {
   "cell_type": "code",
   "execution_count": 59,
   "metadata": {},
   "outputs": [
    {
     "data": {
      "text/plain": [
       "<matplotlib.axes._subplots.AxesSubplot at 0x1c7a4e84b38>"
      ]
     },
     "execution_count": 59,
     "metadata": {},
     "output_type": "execute_result"
    },
    {
     "data": {
      "image/png": "[encoded data removed]",
      "text/plain": [
       "<Figure size 432x288 with 1 Axes>"
      ]
     },
     "metadata": {
      "needs_background": "light"
     },
     "output_type": "display_data"
    }
   ],
   "source": [
    "# plot the lat vs. long\n",
    "\n",
    "df.plot(x='long', y='lat', kind='scatter')"
   ]
  },
  {
   "cell_type": "code",
   "execution_count": null,
   "metadata": {},
   "outputs": [],
   "source": []
  },
  {
   "cell_type": "code",
   "execution_count": null,
   "metadata": {},
   "outputs": [],
   "source": []
  },
  {
   "cell_type": "markdown",
   "metadata": {
    "collapsed": true
   },
   "source": [
    "### For next time...\n",
    "\n",
    "In the next class, you will try out another API that provides data you're interested in. You will be asked to try connecting to it using Python code, and performing some basic operations on the data.  To come prepared for next time, please explore some of the transportation-related APIs that may be valuable, and choose one that is of interest to you.\n",
    "\n",
    "Here are a a few to get you started. \n",
    "\n",
    "Public Transit\n",
    "https://www.programmableweb.com/news/how-smart-cities-are-using-apis-public-transport-apis/2014/05/22\n",
    "\n",
    "Long-Distance Travel\n",
    "http://www.olery.com/blog/the-best-travel-apis-discover-contribute/ \n",
    "\n",
    "Transportation\n",
    "https://www.programmableweb.com/category/transportation/api\n",
    "\n",
    "\n",
    "Start by reading the public transit page, because that provides a nice overview of the types of applications out there, and some of the issues in using them.  These lessons often apply to traffic and transportation more generally.  \n",
    "\n",
    "Keep in mind that there are a number of different organizations that provide APIs, with different motivations and quality of what is provided.  If it is a private company, what is their business model?  What is the underlying source of the data, and what might that imply about how representative it is of the real world?  There is a ton of stuff out there.  How do we go about sorting out what is useful to us and what is now.  Spend some time exploring these and thinking about these questions.  \n"
   ]
  },
  {
   "cell_type": "code",
   "execution_count": null,
   "metadata": {},
   "outputs": [],
   "source": []
  },
  {
   "cell_type": "code",
   "execution_count": null,
   "metadata": {},
   "outputs": [],
   "source": []
  }
 ],
 "metadata": {
  "anaconda-cloud": {},
  "kernelspec": {
   "display_name": "Python 3",
   "language": "python",
   "name": "python3"
  },
  "language_info": {
   "codemirror_mode": {
    "name": "ipython",
    "version": 3
   },
   "file_extension": ".py",
   "mimetype": "text/x-python",
   "name": "python",
   "nbconvert_exporter": "python",
   "pygments_lexer": "ipython3",
   "version": "3.7.0"
  }
 },
 "nbformat": 4,
 "nbformat_minor": 1
}
