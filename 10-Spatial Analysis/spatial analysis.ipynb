{
 "cells": [
  {
   "cell_type": "markdown",
   "metadata": {},
   "source": [
    "# Working with GeoDataFrames\n",
    "\n",
    "This exercise is adapted from Kelsey Jordahl's SciPy tutorial, available here: \n",
    "\n",
    "https://github.com/kjordahl/SciPy-Tutorial-2015\n"
   ]
  },
  {
   "cell_type": "code",
   "execution_count": null,
   "metadata": {},
   "outputs": [],
   "source": [
    "%matplotlib inline\n",
    "import numpy as np\n",
    "import matplotlib.pyplot as plt\n",
    "import geopandas as gp\n",
    "from shapely.geometry import Point\n",
    "import pandas as pd"
   ]
  },
  {
   "cell_type": "markdown",
   "metadata": {},
   "source": [
    "NYC borough boundaries downloaded from [Bytes of the Big Apple](http://www.nyc.gov/html/dcp/download/bytes/nybb_13a.zip)\n",
    "\n",
    "We can easily read a shapefile. "
   ]
  },
  {
   "cell_type": "code",
   "execution_count": null,
   "metadata": {},
   "outputs": [],
   "source": [
    "# we can easily read a shapefile\n",
    "boros = gp.read_file('nybb_15b/nybb.shp')\n",
    "boros"
   ]
  },
  {
   "cell_type": "markdown",
   "metadata": {},
   "source": [
    "We see that there are a few attributes, and that the geometry field contains the boundaries of each polygon. "
   ]
  },
  {
   "cell_type": "code",
   "execution_count": null,
   "metadata": {},
   "outputs": [],
   "source": [
    "# set the index to be the name of the borough, and sort in order of the borough code\n",
    "boros.reset_index(inplace=True)\n",
    "boros.set_index('BoroName', inplace=True)\n",
    "boros.sort_values(by='BoroCode', inplace=True)\n",
    "boros"
   ]
  },
  {
   "cell_type": "code",
   "execution_count": null,
   "metadata": {},
   "outputs": [],
   "source": [
    "# we can easily plot these. \n",
    "p = boros.plot()"
   ]
  },
  {
   "cell_type": "code",
   "execution_count": null,
   "metadata": {},
   "outputs": [],
   "source": [
    "# or change the size of the figure\n",
    "boros.plot(figsize=(10, 10))"
   ]
  },
  {
   "cell_type": "markdown",
   "metadata": {},
   "source": [
    "Lots of style options are available.  Anything that can by passed to pyplot works: \n",
    "\n",
    "http://matplotlib.org/api/pyplot_summary.html"
   ]
  },
  {
   "cell_type": "code",
   "execution_count": null,
   "metadata": {},
   "outputs": [],
   "source": [
    "# if we want to overlay two maps, we create the first, and pass it \n",
    "# as the ax option to the second. \n",
    "\n",
    "base = boros.plot(figsize=(10, 10),alpha=0.0)\n",
    "\n",
    "# here we are doing some geometric operations\n",
    "boros.geometry.convex_hull.plot(ax=base, figsize=(10, 10))"
   ]
  },
  {
   "cell_type": "code",
   "execution_count": null,
   "metadata": {},
   "outputs": [],
   "source": [
    "# we can calculate buffers\n",
    "# the negative number indicates an inside buffer\n",
    "# Here let's create a de-militirized zone between the boroughs\n",
    "\n",
    "eroded = boros.geometry.buffer(-5280)\n",
    "base = boros.plot(alpha=0.0, figsize=(10, 10))\n",
    "eroded.plot(ax=base, figsize=(10, 10))"
   ]
  },
  {
   "cell_type": "code",
   "execution_count": null,
   "metadata": {},
   "outputs": [],
   "source": [
    "# the area attribute is automatic, so we can easily see the difference\n",
    "eroded.area"
   ]
  },
  {
   "cell_type": "code",
   "execution_count": null,
   "metadata": {},
   "outputs": [],
   "source": [
    "boros.geometry.area"
   ]
  },
  {
   "cell_type": "code",
   "execution_count": null,
   "metadata": {},
   "outputs": [],
   "source": [
    "# calculate the fraction of the borough that is inland from the others\n",
    "\n",
    "inland = eroded.area / boros.geometry.area\n",
    "boros['inland_fraction'] = inland\n",
    "boros"
   ]
  },
  {
   "cell_type": "markdown",
   "metadata": {},
   "source": [
    "Let's create a normal pandas `Series` with population values for each borough from the 2010 census."
   ]
  },
  {
   "cell_type": "code",
   "execution_count": null,
   "metadata": {},
   "outputs": [],
   "source": [
    "population = pd.Series({'Manhattan': 1585873, 'Bronx': 1385108, 'Brooklyn': 2504700,\n",
    "                     'Queens': 2230722, 'Staten Island': 468730})\n",
    "population"
   ]
  },
  {
   "cell_type": "code",
   "execution_count": null,
   "metadata": {},
   "outputs": [],
   "source": [
    "boros['population'] = population\n",
    "boros"
   ]
  },
  {
   "cell_type": "code",
   "execution_count": null,
   "metadata": {},
   "outputs": [],
   "source": [
    "# calculate the population density in people per square mile\n",
    "boros['pop_density'] = boros['population'] / boros.geometry.area * 5280 ** 2\n",
    "boros.sort(columns='pop_density', ascending=False)"
   ]
  },
  {
   "cell_type": "code",
   "execution_count": null,
   "metadata": {},
   "outputs": [],
   "source": [
    "# if we specify a column name, we can make a chloropleth\n",
    "#Chloropleth maps are maps where the color of each shape is based on the value of an associated variable. \n",
    "\n",
    "boros.plot(column='pop_density', figsize=(10, 10))"
   ]
  },
  {
   "cell_type": "code",
   "execution_count": null,
   "metadata": {},
   "outputs": [],
   "source": [
    "# we can save it to a shapefile, or to a geojson file\n",
    "# note that a geojson is a simpler data format, so may be easier to work with\n",
    "\n",
    "boros.to_file('boros.shp')\n",
    "boros.to_file('boros.json', driver=\"GeoJSON\")"
   ]
  },
  {
   "cell_type": "markdown",
   "metadata": {},
   "source": [
    "## Interactive maps\n",
    "\n",
    "We can easily send geopandas data to folium to make interactive maps "
   ]
  },
  {
   "cell_type": "code",
   "execution_count": null,
   "metadata": {},
   "outputs": [],
   "source": [
    "import folium\n",
    "\n",
    "# to do this we convert to a geojson object\n",
    "# this contains all the necessary information\n",
    "# we'll come back to the need for the to_crs conversion\n",
    "gjson = boros.to_crs(epsg='4326').to_json()\n",
    "\n",
    "# create the map\n",
    "m = folium.Map([40.730610,-73.935242],\n",
    "                tiles='Mapbox Bright',\n",
    "                zoom_start=10)\n",
    "\n",
    "# add the layer\n",
    "folium.GeoJson(gjson,\n",
    "               name='Boroughs'\n",
    "              ).add_to(m)\n",
    "\n",
    "# This lets us turn the layer on or off\n",
    "folium.LayerControl().add_to(m)\n",
    "\n",
    "# save it\n",
    "m.save('boros.html')"
   ]
  },
  {
   "cell_type": "markdown",
   "metadata": {
    "collapsed": true
   },
   "source": [
    "## Working with projections\n",
    "\n",
    "In the above, you noticed the to_crs() method.  This converts the data to a different coordinate reference system (CRS). This is a seris of parameters that defines the coordinate system and spatial extent of some data set. \n",
    "\n",
    "Basically, it is about going from a round earth to a flat map in various different ways, and for various different parts of the globe.  There are a bunch of these, but only a few seem to be commonly used.  \n",
    "\n",
    "If you get points that don't show up on a map, or show up in the wrong place, it is often because your two map layers have a different CRS and you need to convert.  The codes and defintitions are all here: \n",
    "\n",
    "http://spatialreference.org/"
   ]
  },
  {
   "cell_type": "code",
   "execution_count": null,
   "metadata": {
    "collapsed": true
   },
   "outputs": [],
   "source": []
  }
 ],
 "metadata": {
  "anaconda-cloud": {},
  "kernelspec": {
   "display_name": "Python 3",
   "language": "python",
   "name": "python3"
  },
  "language_info": {
   "codemirror_mode": {
    "name": "ipython",
    "version": 3
   },
   "file_extension": ".py",
   "mimetype": "text/x-python",
   "name": "python",
   "nbconvert_exporter": "python",
   "pygments_lexer": "ipython3",
   "version": "3.7.0"
  }
 },
 "nbformat": 4,
 "nbformat_minor": 1
}
