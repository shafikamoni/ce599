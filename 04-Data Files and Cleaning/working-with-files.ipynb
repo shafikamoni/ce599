{
 "cells": [
  {
   "cell_type": "markdown",
   "metadata": {},
   "source": [
    "# Working With Files and Doing Data Cleaning"
   ]
  },
  {
   "cell_type": "markdown",
   "metadata": {},
   "source": [
    "## First, a Review on Planning Your Programs\n",
    "\n",
    "One of the most difficult things about learning to program is to learn how to start.  What to do before you write the code, and how to work your way through the coding process.\n",
    "\n",
    "A good general idea is to think through the problem you want to solve first -- just conceptually.  How will you know you have solved it?  Are there tests that you can use to be sure?  Can you break the problem down into smaller components, and solve those sequentially?  This is a step that is conceptualizing your algorithm, or your plan for the code.\n",
    "\n",
    "What approach would you use to solve each of those components? Can you describe those steps in English? We call this step writing 'pseudo-code'\n",
    "\n",
    "Finally, there is the coding step. And the inevitable debugging step.  You really can't do one without the other.\n",
    "\n",
    "Generally, it is good practice to work your way through problems in this way, and write the code for each building block, testing it to be sure it works for all the kinds of cases you can imagine, then test them together.  You'll end up being more productive, and far less frustrated, using a systematic, problem-solving approach.  \n",
    "\n",
    "And by all means, don't try to tackle it all at once.  Below is an example of how to work through this process."
   ]
  },
  {
   "cell_type": "markdown",
   "metadata": {},
   "source": [
    "### Phase 1: Conceptual Plan\n",
    "\n",
    "What do we need to do to determine whether each number between 1 and 100 is a prime number?\n",
    "\n",
    "1. We need to see if any given number can be divided evenly by any other number besides 1 and itself. \n",
    "2. We need to test this for every number between 1 and 100\n",
    "\n",
    "### Phase 2: Pseudo-Code\n",
    "\n",
    "1. Write a function (isprime) to test whether a number passed to it as an argument (x) is a prime number.\n",
    "Iterate over all values from x to 1.\n",
    "At each iteration, test whether the original x is evenly divisible by this iteration value.\n",
    "Keep track of how many times you get an evenly divisible result.\n",
    "If the result is more than 2, call x a prime number.\n",
    "\n",
    "2. Write a loop from 1 to 100, call this value (z)\n",
    "Within the loop, call function isprime, and pass it the value of z.\n",
    "Print the list of prime numbers.\n",
    "\n",
    "### Phase 3: Code Incrementally, Test, and Document\n",
    "\n",
    "Generally, build the code one step at a time, and test that step.  Add comments to explain your logic.  Make sure you include narrative in your assignments explaining your reasoning, and adding explanatory comments in the code every few lines to explain what you are doing in each part."
   ]
  },
  {
   "cell_type": "markdown",
   "metadata": {},
   "source": [
    "## Working With Files\n",
    "\n",
    "Most data you might want to work with is likely to be in some kind of file.  You often will want to work with data in comma separated text files, or in spreadsheet tables, or in tables stored in a database.  And you will increasingly find data online, not only as text or spreadsheets to download, but as Open Data APIs, returned from a web service as a JSON object.  This session covers how to work with a variety of file formats in Python, and how to begin processing data in files to clean data."
   ]
  },
  {
   "cell_type": "markdown",
   "metadata": {},
   "source": [
    "### Basics of Reading and Writing Files in Python\n",
    "\n",
    "Let's start by creating a simple file, and then reading it back.  We will use 'open' to open a file we will call 'tempfile' in 'write' (w) mode.  We will assign the file object, which is **iterable**, to an object we will arbitrarily call 'f'."
   ]
  },
  {
   "cell_type": "code",
   "execution_count": 1,
   "metadata": {},
   "outputs": [],
   "source": [
    "f = open('tempfile.txt', 'w')\n",
    "for i in range(10):\n",
    "    f.write('this is line ' + str(i) + '\\n')\n",
    "f.close()"
   ]
  },
  {
   "cell_type": "markdown",
   "metadata": {},
   "source": [
    "You can open the text file in an editor to verify that this code wrote the file as expected.  Now open the file we just created in Python, in read mode (r)"
   ]
  },
  {
   "cell_type": "code",
   "execution_count": 2,
   "metadata": {},
   "outputs": [],
   "source": [
    "f = open('tempfile.txt', 'r')"
   ]
  },
  {
   "cell_type": "code",
   "execution_count": 4,
   "metadata": {},
   "outputs": [],
   "source": [
    "f = open('tempfile2.txt', 'w')\n",
    "for i in range(10):\n",
    "    f.write('this is line ' + str(i) + '\\n')\n",
    "f.close()"
   ]
  },
  {
   "cell_type": "markdown",
   "metadata": {},
   "source": [
    "The first method to read a file is to read it in all at once, with a read() method. Here we load the whole file in memory and assign it to a. Note that we will re-open the file here to start from the beginning. Otherwise it will be positioned at the end of the file and give us back an empty string. "
   ]
  },
  {
   "cell_type": "code",
   "execution_count": 3,
   "metadata": {},
   "outputs": [
    {
     "data": {
      "text/plain": [
       "'this is line 0\\nthis is line 1\\nthis is line 2\\nthis is line 3\\nthis is line 4\\nthis is line 5\\nthis is line 6\\nthis is line 7\\nthis is line 8\\nthis is line 9\\n'"
      ]
     },
     "execution_count": 3,
     "metadata": {},
     "output_type": "execute_result"
    }
   ],
   "source": [
    "f = open('tempfile.txt', 'r')\n",
    "a = f.read()\n",
    "a"
   ]
  },
  {
   "cell_type": "raw",
   "metadata": {},
   "source": [
    "Note that when we use read() it creates a string object.  The whole file is loaded into one big string.  Sometimes this may be useful, but often it is not the best way to load a file."
   ]
  },
  {
   "cell_type": "code",
   "execution_count": 5,
   "metadata": {},
   "outputs": [
    {
     "data": {
      "text/plain": [
       "str"
      ]
     },
     "execution_count": 5,
     "metadata": {},
     "output_type": "execute_result"
    }
   ],
   "source": [
    "type(a)"
   ]
  },
  {
   "cell_type": "markdown",
   "metadata": {},
   "source": [
    "An alternative approach is to step through reading each line of the file with the readline() method.  Notice that each time you execute this it advances to the next line.  Each line is read into a string object.  In this case we are not doing anything with that object except printing it."
   ]
  },
  {
   "cell_type": "code",
   "execution_count": 11,
   "metadata": {},
   "outputs": [
    {
     "name": "stdout",
     "output_type": "stream",
     "text": [
      "this is line 0\n",
      "\n",
      "this is line 1\n",
      "\n",
      "this\n"
     ]
    }
   ],
   "source": [
    "f = open('tempfile.txt', 'r')\n",
    "print(f.readline())\n",
    "print(f.readline())\n",
    "print(f.readline(4))"
   ]
  },
  {
   "cell_type": "markdown",
   "metadata": {},
   "source": [
    "Here is another way to loop through the lines of the file and print them all out. Notice that printing the lines suppresses the quotes and the newline string."
   ]
  },
  {
   "cell_type": "code",
   "execution_count": 7,
   "metadata": {},
   "outputs": [
    {
     "name": "stdout",
     "output_type": "stream",
     "text": [
      "['this is line 0\\n', 'this is line 1\\n', 'this is line 2\\n', 'this is line 3\\n', 'this is line 4\\n', 'this is line 5\\n', 'this is line 6\\n', 'this is line 7\\n', 'this is line 8\\n', 'this is line 9\\n']\n"
     ]
    }
   ],
   "source": [
    "f = open('tempfile.txt', 'r')\n",
    "print(f.readlines())"
   ]
  },
  {
   "cell_type": "code",
   "execution_count": 8,
   "metadata": {},
   "outputs": [
    {
     "name": "stdout",
     "output_type": "stream",
     "text": [
      "this is line 0\n",
      "this is line 1\n",
      "this is line 2\n",
      "this is line 3\n",
      "this is line 4\n",
      "this is line 5\n",
      "this is line 6\n",
      "this is line 7\n",
      "this is line 8\n",
      "this is line 9\n"
     ]
    }
   ],
   "source": [
    "f = open('tempfile.txt', 'r')\n",
    "for line in f:\n",
    "    print(line, end='')"
   ]
  },
  {
   "cell_type": "markdown",
   "metadata": {},
   "source": [
    "The plural version of the readline() method generates a list of the lines in a file, with a string containing each line of the file.  Notice that this list contains the raw text contents, including the newline string '\\n'."
   ]
  },
  {
   "cell_type": "code",
   "execution_count": 9,
   "metadata": {},
   "outputs": [
    {
     "data": {
      "text/plain": [
       "['this is line 0\\n',\n",
       " 'this is line 1\\n',\n",
       " 'this is line 2\\n',\n",
       " 'this is line 3\\n',\n",
       " 'this is line 4\\n',\n",
       " 'this is line 5\\n',\n",
       " 'this is line 6\\n',\n",
       " 'this is line 7\\n',\n",
       " 'this is line 8\\n',\n",
       " 'this is line 9\\n']"
      ]
     },
     "execution_count": 9,
     "metadata": {},
     "output_type": "execute_result"
    }
   ],
   "source": [
    "f = open('tempfile.txt', 'r')\n",
    "a = f.readlines()\n",
    "a"
   ]
  },
  {
   "cell_type": "markdown",
   "metadata": {},
   "source": [
    "Using **with** is a handy way to open a file, load its data, and automatically close the file."
   ]
  },
  {
   "cell_type": "code",
   "execution_count": 14,
   "metadata": {},
   "outputs": [
    {
     "name": "stdout",
     "output_type": "stream",
     "text": [
      "this is line 0\n",
      "this is line 1\n",
      "this is line 2\n",
      "this is line 3\n",
      "this is line 4\n",
      "this is line 5\n",
      "this is line 6\n",
      "this is line 7\n",
      "this is line 8\n",
      "this is line 9\n",
      "\n"
     ]
    },
    {
     "data": {
      "text/plain": [
       "True"
      ]
     },
     "execution_count": 14,
     "metadata": {},
     "output_type": "execute_result"
    }
   ],
   "source": [
    "with open('tempfile.txt', 'r') as f:\n",
    "    read_data = f.read()\n",
    "print(read_data)\n",
    "f.closed\n"
   ]
  },
  {
   "cell_type": "markdown",
   "metadata": {},
   "source": [
    "### Working with JSON\n",
    "\n",
    "JSON (JavaScript Object Notation) is a common format for data accessed from a web browser, which is generally running JavaScript.\n",
    "\n",
    "The json dumps() method converts Python objects to JSON format, using the counterpart format for each data type, as in the table below."
   ]
  },
  {
   "cell_type": "raw",
   "metadata": {},
   "source": [
    "\n",
    "Python\t       JSON\n",
    "dict\t       object\n",
    "list, tuple\t   array\n",
    "str\t           string\n",
    "int, float     number\n",
    "True\t       true\n",
    "False\t       false\n",
    "None\t       null"
   ]
  },
  {
   "cell_type": "code",
   "execution_count": 15,
   "metadata": {},
   "outputs": [
    {
     "data": {
      "text/plain": [
       "'[1, 2, 3]'"
      ]
     },
     "execution_count": 15,
     "metadata": {},
     "output_type": "execute_result"
    }
   ],
   "source": [
    "import json\n",
    "\n",
    "json.dumps([1,2,3])"
   ]
  },
  {
   "cell_type": "markdown",
   "metadata": {},
   "source": [
    "Notice that objects can be complex, containing multiple types of data, and still be easily translated between Python objects and JSON format.  The following example converts a Python list, containing one element that is a dictionary, to JSON."
   ]
  },
  {
   "cell_type": "code",
   "execution_count": 16,
   "metadata": {},
   "outputs": [
    {
     "data": {
      "text/plain": [
       "'[1, 2, 3]'"
      ]
     },
     "execution_count": 16,
     "metadata": {},
     "output_type": "execute_result"
    }
   ],
   "source": [
    "json.dumps([1,2,3])"
   ]
  },
  {
   "cell_type": "code",
   "execution_count": null,
   "metadata": {},
   "outputs": [],
   "source": [
    "json.dumps([1,2,3,{'foo': 'bar'}])"
   ]
  },
  {
   "cell_type": "markdown",
   "metadata": {},
   "source": [
    "Below we convert the contents of tempfile to a json object."
   ]
  },
  {
   "cell_type": "code",
   "execution_count": null,
   "metadata": {},
   "outputs": [],
   "source": [
    "f = open('tempfile.txt', 'r')\n",
    "\n",
    "x = json.dumps(f.readlines())\n",
    "x"
   ]
  },
  {
   "cell_type": "markdown",
   "metadata": {},
   "source": [
    "With the dump() method, we can write JSON data to a file.  Here we read tempfile, and create a new JSON formatted file into which we write the contents of tempfile."
   ]
  },
  {
   "cell_type": "code",
   "execution_count": null,
   "metadata": {},
   "outputs": [],
   "source": [
    "f = open('tempfile.txt', 'r')\n",
    "j = open('temp.json', 'w')\n",
    "json.dump(f.readlines(), j)"
   ]
  },
  {
   "cell_type": "markdown",
   "metadata": {},
   "source": [
    "Using the load() method, we can read JSON formatted data and load it into a Python object."
   ]
  },
  {
   "cell_type": "code",
   "execution_count": null,
   "metadata": {},
   "outputs": [],
   "source": [
    "j = open('temp.json', 'r')\n",
    "x = json.load(j)\n",
    "x"
   ]
  },
  {
   "cell_type": "markdown",
   "metadata": {},
   "source": [
    "### Working with CSV Files\n",
    "\n",
    "CSV (Comma Separated Values) is probably the most common format of data you will encounter.  Files in this format are often exported in this format from a database table or from Excel, or just used as a simple, standard text (ASCII) file format for ease of use.\n",
    "\n",
    "Let's begin by writing a CSV file like the JSON example above, by importing the csv module, and writing a file with several columns, separated by commas."
   ]
  },
  {
   "cell_type": "code",
   "execution_count": 4,
   "metadata": {},
   "outputs": [
    {
     "data": {
      "text/plain": [
       "[[0, 0, 2],\n",
       " [1, 2, 3],\n",
       " [2, 4, 4],\n",
       " [3, 6, 5],\n",
       " [4, 8, 6],\n",
       " [5, 10, 7],\n",
       " [6, 12, 8],\n",
       " [7, 14, 9],\n",
       " [8, 16, 10],\n",
       " [9, 18, 11]]"
      ]
     },
     "execution_count": 4,
     "metadata": {},
     "output_type": "execute_result"
    }
   ],
   "source": [
    "my_data = []\n",
    "for i in range(10):\n",
    "    my_data.append([i, i*2, i+2])\n",
    "my_data"
   ]
  },
  {
   "cell_type": "markdown",
   "metadata": {},
   "source": [
    "Now we will write the CSV file using my_data, and adding a header row first with column names.  Note that we open the file as before, in write mode, but now use the writerow() method to write one row with the header, and writerows() to iterate over the rows and write them to the file."
   ]
  },
  {
   "cell_type": "code",
   "execution_count": 5,
   "metadata": {},
   "outputs": [
    {
     "data": {
      "text/plain": [
       "1"
      ]
     },
     "execution_count": 5,
     "metadata": {},
     "output_type": "execute_result"
    }
   ],
   "source": [
    "my_data[1][0]"
   ]
  },
  {
   "cell_type": "code",
   "execution_count": 6,
   "metadata": {},
   "outputs": [],
   "source": [
    "import csv\n",
    "with open('my_data.csv', 'w', newline='') as f:\n",
    "    writer = csv.writer(f)\n",
    "    writer.writerow([\"x\", \"y\", \"z\"])\n",
    "    writer.writerows(my_data)"
   ]
  },
  {
   "cell_type": "markdown",
   "metadata": {},
   "source": [
    "Reading a CSV file is very similar to writing one, but simpler.  We create a reader object that is iterable, and then we can iterate over the rows and do things, like print each row."
   ]
  },
  {
   "cell_type": "code",
   "execution_count": 7,
   "metadata": {},
   "outputs": [
    {
     "name": "stdout",
     "output_type": "stream",
     "text": [
      "['x', 'y', 'z']\n",
      "['0', '0', '2']\n",
      "['1', '2', '3']\n",
      "['2', '4', '4']\n",
      "['3', '6', '5']\n",
      "['4', '8', '6']\n",
      "['5', '10', '7']\n",
      "['6', '12', '8']\n",
      "['7', '14', '9']\n",
      "['8', '16', '10']\n",
      "['9', '18', '11']\n"
     ]
    }
   ],
   "source": [
    "with open('my_data.csv', newline='') as f:\n",
    "    reader = csv.reader(f)\n",
    "    for row in reader:\n",
    "        print(row)"
   ]
  },
  {
   "cell_type": "markdown",
   "metadata": {},
   "source": [
    "If we want to actually work with the data, then we need to assign it to an object rather than just printing it.  Here we can use the list method to convert the iterable reader object to a list, one per row."
   ]
  },
  {
   "cell_type": "code",
   "execution_count": null,
   "metadata": {},
   "outputs": [],
   "source": [
    "with open('my_data.csv', newline='') as f:\n",
    "    reader = csv.reader(f)\n",
    "    my_data = list(reader)\n",
    "my_data"
   ]
  },
  {
   "cell_type": "markdown",
   "metadata": {},
   "source": [
    "If you want to skip the header row in order to have the data without the header, you can use **next** after instantiating the reader object, to advance one row in the CVS file."
   ]
  },
  {
   "cell_type": "code",
   "execution_count": null,
   "metadata": {},
   "outputs": [],
   "source": [
    "with open('my_data.csv', newline='') as f:\n",
    "    reader = csv.reader(f)\n",
    "    next(reader)\n",
    "    my_data = list(reader)\n",
    "my_data"
   ]
  },
  {
   "cell_type": "markdown",
   "metadata": {},
   "source": [
    "Since the data is now available as an object, you can do normal Python processing on it, like selecting the first entry of each row and printing it."
   ]
  },
  {
   "cell_type": "code",
   "execution_count": null,
   "metadata": {},
   "outputs": [],
   "source": [
    "for row in my_data:\n",
    "    print(row[0])"
   ]
  },
  {
   "cell_type": "markdown",
   "metadata": {},
   "source": [
    "### Reading a CSV File and Computing Statistics With it\n",
    "\n",
    "Use rain.csv to calculate mean and maximum values in a column"
   ]
  },
  {
   "cell_type": "code",
   "execution_count": 37,
   "metadata": {},
   "outputs": [
    {
     "name": "stdout",
     "output_type": "stream",
     "text": [
      "mean: 3.7 inches\n",
      "max: 5.9 inches\n"
     ]
    }
   ],
   "source": [
    "with open('data/rain.csv', 'r') as csvfile:\n",
    "    \n",
    "    # initialize a counter and variables to contain our descriptive stats\n",
    "    count = 0 #at the end, divide cumulative_sum by this to get the mean\n",
    "    cumulative_sum = 0 #our rolling sum\n",
    "    max_value = -1 #pick a really small number that's guaranteed to be less than the max\n",
    "    \n",
    "    # open the file and skip the header row\n",
    "    my_csv = csv.reader(csvfile)\n",
    "    next(my_csv)\n",
    "    \n",
    "    # loop through each data row\n",
    "    for row in my_csv:\n",
    "        \n",
    "        # rainfall amount is in column 1, only process this row's value if not an empty string\n",
    "        if not row[1] == '':\n",
    "            \n",
    "            # increment the counter and extract this row's rainfall as a float\n",
    "            count = count + 1\n",
    "            rainfall = float(row[1])\n",
    "            \n",
    "            # add this row's rainfall to the cumulative sum\n",
    "            cumulative_sum = cumulative_sum + rainfall\n",
    "            \n",
    "            # if this row's rainfall is greater than the current max value, update with the new max\n",
    "            if rainfall > max_value:\n",
    "                max_value = rainfall\n",
    "\n",
    "    # after looping through all the rows, divide the cumulative sum by the count and round to get the mean\n",
    "    mean_value = round(cumulative_sum / count, 1)\n",
    "    \n",
    "    # print out the mean and max values\n",
    "    print('mean:', mean_value, 'inches')\n",
    "    print('max:', max_value, 'inches')"
   ]
  },
  {
   "cell_type": "code",
   "execution_count": 8,
   "metadata": {},
   "outputs": [
    {
     "name": "stdout",
     "output_type": "stream",
     "text": [
      "mean: 3.7 inches\n",
      "max: 5.9 inches\n",
      "min: 0.7 inches\n"
     ]
    }
   ],
   "source": [
    "with open('data/rain.csv', 'r') as csvfile:\n",
    "    \n",
    "    # initialize a counter and variables to contain our descriptive stats\n",
    "    count = 0 #at the end, divide cumulative_sum by this to get the mean\n",
    "    cumulative_sum = 0 #our rolling sum\n",
    "    max_value = -1 #pick a really small number that's guaranteed to be less than the max\n",
    "    min_value=1000\n",
    "    \n",
    "    # open the file and skip the header row\n",
    "    my_csv = csv.reader(csvfile)\n",
    "    next(my_csv)\n",
    "    \n",
    "    # loop through each data row\n",
    "    for row in my_csv:\n",
    "        \n",
    "        # rainfall amount is in column 1, only process this row's value if not an empty string\n",
    "        if not row[1] == '':\n",
    "            \n",
    "            # increment the counter and extract this row's rainfall as a float\n",
    "            count = count + 1\n",
    "            rainfall = float(row[1])\n",
    "            \n",
    "            # add this row's rainfall to the cumulative sum\n",
    "            cumulative_sum = cumulative_sum + rainfall\n",
    "            \n",
    "            # if this row's rainfall is greater than the current max value, update with the new max\n",
    "            if rainfall > max_value:\n",
    "                max_value = rainfall\n",
    "            elif rainfall< min_value:\n",
    "                min_value = rainfall\n",
    "                \n",
    "\n",
    "    # after looping through all the rows, divide the cumulative sum by the count and round to get the mean\n",
    "    mean_value = round(cumulative_sum / count, 1)\n",
    "    \n",
    "    # print out the mean and max values\n",
    "    print('mean:', mean_value, 'inches')\n",
    "    print('max:', max_value, 'inches')\n",
    "    print('min:', min_value, 'inches')"
   ]
  },
  {
   "cell_type": "markdown",
   "metadata": {},
   "source": [
    "How would you find the minimum rainfall amount?"
   ]
  },
  {
   "cell_type": "markdown",
   "metadata": {},
   "source": [
    "### Cleaning up Messy Data"
   ]
  },
  {
   "cell_type": "markdown",
   "metadata": {},
   "source": [
    "Let's look at another data file - one that contains a few Craigslist rental listings, that we have already done some cleanup on."
   ]
  },
  {
   "cell_type": "code",
   "execution_count": 10,
   "metadata": {},
   "outputs": [
    {
     "name": "stdout",
     "output_type": "stream",
     "text": [
      "['neighborhood', 'price', 'bedrooms', 'date', 'sqft', 'longitude', 'latitude']\n",
      "['foster city', '2495', '1', '11/14/2014 12:26', '755', '-122.27', '37.5538']\n",
      "['palo alto', '2695', '', '11/14/2014 12:25', '443', '-122.161524', '37.450289']\n",
      "['brisbane', '3150', '2', '11/14/2014 12:24', '1242', '-122.417912', '37.692415']\n",
      "['palo alto', '2800', '2', '11/14/2014 12:24', '', '', '']\n",
      "['san mateo', '2196', '1', '11/14/2014 12:24', '676', '-122.2998', '37.5395']\n",
      "['santa clara', '3264', '3', '11/14/2014 12:28', '1138', '', '']\n",
      "['san jose south', '2000', '2', '11/14/2014 12:28', '822', '-121.902268', '37.253503']\n",
      "['sunnyvale', '4740', '3', '11/14/2014 12:28', '1406', '-122.034683', '37.368445']\n",
      "['inner sunset / UCSF', '3395', '2', '11/14/2014 12:32', '', '-122.479345', '37.764582']\n",
      "['richmond / seacliff', '2699', '1', '11/14/2014 12:32', '', '-122.503781', '37.7718']\n",
      "['SOMA / south beach', '3620', '1', '11/14/2014 12:30', '860', '-122.395195', '37.775133']\n",
      "['dublin / pleasanton / livermore', '2025', '1', '11/14/2014 12:18', '636', '-121.787665', '37.67963']\n",
      "['concord / pleasant hill / martinez', '', '2', '11/14/2014 12:18', '1019', '-122.035275', '37.975259']\n",
      "['hercules, pinole, san pablo, el sob', '1795', '1', '11/14/2014 12:17', '715', '-122.321672', '37.978086']\n",
      "['corte madera', '4299', '3', '11/14/2014 12:33', '1533', '-122.488541', '37.919834']\n"
     ]
    }
   ],
   "source": [
    "with open('data/rents_raw.csv', 'r') as csvfile:\n",
    "    my_csv = csv.reader(csvfile)\n",
    "    for row in my_csv:\n",
    "        print(row)"
   ]
  },
  {
   "cell_type": "code",
   "execution_count": 15,
   "metadata": {},
   "outputs": [
    {
     "name": "stdout",
     "output_type": "stream",
     "text": [
      "['neighborhood', 'price', 'bedrooms', 'date', 'sqft', 'longitude', 'latitude']\n"
     ]
    }
   ],
   "source": [
    "# the column headers are the first row in the data file\n",
    "# use next to iterate our csv reader to the first row to grab the headers\n",
    "with open('data/rents_raw.csv', 'r') as csvfile:\n",
    "    my_csv = csv.reader(csvfile)\n",
    "    headers = next(my_csv)\n",
    "    print(headers)"
   ]
  },
  {
   "cell_type": "code",
   "execution_count": 16,
   "metadata": {},
   "outputs": [
    {
     "data": {
      "text/plain": [
       "'price'"
      ]
     },
     "execution_count": 16,
     "metadata": {},
     "output_type": "execute_result"
    }
   ],
   "source": [
    "# what is the 1st column (zero-indexed) in our data set?\n",
    "headers[1]"
   ]
  },
  {
   "cell_type": "code",
   "execution_count": 18,
   "metadata": {},
   "outputs": [
    {
     "name": "stdout",
     "output_type": "stream",
     "text": [
      "['foster city', '2495', '1', '11/14/2014 12:26', '755', '-122.27', '37.5538']\n",
      "['palo alto', '2695', '', '11/14/2014 12:25', '443', '-122.161524', '37.450289']\n",
      "['brisbane', '3150', '2', '11/14/2014 12:24', '1242', '-122.417912', '37.692415']\n",
      "['palo alto', '2800', '2', '11/14/2014 12:24', '', '', '']\n",
      "['san mateo', '2196', '1', '11/14/2014 12:24', '676', '-122.2998', '37.5395']\n",
      "['santa clara', '3264', '3', '11/14/2014 12:28', '1138', '', '']\n",
      "['san jose south', '2000', '2', '11/14/2014 12:28', '822', '-121.902268', '37.253503']\n",
      "['sunnyvale', '4740', '3', '11/14/2014 12:28', '1406', '-122.034683', '37.368445']\n",
      "['inner sunset / UCSF', '3395', '2', '11/14/2014 12:32', '', '-122.479345', '37.764582']\n",
      "['richmond / seacliff', '2699', '1', '11/14/2014 12:32', '', '-122.503781', '37.7718']\n",
      "['SOMA / south beach', '3620', '1', '11/14/2014 12:30', '860', '-122.395195', '37.775133']\n",
      "['dublin / pleasanton / livermore', '2025', '1', '11/14/2014 12:18', '636', '-121.787665', '37.67963']\n",
      "['concord / pleasant hill / martinez', '', '2', '11/14/2014 12:18', '1019', '-122.035275', '37.975259']\n",
      "['hercules, pinole, san pablo, el sob', '1795', '1', '11/14/2014 12:17', '715', '-122.321672', '37.978086']\n",
      "['corte madera', '4299', '3', '11/14/2014 12:33', '1533', '-122.488541', '37.919834']\n"
     ]
    }
   ],
   "source": [
    "# the column headers are the first row in the data file\n",
    "# use next to iterate our csv reader to the first row to grab the headers\n",
    "with open('data/rents_raw.csv', 'r') as csvfile:\n",
    "    my_csv = csv.reader(csvfile)\n",
    "    next(my_csv)\n",
    "    for row in my_csv:\n",
    "        print(row)"
   ]
  },
  {
   "cell_type": "code",
   "execution_count": 21,
   "metadata": {},
   "outputs": [
    {
     "name": "stdout",
     "output_type": "stream",
     "text": [
      "price\n",
      "2495\n",
      "2695\n",
      "3150\n",
      "2800\n",
      "2196\n",
      "3264\n",
      "2000\n",
      "4740\n",
      "3395\n",
      "2699\n",
      "3620\n",
      "2025\n",
      "\n",
      "1795\n",
      "4299\n"
     ]
    }
   ],
   "source": [
    "# for each row in the data set, print the price column's value\n",
    "with open('data/rents_raw.csv', 'r') as csvfile:\n",
    "    my_csv = csv.reader(csvfile)\n",
    "    for row in my_csv:\n",
    "        print(row[1])"
   ]
  },
  {
   "cell_type": "code",
   "execution_count": 23,
   "metadata": {},
   "outputs": [
    {
     "data": {
      "text/plain": [
       "['price',\n",
       " '2495',\n",
       " '2695',\n",
       " '3150',\n",
       " '2800',\n",
       " '2196',\n",
       " '3264',\n",
       " '2000',\n",
       " '4740',\n",
       " '3395',\n",
       " '2699',\n",
       " '3620',\n",
       " '2025',\n",
       " '',\n",
       " '1795',\n",
       " '4299']"
      ]
     },
     "execution_count": 23,
     "metadata": {},
     "output_type": "execute_result"
    }
   ],
   "source": [
    "# create a new list to contain the column of prices in the data set\n",
    "prices = []\n",
    "with open('data/rents_raw.csv', 'r') as csvfile:\n",
    "    my_csv = csv.reader(csvfile)\n",
    "    for row in my_csv:\n",
    "        prices.append(row[1])  \n",
    "prices"
   ]
  },
  {
   "cell_type": "markdown",
   "metadata": {},
   "source": [
    "This list has a couple of problems. First, it includes the header. Second, it's all strings even though prices are numeric data. Third, it contains some empty strings. We'll have to clean it up."
   ]
  },
  {
   "cell_type": "code",
   "execution_count": 24,
   "metadata": {},
   "outputs": [
    {
     "data": {
      "text/plain": [
       "['2495',\n",
       " '2695',\n",
       " '3150',\n",
       " '2800',\n",
       " '2196',\n",
       " '3264',\n",
       " '2000',\n",
       " '4740',\n",
       " '3395',\n",
       " '2699',\n",
       " '3620',\n",
       " '2025',\n",
       " '',\n",
       " '1795',\n",
       " '4299']"
      ]
     },
     "execution_count": 24,
     "metadata": {},
     "output_type": "execute_result"
    }
   ],
   "source": [
    "# to remove the first element of the list, we can just capture position 1 through the end of the list\n",
    "prices_noheader = prices[1:]\n",
    "prices_noheader"
   ]
  },
  {
   "cell_type": "code",
   "execution_count": 28,
   "metadata": {},
   "outputs": [
    {
     "name": "stdout",
     "output_type": "stream",
     "text": [
      "2495  \n",
      "2695  \n",
      "3150  \n",
      "2800  \n",
      "2196  \n",
      "3264  \n",
      "2000  \n",
      "4740  \n",
      "3395  \n",
      "2699  \n",
      "3620  \n",
      "2025  \n"
     ]
    },
    {
     "ename": "ValueError",
     "evalue": "could not convert string to float: ",
     "output_type": "error",
     "traceback": [
      "\u001b[1;31m---------------------------------------------------------------------------\u001b[0m",
      "\u001b[1;31mValueError\u001b[0m                                Traceback (most recent call last)",
      "\u001b[1;32m<ipython-input-28-372769648ad3>\u001b[0m in \u001b[0;36m<module>\u001b[1;34m()\u001b[0m\n\u001b[0;32m      1\u001b[0m \u001b[1;31m# now let's convert the price strings to integers\u001b[0m\u001b[1;33m\u001b[0m\u001b[1;33m\u001b[0m\u001b[0m\n\u001b[0;32m      2\u001b[0m \u001b[1;32mfor\u001b[0m \u001b[0mprice\u001b[0m \u001b[1;32min\u001b[0m \u001b[0mprices_noheader\u001b[0m\u001b[1;33m:\u001b[0m\u001b[1;33m\u001b[0m\u001b[0m\n\u001b[1;32m----> 3\u001b[1;33m     \u001b[0mprint\u001b[0m\u001b[1;33m(\u001b[0m\u001b[0mint\u001b[0m\u001b[1;33m(\u001b[0m\u001b[0mfloat\u001b[0m\u001b[1;33m(\u001b[0m\u001b[0mprice\u001b[0m\u001b[1;33m)\u001b[0m\u001b[1;33m)\u001b[0m\u001b[1;33m,\u001b[0m \u001b[1;34m' '\u001b[0m\u001b[1;33m)\u001b[0m\u001b[1;33m\u001b[0m\u001b[0m\n\u001b[0m",
      "\u001b[1;31mValueError\u001b[0m: could not convert string to float: "
     ]
    }
   ],
   "source": [
    "# now let's convert the price strings to integers\n",
    "for price in prices_noheader:\n",
    "    print(int(float(price)), ' ')"
   ]
  },
  {
   "cell_type": "code",
   "execution_count": 29,
   "metadata": {},
   "outputs": [
    {
     "name": "stdout",
     "output_type": "stream",
     "text": [
      "2495\n",
      "2695\n",
      "3150\n",
      "2800\n",
      "2196\n",
      "3264\n",
      "2000\n",
      "4740\n",
      "3395\n",
      "2699\n",
      "3620\n",
      "2025\n",
      "None\n",
      "1795\n",
      "4299\n"
     ]
    }
   ],
   "source": [
    "# you can't convert an empty string to a numeric type\n",
    "for price in prices_noheader:\n",
    "    if not price == '':\n",
    "        print(int(float(price)))\n",
    "    else:\n",
    "        print('None')"
   ]
  },
  {
   "cell_type": "code",
   "execution_count": 30,
   "metadata": {},
   "outputs": [
    {
     "name": "stdout",
     "output_type": "stream",
     "text": [
      "2495\n",
      "2695\n",
      "3150\n",
      "2800\n",
      "2196\n",
      "3264\n",
      "2000\n",
      "4740\n",
      "3395\n",
      "2699\n",
      "3620\n",
      "2025\n",
      "None\n",
      "1795\n",
      "4299\n"
     ]
    }
   ],
   "source": [
    "# you can't convert an empty string to a numeric type\n",
    "for price in prices_noheader:\n",
    "    if not price == '':\n",
    "        print(int(price))\n",
    "    else:\n",
    "        print('None')"
   ]
  },
  {
   "cell_type": "code",
   "execution_count": 31,
   "metadata": {},
   "outputs": [],
   "source": [
    "# encapsulate this functionality inside a new function\n",
    "def extract_int_price(price):\n",
    "    if not price == '':\n",
    "        return int(float(price))\n",
    "    else:\n",
    "        return None"
   ]
  },
  {
   "cell_type": "code",
   "execution_count": 32,
   "metadata": {},
   "outputs": [
    {
     "name": "stdout",
     "output_type": "stream",
     "text": [
      "2495\n",
      "2695\n",
      "3150\n",
      "2800\n",
      "2196\n",
      "3264\n",
      "2000\n",
      "4740\n",
      "3395\n",
      "2699\n",
      "3620\n",
      "2025\n",
      "None\n",
      "1795\n",
      "4299\n"
     ]
    }
   ],
   "source": [
    "# use our function to convert each element in the list of prices to an integer\n",
    "for price in prices_noheader:\n",
    "    print(extract_int_price(price))"
   ]
  },
  {
   "cell_type": "code",
   "execution_count": 33,
   "metadata": {},
   "outputs": [
    {
     "name": "stdout",
     "output_type": "stream",
     "text": [
      "[2495, 2695, 3150, 2800, 2196, 3264, 2000, 4740, 3395, 2699, 3620, 2025, None, 1795, 4299]\n"
     ]
    }
   ],
   "source": [
    "# rather than just printing each converted value, turn it into a new list called int_prices\n",
    "int_prices = []\n",
    "for price in prices_noheader:\n",
    "    int_prices.append(extract_int_price(price))\n",
    "print(int_prices)"
   ]
  },
  {
   "cell_type": "markdown",
   "metadata": {},
   "source": [
    "### Now let's clean up our neighborhood names\n"
   ]
  },
  {
   "cell_type": "code",
   "execution_count": 36,
   "metadata": {},
   "outputs": [
    {
     "name": "stdout",
     "output_type": "stream",
     "text": [
      "foster city\n",
      "palo alto\n",
      "brisbane\n",
      "palo alto\n",
      "san mateo\n",
      "santa clara\n",
      "san jose south\n",
      "sunnyvale\n",
      "inner sunset - UCSF\n",
      "richmond - seacliff\n",
      "SOMA - south beach\n",
      "dublin - pleasanton - livermore\n",
      "concord - pleasant hill - martinez\n",
      "hercules, pinole, san pablo, el sob\n",
      "corte madera\n"
     ]
    }
   ],
   "source": [
    "# replace any forward slashes in neighborhood name with a hyphen\n",
    "with open('data/rents_raw.csv', 'r') as csvfile:\n",
    "    my_csv = csv.reader(csvfile)\n",
    "    next(my_csv) #skip the header row\n",
    "    for row in my_csv:\n",
    "        print(row[0].replace('/', '-')) #use string.replace() method"
   ]
  },
  {
   "cell_type": "code",
   "execution_count": 12,
   "metadata": {},
   "outputs": [
    {
     "name": "stdout",
     "output_type": "stream",
     "text": [
      "['neighborhood', 'price', 'bedrooms', 'date', 'sqft', 'longitude', 'latitude']\n",
      "['foster city', '2495', '1', '11/14/2014 12:26', '755', '-122.27', '37.5538']\n",
      "['palo alto', '2695', '', '11/14/2014 12:25', '443', '-122.161524', '37.450289']\n",
      "['brisbane', '3150', '2', '11/14/2014 12:24', '1242', '-122.417912', '37.692415']\n",
      "['palo alto', '2800', '2', '11/14/2014 12:24', '', '', '']\n",
      "['san mateo', '2196', '1', '11/14/2014 12:24', '676', '-122.2998', '37.5395']\n",
      "['santa clara', '3264', '3', '11/14/2014 12:28', '1138', '', '']\n",
      "['san jose south', '2000', '2', '11/14/2014 12:28', '822', '-121.902268', '37.253503']\n",
      "['sunnyvale', '4740', '3', '11/14/2014 12:28', '1406', '-122.034683', '37.368445']\n",
      "['inner sunset / UCSF', '3395', '2', '11/14/2014 12:32', '', '-122.479345', '37.764582']\n",
      "['richmond / seacliff', '2699', '1', '11/14/2014 12:32', '', '-122.503781', '37.7718']\n",
      "['SOMA / south beach', '3620', '1', '11/14/2014 12:30', '860', '-122.395195', '37.775133']\n",
      "['dublin / pleasanton / livermore', '2025', '1', '11/14/2014 12:18', '636', '-121.787665', '37.67963']\n",
      "['concord / pleasant hill / martinez', '', '2', '11/14/2014 12:18', '1019', '-122.035275', '37.975259']\n",
      "['hercules, pinole, san pablo, el sob', '1795', '1', '11/14/2014 12:17', '715', '-122.321672', '37.978086']\n",
      "['corte madera', '4299', '3', '11/14/2014 12:33', '1533', '-122.488541', '37.919834']\n"
     ]
    }
   ],
   "source": [
    "with open('data/rents_raw.csv', 'r') as csvfile:\n",
    "    my_csv = csv.reader(csvfile)\n",
    "    for row in my_csv:\n",
    "        print(row)"
   ]
  },
  {
   "cell_type": "markdown",
   "metadata": {},
   "source": [
    "### Create a new data set with cleaned up variables"
   ]
  },
  {
   "cell_type": "code",
   "execution_count": 37,
   "metadata": {},
   "outputs": [],
   "source": [
    "# create a new function to convert bedrooms from a string to an int\n",
    "def extract_int_bedrooms(bedrooms):\n",
    "    if not bedrooms == '':\n",
    "        return int(float(bedrooms))\n",
    "    else:\n",
    "        return None"
   ]
  },
  {
   "cell_type": "code",
   "execution_count": 38,
   "metadata": {},
   "outputs": [],
   "source": [
    "# create a new function to replace forward slashes and commas with hyphens\n",
    "def clean_neighborhood(neighborhood_name):\n",
    "    # you can daisy chain multiple string.replace() methods\n",
    "    return neighborhood_name.replace('/', '-').replace(',', '')"
   ]
  },
  {
   "cell_type": "code",
   "execution_count": 40,
   "metadata": {},
   "outputs": [
    {
     "data": {
      "text/plain": [
       "[['foster city', 2495, 1],\n",
       " ['palo alto', 2695, None],\n",
       " ['brisbane', 3150, 2],\n",
       " ['palo alto', 2800, 2],\n",
       " ['san mateo', 2196, 1],\n",
       " ['santa clara', 3264, 3],\n",
       " ['san jose south', 2000, 2],\n",
       " ['sunnyvale', 4740, 3],\n",
       " ['inner sunset - UCSF', 3395, 2],\n",
       " ['richmond - seacliff', 2699, 1],\n",
       " ['SOMA - south beach', 3620, 1],\n",
       " ['dublin - pleasanton - livermore', 2025, 1],\n",
       " ['concord - pleasant hill - martinez', None, 2],\n",
       " ['hercules pinole san pablo el sob', 1795, 1],\n",
       " ['corte madera', 4299, 3]]"
      ]
     },
     "execution_count": 40,
     "metadata": {},
     "output_type": "execute_result"
    }
   ],
   "source": [
    "# clean the data set by calling the cleaning functions and save the results to variables\n",
    "rentals_cleaned = []\n",
    "with open('data/rents_raw.csv', 'r') as csvfile:\n",
    "    my_csv = csv.reader(csvfile)\n",
    "    next(my_csv)\n",
    "    for row in my_csv:\n",
    "        neighborhood_cleaned = clean_neighborhood(row[0])\n",
    "        price_cleaned = extract_int_price(row[1])\n",
    "        bedrooms_cleaned = extract_int_bedrooms(row[2])\n",
    "        rentals_cleaned.append([neighborhood_cleaned, price_cleaned, bedrooms_cleaned])      \n",
    "\n",
    "# display our nested lists of data        \n",
    "rentals_cleaned"
   ]
  },
  {
   "cell_type": "markdown",
   "metadata": {},
   "source": [
    "# Exercise: \n",
    "\n",
    "1. Calculate the price per square foot, and write the result to a new file.  \n",
    "2. Calculate the average price per square foot. \n",
    "3. Explain how you have dealt with missing data in 1 and 2, and how that might affect your result. "
   ]
  },
  {
   "cell_type": "code",
   "execution_count": 1,
   "metadata": {},
   "outputs": [],
   "source": [
    "# create a new function to convert non empty price value from a string to an int\n",
    "def extract_int_price(price):\n",
    "    if not price == '':\n",
    "        return int(float(price))\n",
    "    else:\n",
    "        return None"
   ]
  },
  {
   "cell_type": "code",
   "execution_count": 2,
   "metadata": {},
   "outputs": [],
   "source": [
    "# create a new function to convert non empty sqft value from a string to an int\n",
    "def extract_int_sqft(sqft):\n",
    "    if not sqft == '':\n",
    "        return int(float(sqft))\n",
    "    else:\n",
    "        return None"
   ]
  },
  {
   "cell_type": "code",
   "execution_count": 16,
   "metadata": {},
   "outputs": [
    {
     "name": "stdout",
     "output_type": "stream",
     "text": [
      "[2495, 2695, 3150, 2800, 2196, 3264, 2000, 4740, 3395, 2699, 3620, 2025, None, 1795, 4299]\n",
      "[755, 443, 1242, None, 676, 1138, 822, 1406, None, None, 860, 636, 1019, 715, 1533]\n"
     ]
    }
   ],
   "source": [
    "import csv\n",
    "\n",
    "price_cleaned=[]# create a new list to contain the column of prices in the data set\n",
    "sqft_cleaned=[]# create a new list to contain the column of prices in the data set\n",
    "with open('data/rents_raw.csv', 'r') as csvfile: #open the csv file to read data\n",
    "    my_csv = csv.reader(csvfile)\n",
    "    next(my_csv)# skip the header row\n",
    "    for row in my_csv:\n",
    "        # clean the data set by calling the cleaning functions and save the results to list\n",
    "        price_cleaned.append( extract_int_price(row[1]))\n",
    "        sqft_cleaned.append(extract_int_sqft(row[4]))\n",
    "          \n",
    "\n",
    "print(price_cleaned)\n",
    "print(sqft_cleaned)"
   ]
  },
  {
   "cell_type": "code",
   "execution_count": 22,
   "metadata": {},
   "outputs": [
    {
     "name": "stdout",
     "output_type": "stream",
     "text": [
      "[[3.3046357615894038], [6.0835214446952595], [2.536231884057971], [3.2485207100591715], [2.8681898066783833], [2.4330900243309004], [3.3712660028449504], [4.209302325581396], [3.1839622641509435], [2.5104895104895104], [2.8043052837573383]]\n"
     ]
    }
   ],
   "source": [
    "price_per_sqft=[]\n",
    "# loop is iterated through two lists in parallel\n",
    "for price, sqft in zip(price_cleaned, sqft_cleaned):\n",
    "    if (price is not None) and (sqft is not None):\n",
    "         price_per_sqft.append([price/sqft])\n",
    "print(price_per_sqft)\n"
   ]
  },
  {
   "cell_type": "code",
   "execution_count": 17,
   "metadata": {},
   "outputs": [],
   "source": [
    "#1\n",
    "import csv\n",
    "# write the result to a new csv file\n",
    "with open('price_per_sqft.csv', 'w', newline='') as f:\n",
    "    writer = csv.writer(f)\n",
    "    writer.writerow([\"price per square foot\"]) # add header row\n",
    "    \n",
    "    writer.writerows(price_per_sqft)"
   ]
  },
  {
   "cell_type": "markdown",
   "metadata": {},
   "source": [
    "\n",
    "with open('price_per_sqft.csv', 'r') as csvfile:# read data from csv file\n",
    "    count = 0 #at the end, divide cumulative_sum by this to get the average price per sqft\n",
    "    cumulative_sum = 0 #our rolling sum\n",
    "    my_csv = csv.reader(csvfile)\n",
    "    next(my_csv)# skip the header row\n",
    "    for row in my_csv:\n",
    "            cumulative_sum=cumulative_sum + float(row[0])#add rows to cumulative sum\n",
    "            count= count + 1 # increase the value of counter by 1\n",
    "average_price_per_sqft=round(cumulative_sum / count,2) # calculate the average value \n",
    "\n",
    "\n",
    "print(cumulative_sum/count)\n",
    "print(average_price_per_sqft)"
   ]
  },
  {
   "cell_type": "code",
   "execution_count": 1,
   "metadata": {},
   "outputs": [],
   "source": [
    "#3 \n",
    "# I have skipped missing data in 1 and 2 and it may affect the result of average value of price per square foot \n"
   ]
  },
  {
   "cell_type": "code",
   "execution_count": null,
   "metadata": {},
   "outputs": [],
   "source": []
  },
  {
   "cell_type": "markdown",
   "metadata": {},
   "source": [
    "# Answer 1"
   ]
  },
  {
   "cell_type": "code",
   "execution_count": 8,
   "metadata": {},
   "outputs": [
    {
     "name": "stdout",
     "output_type": "stream",
     "text": [
      "[['Comfort & Convenience At an Affordable Price', 'foster city', 3.3046357615894038], ['$250 Visa Gift Card! Brand new flooring, appliances and so much more!', 'palo alto', 6.0835214446952595], ['Sunny 2 bed/2 bath Spacious Condo, personal washer & dryer', 'brisbane', 2.536231884057971], ['BOTTOM FLOOR ONE BEDROOM! PG&E IS INCLUDED! $199 DEPOSIT!', 'san mateo', 3.2485207100591715], ['Elegant Three Bd. W/ Unique Wood-Burning Fireplace & Lakefront View!!', 'santa clara', 2.8681898066783833], ['Welcome Home! Warmth and convenience all in one.', 'san jose south', 2.4330900243309004], ['Luxury Townhome!Located Next To Everything!Limited Availability Hurry!', 'sunnyvale', 3.3712660028449504], ['Gorgeous one BR with in-unit W/D', 'SOMA - south beach', 4.209302325581396], ['Special Price For this Spacious Two Bedroom Cottage with huge patio', 'dublin - pleasanton - livermore', 3.1839622641509435], ['Sit Back and Relax In This Wonderful Two Bedroom!', 'concord - pleasant hill - martinez', 2.3336604514229635], ['Newly Renovated 1 Bedroom 1 Bath!2nd Floor w/BAY VIEW!', 'hercules pinole san pablo el sob', 2.5104895104895104], ['Located in the Heart of Corte Madera / Georgeous Apartments', 'corte madera', 2.8043052837573383], ['Sunnyvale 3/1.5bath, upgraded, conv. location', 'Fair Oaks & Olive', 2.245833333333333], ['Exec worthy condo, pool, gym & billiards- walk to shops!', 'burlingame', 2.4375], ['Bristol Commons Is Your New Home!!!', 'sunnyvale', 2.671818181818182], ['Lovely Renovated 1 BD 1 BTH In An Astounding Location! ', 'sunnyvale', 2.6907894736842106], [' Available Now!!! High Ceilings, FirePlace Corner Unit', 'sunnyvale', 2.7588105726872247], ['TopFlr w Gorgeous View in Safe Neighborhd Norbert, SBayCoBusStp, MUNI ', 'glen park', 3.1], ['2 Bed on Top floor with a cozy fireplace, pet approved home!', 'fremont - union city - newark', 2.4613095238095237], ['â™¦COME AND SEE WHAT YOU HAVE BEEN MISSINGâ™¦', 'fremont - union city - newark', 2.3418367346938775], ['Chic Remodeled 2BD 1 BTH End Suite Nov. Rent Free Upon Credit Approval', 'sunnyvale', 2.573529411764706], ['Reserve Now! Nice 2 Bedroom, 2 Bathroom Available', 'santa clara', 2.362689393939394], ['2X2 SPECIALSSSS!! Vaulted Ceilings,Fireplace,W/D,AC/HEAT. PETS OK!!', 'cupertino', 2.7824858757062145], ['Your new home awaits you', 'dublin - pleasanton - livermore', 2.3438556933483654], ['2 Bedrooms Available NOW Full Size Wash/Dryer, Home Alarm + more!', 'fairfield - vacaville', 1.446774193548387], ['A Unique One Bedroom Layout! Very Open and Inviting!', 'hayward - castro valley', 2.7353463587921847], ['We have a GREAT Apartment waiting for you!! Come see today!', 'menlo park', 3.179376083188908], ['Tennis Court, 7 Pools, & Driving Range at This Two Bedroom Apartment', 'cupertino', 3.1693121693121693], ['5Br.-3Ba. Great house, location, floor plan and great schools...', 'san jose north', 1.494956772334294], ['STUNNING 5 Bedroom House in Beautiful Saratoga ~ A Must see!', 'saratoga', 1.735330836454432], ['Great Energy Modern Home', 'concord - pleasant hill - martinez', 1.5208574739281575], ['Great Location! Great Two Bedroom Apt.!Washer&Dryer!', 'walnut creek', 2.1055555555555556], ['Available Immediately! ', 'fremont - union city - newark', 2.3553299492385786], ['ST HELENA WOODED HILLSIDE SETTING IN TOWN', 'napa county', 1.5178571428571428], ['3BEDROOM 1BATH TOWNHOME W/ PATIO! PG&E INCLUDED! $199 DEPOSIT!', 'san mateo', 2.595895816890292], ['Professionally Remodeled Home, 3br 2ba * cul-de-sac Professionally Red', 'redwood city', 0.6895687061183551], ['BREATHTAKING WIDE WATER VIEWS - 2 huge master suites!!', 'foster city', 2.245789145352464], ['Furnished Turnkey Unit in Downtown Los Gatos', 'los gatos', 6.0625], ['Charming Los Gatos 2 Bedroom on Loma Alta!', 'los gatos', 2.942105263157895], ['Well Maintained Spacious 2 Br/1Ba Flat with City Light View', 'excelsior - outer mission', 2.6529108327192334], ['3 bedroom home for rent', 'san leandro', 1.9285714285714286], ['Month to Month No Lease', 'san rafael', 1.8125], ['** CHARMING REMODELED 2BD/2BA NEAR HISTORIC DOWNTOWN **', 'larkspur', 3.05], ['Enhance Your Surroundings in Your New 2B/2BA Home at Pescadero! Comin', 'redwood shores', 2.6034172661870505], ['Two Bedroom One Bath - Check This Out! Available December 15', 'millbrae', 3.0833333333333335], [\"Lease Your New Home Today! Great location, close to Levi's Stadium \", 'santa clara', 2.2565789473684212], ['GREAT Saratoga 3-Bedroom House with 3 Full Bathrooms', 'saratoga', 1.7135362014690452], [\"Move In Now - Be Home for the Holiday's \", 'san jose north', 2.2008695652173915], ['Convenient Access, Fitness Ctr, Personal Trainer, Public Transport', 'financial district', 4.00990916597853], ['Adams Pt. 1 bdrm! Great location!', 'oakland lake merritt - grand', 1.910179640718563], ['Spacious living & corner apt : eat-in kitchen : Laundry & POOL', 'hercules pinole san pablo el sob', 1.840599455040872], ['Great Features - Price - Location - Spacious Large Townhome', 'hercules pinole san pablo el sob', 1.5116279069767442], ['Tree house in San Anselmo ', 'san anselmo', 2.56], ['Some Utilities Included! 1B/1B Townhome Available For Rent! ', 'napa county', 1.8478260869565217], ['Lakeport Solar Home for Rent', 'lake county', 0.7317073170731707], ['Brand New Apartment Homes! ', 'san bruno', 4.842105263157895], ['Extra large 2bd/2ba unit near Downtown ', 'los altos', 1.9666666666666666], ['Located near Apple Shuttle, Renovated, Wd Floors, WD in unit', 'san jose west', 2.566666666666667], ['~*~*~ Fall In Love With Our Community and Downtown Sunnyvale ~*~*~', 'sunnyvale', 2.6836917562724016], ['Beautiful!! FULLY RENOVATED **OPEN HOUSE Sat. Nov. 15th 12pm-3pm**', 'haight ashbury', 3.823529411764706], ['Ideal corner apartment :: Spacious living area and a Relaxing POOL', 'hercules pinole san pablo el sob', 1.836734693877551], ['3BD/2BA Apartment with Quartz Countertops', 'fremont - union city - newark', 1.9893939393939395], ['2ba Luxury Apartment - Finest Location in Napa', 'napa county', 1.90552016985138], [\"Don't wait! These spacious apartment homes are going fast!\", 'petaluma', 2.063341250989707], ['Napa*Huge*5 Bed*loft*$3495 a month', 'napa county', 0.9985714285714286], ['2 Bedroom Townhome Apartment Available Now. Enclosed Back Patio!', 'san mateo', 2.9107332624867164], ['THIS IS YOUR NEW HOME!! Updated Large 4 bedrooms/2.5 baths', 'foster city', 1.8636363636363635], ['Spacious 1 bedroom! Private patio and walk in closet! ', 'san bruno', 2.9354375896700144], ['Downstairs 1B1B with a full size Washer & Dryer!! Move-in Now!!!', 'cupertino', 3.291012838801712], ['Large Home across from Golf Course! Near 85 and 101 in Santa Teresa!', 'san jose south', 1.469961653174265], ['Two Bedroom With Walk-In-Closet And Washer & Dryer!', 'san jose west', 2.719406674907293], ['Spacious 2x1, Top Floor, Beautiful View of the Creek! Available NOW!!', 'walnut creek', 1.937], [\"Don't Wait Call Us Today!! Ask About #501.\", 'fremont - union city - newark', 2.8525], ['Charming Ross Home on Shady Lane --PRANDI', 'kentfield - ross', 3.5714285714285716], [\"$750 Off On First Month's Rent /Remodeled\", 'petaluma', 1.75], ['Newly updated 3 bed 2 bath single family home', 'palo alto', 3.769230769230769], ['Available mid-Nov! 1BR Townhome w/ Private Patio! Near PA & MV', 'los altos', 3.74375], ['$2,145 808 SQ FT WITH FREE PARKING! CALL NOW!', 'san jose downtown', 2.6547029702970297], ['1 MONTH FREE! 2br/1.5ba Townhouse, Washer/Dryer, Los Gatos Schools', 'los gatos', 2.2222222222222223], ['Large Townhouse Ready Now Near Apple Cupertino Schools Pool Spa', 'sunnyvale', 2.631818181818182], ['Westwood Park 3 Bedrm,1.5 Bath ', 'ingleside - SFSU - CCSF', 2.3157894736842106], ['Woodburning Fireplace in This Huge One Bedroom Apartment Home', 'fairfield - vacaville', 1.7675675675675675], ['Affordable Two Bedroom Near Public Transportation, Shopping and Dining', 'walnut creek', 2.176], ['Beautiful 4/3 Home in Brentwood & Close to Hwy-4 Bypass & Excellent Scho', 'brentwood - oakley', 1.0401548137397194], ['Sophisticated City Living', 'tiburon - belvedere', 3.1944444444444446], ['SPECTACULAR WATER VIEWS AVAILABLE', 'tiburon - belvedere', 3.007079646017699], ['Close to University of California San Francisco', 'pacifica', 2.942857142857143], ['Top floor condo, centrally located to downtown, BART, SFO, convenience', 'millbrae', 3.2724719101123596], ['This Gorgeous Studio Is near the Best of Palo Alto & Mountain View', 'mountain view', 4.047169811320755], ['Enjoy up to 6 weeks free! Brand new resort-style community', 'san jose north', 3.425925925925926], ['2x2 Large Apartment ', 'ingleside - SFSU - CCSF', 3.026605504587156], ['Large 2bd/bath Heart of Mission Furnished Short Term Sublet', 'mission district', 2.8], ['Last 2 bedroom Available for IMMEDIATE move in!', 'alameda', 1.8974358974358974], ['SPECTACULAR WATER VIEWS AVAILABLE', 'tiburon - belvedere', 3.007079646017699], ['SPECTACULAR WATER VIEWS AVAILABLE', 'tiburon - belvedere', 3.095575221238938], ['Huge & Bright 1x1 Top Floor! One Month Free Rent', 'san mateo', 3.639344262295082], ['BRAND NEW 2 BED 2 BATH CUPERTINO SCHOOLS NEAR APPLE CUPERTINO ', 'cupertino', 2.895], ['SHORT LEASE Brand New NEAR APPLE POOL Cupertino Schools', 'sunnyvale', 3.5833333333333335], ['End Unit Sausalito Townhouse with Expansive Views --PRANDI', 'sausalito', 2.4205748865355523], ['PENDING! Updated 2 Bedroom Condo In Terra Linda --PRANDI', 'san rafael', 2.13091922005571], ['Close to Everything but Far From Ordinary ... Pescadero Apts.', 'redwood shores', 2.6034172661870505], ['Amazing HUGE 3 bd', 'san mateo', 1.84375], ['Stylish Interiors in Prestigious Neighborhood', 'sunnyvale', 3.07], ['Awesome and Spacious 1BR/1BA at a beautiful community!!!', 'san jose south', 2.7037037037037037], ['Convenient location, spacious floor plan and a beautiful views', 'sunnyvale', 2.7755555555555556], ['Delightful 3 Bedroom Home with Hardwood Flooring & Yard! --PRANDI', 'san anselmo', 1.7727272727272727], ['Stunning Quality First Time Rental, A Must See! --PRANDI', 'mill valley', 2.675675675675676], ['Beautiful One Bed / One Bath Available Now. We Pay Gas & Electricity!', 'san mateo', 3.1508875739644973], ['Citihomes East Town house', 'foster city', 2.6016260162601625], ['We pay for water, garbage and sewer.', 'san jose south', 2.4642857142857144], ['$500.00 Off Select 2 Bedroom, 1 Bath, Ready for Move In Now, Pool, Pet', 'milpitas', 2.5609756097560976], ['159 Panama Street', 'ingleside - SFSU - CCSF', 3.1818181818181817], ['$1800 - 2Bedroom/2.5Bath Gated Townhouse in Convenient Location ', 'hercules pinole san pablo el sob', 1.6216216216216217], ['A Must See! Towpath Village- Napa', 'napa county', 1.8530559167750325], ['Cozy In-Law in Vallemar!', 'pacifica', 4.375], ['One Bedroom One Bath With Private Yard!', 'palo alto', 3.0692307692307694], ['Ah! this spacious 1x1 is ready for move-in now. Inquire today!', 'san jose north', 2.621359223300971], ['423 34th Avenue, #3', 'richmond - seacliff', 3.6], ['See Whats Exciting and New At Sofi Dublin! 2x2 With Washer And Dryer', 'dublin - pleasanton - livermore', 2.4239130434782608], ['****2BR/2B Condo for rent****', 'oakland hills - mills', 2.132680320569902], ['Beautiful One Bedroom Apt.! Washer&Dryer! Call Today!', 'walnut creek', 3.2916666666666665], ['Live a Life of Luxury with Two Master Bedrooms!', 'rohnert pk - cotati', 1.7978260869565217], ['Sunny Hamilton home', 'novato', 1.7196531791907514], ['$2000 OFF!!! Relax In Our Waterfront Community!', 'foster city', 2.7847619047619045], ['A Magnificent Studio Located on the Top Floor with Washer and Dryer', 'belmont', 4.14], ['Condo style living @ Willow Lake!', 'san jose north', 2.7172131147540983], ['Large Upstairs One Bedroom Available 12/23!!', 'campbell', 2.730769230769231], ['27th floor ONE BEDROOM Downtown/Bay Views, Washer/Dryer in Unit', 'downtown - civic - van ness', 5.18202502844141], ['Exceptional 2BR/2BA Apartment!', 'vallejo - benicia', 2.1928020565552697], ['Beautiful remodeled home in Old Palo Alto, immediate move in', 'palo alto', 3.3125], ['Large 2 Bed/1 Bath Apartment Available Now. New Doggie Park Now Open!', 'san mateo', 2.808628318584071], ['Like What You See?? Then Pick Up The Phone & Give Us A Call!!', 'belmont', 2.5810526315789475], ['Looking to move this weekend? CALL NOW!!', 'san jose downtown', 2.5], ['$800 move-in bonus, Close to Apple, ebay etc. W/D, spa, sauna, gym', 'santa clara', 2.306603773584906], ['Beautiful home, french doors in the master suite', 'Lodi', 0.8858413639733136], ['Newly updated home', 'Oakdale', 0.9843982169390788], ['Charming westside cottage', 'petaluma', 2.230769230769231], ['****BEAUTIFUL MEDITERRANEAN. ****', 'san anselmo', 2.5870588235294116], ['Pacifica duplex, Ocean Views 2 BD/2 BTH BIG garage! Great location!', 'pacifica', 2.9], ['1 Bedroom or Studio - Downtown', 'los gatos', 2.88], ['Cahill Park 793 sq ft 1BD - walk in closet, central A/C heat, & W/D', 'san jose downtown', 2.862547288776797], ['Large Single Story Home, garage, bkyd, hdwd, W/D ', 'oakland north - temescal', 2.1032028469750887], ['Newer Designer Large Home-lowered price :)', 'santa rosa', 1.2857142857142858], ['After a Hectic Day, Come Home to Tranquility at Pescadero.', 'redwood shores', 3.358008075370121], ['Large 1 Bedroom/1 Bath Aparment Available! Dogs Love Us!', 'san mateo', 2.662404092071611], ['Abundant Savings! 2 Bedroom Townhome starting at $2685!!!!', 'san jose downtown', 2.554709800190295], ['Chic Urban One Bedroom!', 'san jose downtown', 2.4375], ['Nob Hill Furnished STUDIO', 'nob hill', 6.857142857142857], ['3 bedroom/ 2 bath', 'twin peaks - diamond hts', 3.960474308300395], ['Now leasing for immeidate and December Move Ins', 'alameda', 2.5694444444444446], ['2 Bd-2.5 Bath \"Redwood Glen\" Townhouse, Castro Valley', 'hayward - castro valley', 2.0496535796766744], ['Townhouse with a View', 'rohnert pk - cotati', 1.3869565217391304], ['3/2 Professionally Landscaped See Photos', 'half moon bay', 0.7670454545454546], ['Pet Friendly Property! Large 3x2 w/ Ample Storage!', 'belmont', 2.4782608695652173], ['Spacious One Bedroom Available Now !', 'san jose south', 2.4642857142857144], ['101 San Fernando***Great View***Balcony***San Fernando Views', 'san jose downtown', 3.5496750232126275], ['Available in our Newest of Six Villages!', 'san jose south', 2.5536193029490617], ['The Keys to Your New Home Are Waiting. Apply Online Today!', 'ingleside - SFSU - CCSF', 3.5454545454545454], ['Relocate to Alameda Island!', 'oakland downtown', 2.0], ['2BR close to everything.. (LEASE TAKE OVER APT. 124)', 'berkeley', 4.364569961489089], ['Calistoga one bedroom,garage Rare oportunity', 'napa county', 1.625], ['Huge & Spacious Corner Town Home Available Now - Newly Renovated', 'tiburon - belvedere', 3.6470588235294117], ['Gorgeous 2 Bedroom with Den!! Take a tour today!!', 'menlo park', 2.9470149253731344], ['Near cafes, shops, Cal Train, Garage parking, gym, resort pool', 'san mateo', 3.2130434782608694], ['101 San Fernando*** 2x2 Townhome**Facing 3rd Street', 'san jose downtown', 2.4978753541076486], ['Move In Special! Up to $1000 Off! Beautiful, Gorgeous One Bedroom Apt', 'cupertino', 4.6098901098901095], ['Carmelita Paradise. Start living the good life!', 'alamo square - nopa', 3.473684210526316], ['A brand new flat in San Francisco. ', 'laurel hts - presidio', 4.923076923076923], ['Beautiful Tracy Home!', 'dublin - pleasanton - livermore', 0.8876945885841364], ['Beautiful Hercules Home!', 'hercules pinole san pablo el sob', 1.3660714285714286], ['Large home, lots of living space!', 'vallejo - benicia', 0.9176470588235294], ['Close to 101, Lease Today, Washer Dryer', 'san rafael', 3.4323076923076923], ['Move-in Now! Perfect Apt for You! Bright, Spacious & Pool View!', 'belmont', 2.586315789473684], ['New 3 Bed with Attached Garage on the Marina!', 'redwood city', 3.3192090395480225], [' Upstairs apt w/UPGRADED kitchen, NEW carpet & paint! Onsite laundry!', 'san jose downtown', 3.0555555555555554], ['Spacious View Townhouse in Very Quiet Location - OPEN SAT 1-3', 'castro - upper market', 3.0789473684210527], ['2Br/2Bath Single Story w/attached garage WC $2400', 'walnut creek', 2.0], ['*.*Large Beautiful Townhouse w/Fireplace Rohnert Park*.*', 'rohnert pk - cotati', 1.3291666666666666], ['Serene Living in Menlo Park....Beautiful & Spacious 2 BR ready now! ', 'menlo park', 3.1750433275563257], ['888 San Mateo-Walk to Burlingame Ave! New with A/C & Washer/Dryer!', 'san mateo', 3.3947119924457034], ['Corner 3x2 w/ New Carpet, 2-Car Carport & Large Storage Area! ', 'belmont', 2.4782608695652173], ['Small 1BDR nr Alameda/Hedding, Upgraded Kitchen! Nice Rose Garden Area', 'san jose downtown', 3.0555555555555554], ['101 San Fernando *****Great Price for a 1x1 | M/I 10/10/2014', 'san jose downtown', 3.671597633136095], ['Single Family Home for Rent ', 'santa clara', 2.142857142857143], ['Lock in the rent control!', 'ingleside - SFSU - CCSF', 3.2961783439490446], ['Walking distance to Sonoma State University', 'rohnert pk - cotati', 1.3333333333333333], ['Beautiful Luxury Townhouse', 'san carlos', 2.176470588235294], ['NOW AVAILABLE!!! Newly Renovated, Cozy 2 Bdrm, 1 Ba, First Floor', 'san jose west', 3.0344827586206895], ['Rosegarden neighborhood :: UPGRADED apt :: *On-site laundry*', 'san jose downtown', 3.057777777777778], ['Spacious View Townhouse in Very Quiet Location - OPEN SAT 1-3', 'castro - upper market', 3.0789473684210527], ['Commuters Dream... Mins From I 580 & ACE Train..30 Mins From BART!!!!', 'Tracy Livermore', 1.7716165413533835], ['Walking distance to Sonoma State University', 'rohnert pk - cotati', 1.391304347826087], ['2bd/1ba, SPECIAL PRICING-TODAY!!!', 'rohnert pk - cotati', 1.8186695278969958], ['For All Lifestyles Newly Remodeled Apts', 'santa rosa', 1.6151685393258426], ['Be A Part Of Town Home Living Today! Spacious Floor Plan, Must see!', 'foster city', 2.062962962962963], ['Large kitchen with washer dryer. ', 'mountain view', 3.5304964539007093], ['Just 1 mile south of the El Camino Real and Woodside Road intersection', 'redwood city', 4.021943573667712], ['Walking distance to Shopping, Parks, Schools, Starbucks, Golf, etc....', 'sunnyvale', 3.089430894308943], ['Convenient Single Story Ready Now! Cats ok! No Pet Rent:)', 'sunnyvale', 3.089430894308943], ['Large Jr 1x1 in Soma at Mosso Apartments Ready for move in NOW!', 'SOMA - south beach', 5.516934046345811], ['Beautiful Tracy Home!', 'dublin - pleasanton - livermore', 0.8876945885841364], ['NE SANTA ROSA - 2014 QUEBEC TERRACE', 'santa rosa', 1.2903225806451613], ['3 Bed/2.5 Bath Townhouse for Rent - 2,500', 'novato', 1.840942562592047], ['2bd/2ba-W/D,Fireplace, Dual Master Suite SPECIAL PRICING TODAY!', 'rohnert pk - cotati', 1.6088709677419355], ['Updated 4BR/2B Home for rent in Mid Town Palo Alto - $6000/month', 'palo alto', 2.857142857142857], ['Impressive Corner Unit Condo with Luxury Amenities', 'san bruno', 3.176470588235294], ['Stainless Steel Appliances Are Available in This 2x2 Residence!', 'san jose north', 2.3814655172413794], ['Great LOCATION near Kaiser Hospital::quality, affordable living', 'santa clara', 2.3946666666666667], ['Great LOCATION near Kaiser Hospital::quality, affordable living', 'santa clara', 2.3946666666666667], ['Comfortable Quiet Studio for Rent', 'excelsior - outer mission', 6.0], ['â˜…â˜…â˜…Top Floor Unit in an Exciting & Accessible Neighborhood', 'Guerrero-Market', 5.161290322580645], ['Studio', 'walnut creek', 1.8333333333333333], ['Contemporary Loft Living Over Looking Albert Field, and Mt. Tam!', 'san rafael', 2.9444444444444446], ['5485 Bodega Ave', 'petaluma', 1.3], ['See This Unit Today!! Large Corner End Unit, Only Pay Electric Bill', 'foster city', 2.745121951219512], ['Relax in your large one bedroom home!', 'foster city', 3.1883561643835616], ['SPACIOUS, UPGRADED STUDIO with LOTS of STORAGE SPACE', 'santa clara', 2.7083333333333335], ['LOCATION, LOCATION, LOCATION! Desirable & Spacious', 'san jose west', 2.973684210526316], ['2-Bedroom/2-Bath Condo Available NOW! Open House This Weekend!', 'san bruno', 3.176470588235294], ['Walk to Caltrain', 'san mateo', 3.386426592797784], ['well maintained, small, quiet, friendly apartment community', '', 2.975438596491228], ['Serene and friendly Cambrian Park neighborhood::spacious apt', 'los gatos', 2.973684210526316], ['NEW! Kitchen & bath NEW! Flooring & light fixtures::Cats Welcome!!', 'santa clara', 2.7351598173515983], ['Majestic Victorian Liberty Hill', 'mission district', 4.0], ['7629 Wells Ave #C, Newark, Avail. 12/27/14', 'fremont - union city - newark', 1.9285714285714286], ['Make Us Your New Residence! - What Are You Waiting For?', 'santa rosa', 1.6151685393258426], ['Large, sunny 4 bedroom house in Peacock Greens', 'san rafael', 1.6129032258064515], ['LAST DAY FOR FIRST MONTH FREE!! Come check out our renovated units!', 'santa rosa', 2.3322932917316694], ['Apply Today! Affordable 1 Bedroom Top Floor Unit, Only Pay PG&E!', 'foster city', 3.212307692307692], ['2 Bed 1 Bath, W/D in unit, Central AC!', 'sunnyvale', 2.93048128342246], ['Unique & spacious :: Downtown Apt, Nr Transportation/Everything!', 'san jose downtown', 2.6], ['VIEW 2 BED 2 BATH CONDO! 1 CAR PARKING! PATIO! DAWN CUSULOS *by AMSI', 'SOMA - south beach', 3.923278116826504], ['1705 164th Avenue, San Leandro, Avail. 1/10/15', 'san leandro', 1.588235294117647], ['708 Chavel Court, Fremont, Avail.NOW Ext.43', 'fremont - union city - newark', 1.231578947368421], ['465 Nassau Lane, Hayward, Avail. 12/13', 'hayward - castro valley', 1.8584070796460177], ['Limited Inventory - Be The First To Move Into Our Brand New Apartments', 'tiburon - belvedere', 5.042016806722689], ['Downtown SJ! :: Elegant-Large-Modernized :: Near Everything!', 'san jose downtown', 2.6013333333333333], ['Modern Dwntwn Apt :: Elegant &Affordable :: near transportation!', 'san jose downtown', 2.6], ['Urban Lux Vibe apt :: Stunning spacious living :: Garage Parking!', 'san jose downtown', 3.0], ['Great price on a 3 bedroom!', 'ingleside - SFSU - CCSF', 3.1337630942788075], ['Corner studio/bay windows/walk in closet/available now', 'downtown - civic - van ness', 4.198333333333333], ['40884 Blacow Road, Fremont, Avail. NOW', 'fremont - union city - newark', 1.7994858611825193], ['Two Weeks Free Rent! Move In By Next Friday! ', 'napa county', 1.8478260869565217], ['All your needs in the heart of Petaluma!', 'petaluma', 1.7616731517509727], ['OPEN HOUSE SATURDAY 11/15 1-3PM NEWLY REMODELED 2 BEDROOM DUPLEX ', 'burlingame', 2.9954545454545456], [\"Walk to park, school and water's edge!\", 'foster city', 3.449438202247191], ['Cozy One Bedroom with Gorgeous Water View Available!', 'redwood shores', 3.963235294117647], ['Quiet & private::Modern style apt::LUX features:: Parking included!', 'san jose downtown', 2.5505857294994674], ['RENOVATED 1116 SQ FT COMING SOON!!!!', 'san jose downtown', 2.5582437275985663], ['Lafayette - 2BR/2BA - large, sunny, walk to BART', 'lafayette - orinda - moraga', 1.5833333333333333], ['WOW...Affordable Luxury Living...One & Two Bedrooms Available Now!! ', 'Tracy', 1.937669376693767], ['3BED 2BATH HOUSE IN CLEARLAKE', 'lake county', 0.8275862068965517], ['Lakeport, 2 Bed, 1.5 Ba, Huge Apt, (1000SF) Walk to town and lake', 'lake county', 0.85], ['Spacious remodeled home', 'los altos', 2.5312183597705027], ['Fitness, Pools, Spa, Sauna, Private bike lockers, Spacious floor plans', 'mountain view', 3.0797872340425534], ['MOVE IN SPECIAL for a Beautiful 2Bd 1Bth', 'san mateo', 2.6923076923076925], ['Newly remodeled! Comfortable living::storage & parking', 'santa clara', 2.7340182648401825], ['Bright and spacious*Townhome*Washer/dryer**Lux Urban Vibe!', 'san jose downtown', 2.455737704918033], ['Completely Remodeled Martinez Home For Rent', 'concord - pleasant hill - martinez', 1.4676470588235293], ['updated Antioch house at very convenient location', 'pittsburg - antioch', 1.0187224669603525], ['PHENOMENAL 5BDRM NAPA ESTATE AMIDST 13 ACRES OF VINEYARD PROPERTY ', 'napa county', 1.4285714285714286], ['Large 2 bed 2 bath condo with large balcony', 'redwood city', 2.0036764705882355], ['Exlarge 1 Bedroom/ /CLOSE TO DOWNTOWN', 'redwood city', 2.5625], ['Mtn. View Condo for Lease', 'mountain view', 2.9069767441860463], ['SPECIALS!! NO APP FEE PLUS $500 OFF MOVE IN near Downtown Morgan Hill', 'morgan hill', 2.533523537803138], ['2x2.5 ready for immediate move-in with amazing Specials Available! Cal', 'sunnyvale', 2.462825278810409], ['2BR CONDO IN THE HAIGHT - OPEN HOUSE SUN 11/16 11AM-12PM ', 'haight ashbury', 5.0], ['637 Powell St. #202 | Open Sun 11/16 12:30-1:30p', 'downtown - civic - van ness', 2.830188679245283], ['Come take a look, See if this is what you want!', 'emeryville', 2.5298988040478383], ['High ceilings! 1 bed/1bath, third floor, garage,patio,washer/dryer', 'dublin - pleasanton - livermore', 2.7551867219917012], ['REMODELED 4BDRM + BONUS RM 3BA AMERICAN CANYON HOME WITH LARGE YARD ', 'napa county', 1.1], ['LIGHT & BRIGHT 3BEDROOM REMODELED NORTH NAPA HOME', 'napa county', 1.3], ['Downtown New FLOORING/ NEW APPLIANCES/ POOL / LARGE PRIVATE BALCONY ', 'san mateo', 3.0067567567567566], ['Mountain View Townhouse 3 BR / 2.5 BA', 'mountain view', 2.4705882352941178], ['A Must See! Fantastic Location! Beautiful Two Bedroom Apt Home!', 'morgan hill', 2.4805771365149836], ['Bike Lockers, Seven Pools, & More at This One-Bedroom Apt!', 'cupertino', 3.0949367088607596], ['Sunny Top Floor Loft With 1 1/2 Baths. Natoma @ 11th. ', 'SOMA - south beach', 4.685714285714286], ['Sunny Bright /Near Glen Park Bart/ $2635', 'glen park', 2.9277777777777776], ['Pleasanton Townhouse', 'dublin - pleasanton - livermore', 1.9545454545454546], ['Beautiful 2x2, Extra Closet, Hardwood Floor, Washer&Dryer, READY NOW!!', 'walnut creek', 1.9083333333333334], ['Upgraded 1 bedroom in Fremont! Get $500 move in bonus!', 'fremont - union city - newark', 2.7615384615384615], ['4 Bedroom / 2 Bath in Vacaville ', 'fairfield - vacaville', 1.2012987012987013], ['Redwood Park Apartment Homes', 'santa rosa', 1.7131696428571428], ['1 bedroom (could be 2) - Extremely large apt across the creek from Palo Alto but', 'menlo park', 2.03125], ['Exceptional, newer, stunning executive housing - amazing', 'palo alto', 2.985074626865672], ['Extremely large 1 bedroom (or could be 2 bedroom) apt across the creek from Palo', 'menlo park', 2.03125], ['Platinum Location! Excellent School! Pergo Floor', 'san jose west', 2.7609756097560973], ['Enjoy the Fall Weather in your newly Bright & Airy Apartment!', 'san jose south', 2.57847533632287], ['Best Rate for a 2 Bedroom Ground Floor for Immediate Move-In', 'san jose north', 2.1849865951742626], ['LIVE at TIBURON -Everyday is a STAYCATION !', 'Tiburon ', 2.9525862068965516], ['TWO BEDROOM TWO BATH PLUS YARD', 'Tiburon ', 3.060344827586207], ['Spacious & Beautiful Two-Story 5 Bed/ 3 Bath Home in Richmond ', 'richmond - point - annex', 0.9484066767830045], ['Sophistication & Comfort, Great Amenities, Neighborhood You Want!', 'hayward - castro valley', 1.995], ['Come Home to the Redwoods', 'santa rosa', 1.7131696428571428], ['Super Spacious 2br/2ba in Sunny Terra Linda', 'san rafael', 2.081218274111675], ['Fresh air, Nature, View, , Balcony, Bright & Spacious, 2bd/1bth', 'mountain view', 3.2600502512562812], ['SPACIOUS HOME! NEW APPLIANCES, Central A/C! Park-like View!', 'sunnyvale', 2.671818181818182], ['Love Where You Live! Luxurious 2br2ba with Stainless Steel, W/D & AC!', 'santa clara', 2.908421052631579], ['San Jose remodeled house all appliances included w/d security system ', 'san jose east', 2.3636363636363638], ['Great bay views', 'russian hill', 3.885480572597137], ['Waterfront Open Floorplan in Discovery Bay!', 'brentwood - oakley', 1.16227089852481], ['CLOSE TO BEACH ! BART ! FERRY ! SHOPPING', 'alameda', 2.413793103448276], ['Traditional Novato Home with Mediterranean Accents', 'novato', 1.5687250996015936], ['Beautiful 4 Bed & 2.5 Bath Home Ready Now!', 'foster city', 1.9082125603864735], ['AMAZING WIDE WATER VIEWS | Resort Living | Private Dock | Pool, Spa', 'san mateo', 2.954301075268817], ['Charming Home in Historic Saratoga Village and Schools', 'saratoga', 1.8800358102059087], ['Great Unit - 2Br 2Ba - First Floor -Call Now !! ', 'sunnyvale', 2.721590909090909], ['When expectation meets reality , Park Kiely ', 'san jose west', 3.952808988764045], ['STUDIO, Tour, Friday, Nov. 14, 4:00 pm ', '512 Van Ness Avenue Steps to Hayes Valley', 5.140186915887851], ['SPRAWLING 5 BED 2.5 BATH COMING SOON IN BRENTWOOD!!', 'brentwood - oakley', 0.7614986293024673], ['Country Club Living in Beautiful Discovery Bay!!', 'brentwood - oakley', 1.0015060240963856], ['Spacious Sausalito Duplex with Bay Views!', 'sausalito', 2.6333333333333333], ['Stunning Views From This Updated Sausalito Home', 'sausalito', 3.6458333333333335], ['DOWNTOWN ALL NEW FLOORING/ ALL NEW APPLIANCES/ GRANITE ', 'san mateo', 3.0067567567567566], ['This 2x1 Home Is near Facebook, Google, & Other Area Employers', 'mountain view', 3.620879120879121], ['All New Gourmet Kithchen/ Granite/ Palm Trees/ Pool/ Huge Balcony ', 'san mateo', 3.0067567567567566], [\"Don't be left behind & reserve What's In Style for January Move In!\", 'san jose downtown', 2.782863849765258], ['2BR*LUXURY APARTMENTS*Beautiful Empire**AVAILABLE NOW!!!!!', 'san jose west', 2.263207547169811], ['Beautiful corner apartments with amazing city view!', 'SOMA - south beach', 3.6249045072574484], ['GREAT ONE STORY 3 BED 2 BATH HOME NOW AVAILABLE IN OAKLEY', 'brentwood - oakley', 1.3644140290846878], ['A Unique Two Bedroom Layout! Very Open and Inviting!', 'vallejo - benicia', 1.7602905569007263], ['3/2 newer home!ready now!', 'fairfield - vacaville', 1.2], ['Walking Distance to Gourmet Dining & Fine Shops', 'santa rosa', 1.8990228013029316], ['Fantastic 1 Bedroom awaits you in Beautiful Menlo Park!', 'menlo park', 3.4975308641975307], ['Large Two Bedroom! Walk-in Closet, Washer & Dryer! Great Special Too! ', 'milpitas', 2.575354609929078], ['â˜‘â˜Ž1 month free on this brand new, never lived in apartmentâ˜Ž ', 'san jose north', 2.64272030651341], ['Love Where You Live! Downstairs Studio On SPECIAL!!! !', 'campbell', 3.388888888888889], ['Hurry in today', 'dublin - pleasanton - livermore', 2.3438556933483654], ['Fantastic home in desirable Vineyard Terrace', 'dublin - pleasanton - livermore', 1.7831031681559708], ['One Month Free! Two Bedroom! Great Location!', 'emeryville', 3.0714285714285716], ['Must go - Private Mt. Tam view condo ready to move in !', 'greenbrae', 2.7777777777777777], ['Dominican Home w/ Hot Tub!', 'san rafael', 2.6666666666666665], ['Pleasanton Home for Rent', 'dublin - pleasanton - livermore', 1.5248796147672552], ['Homestead Valley & Almonte Area of Mill Valley Home! --PRANDI', 'mill valley', 2.886977886977887], ['Quaint Sausalito 2 Bedroom Cottage Available! --PRANDI', 'sausalito', 3.089598352214212], ['Beautiful Condo with Panoramic Bay Views from Hills to East Bay!', 'sausalito', 2.693877551020408], ['Fabulous Top Floor 1x1 in Historic Downtown!', 'novato', 2.522421524663677], ['Classic 1br x 1Bath w/ large patio and great location!', '201 Avian Dr.', 1.4714285714285715], ['Recently renovated One Bedroom Apartment', 'santa rosa', 1.910569105691057]]\n"
     ]
    }
   ],
   "source": [
    "\n",
    "price_persqft = []# create a new list to contain the value of price per square foot\n",
    "price_cleaned=[]# create a new list to contain the column of prices in the data set\n",
    "sqft_cleaned=[]# create a new list to contain the column of sqft in the data set\n",
    "neighborhood_cleaned=[]# create a new list to contain the column of neighborhood in the data set\n",
    "title=[]# create a new list to contain the column of title in the data set\n",
    "# create a new function to convert non empty sqft value from a string to an int\n",
    "def extract_int_sqft(sqft):\n",
    "    if not sqft == '':\n",
    "        return int(float(sqft))\n",
    "    else:\n",
    "        return None\n",
    "    \n",
    "# create a new function to convert non empty price value from a string to an int\n",
    "def extract_int_price(price):\n",
    "    if not price == '':\n",
    "        return int(float(price))\n",
    "    else:\n",
    "        return None\n",
    "    \n",
    "# create a new function to replace forward slashes and commas with hyphens\n",
    "def clean_neighborhood(neighborhood_name):\n",
    "    # you can daisy chain multiple string.replace() methods\n",
    "    return neighborhood_name.replace('/', '-').replace(',', '')\n",
    "\n",
    "import csv\n",
    "with open('data/rents_full.csv', 'r') as csvfile:#open the csv file to read data\n",
    "    my_csv = csv.reader(csvfile)\n",
    "    next(my_csv)# skip the header row\n",
    "    for row in my_csv:\n",
    "        # clean the data set by calling the cleaning functions and save the results to list\n",
    "        price_cleaned.append( extract_int_price(row[4]))\n",
    "        sqft_cleaned.append(extract_int_sqft(row[3]))\n",
    "        neighborhood_cleaned.append(clean_neighborhood(row[2]))\n",
    "        title.append(row[1])\n",
    "       \n",
    "        \n",
    "      \n",
    "      \n",
    "        \n",
    " # loop is iterated through four lists in parallel \n",
    "#zip() is to map the similar index of multiple containers\n",
    "for i,j, k, l in zip(title,neighborhood_cleaned, price_cleaned, sqft_cleaned): \n",
    "    if (k is not None) and (l is not None):#nonempty value of price and sqft is considered\n",
    "    \n",
    "       price_persqft.append([i,j,k/l])\n",
    "\n",
    "print(price_persqft)"
   ]
  },
  {
   "cell_type": "code",
   "execution_count": 4,
   "metadata": {},
   "outputs": [],
   "source": [
    "import csv\n",
    "# write the result to a new csv file\n",
    "with open('price_persqft.csv', 'w', newline='') as f:\n",
    "    writer = csv.writer(f)\n",
    "    writer.writerow([\"title\",\"neighborhood\",\"price per square foot\"])#add header row\n",
    "    \n",
    "    writer.writerows(price_persqft)"
   ]
  },
  {
   "cell_type": "code",
   "execution_count": null,
   "metadata": {},
   "outputs": [],
   "source": []
  },
  {
   "cell_type": "markdown",
   "metadata": {},
   "source": [
    "# Answer 2"
   ]
  },
  {
   "cell_type": "code",
   "execution_count": 6,
   "metadata": {},
   "outputs": [
    {
     "name": "stdout",
     "output_type": "stream",
     "text": [
      "885.6080313445141\n",
      "339\n",
      "2.612413071812726\n",
      "2.61\n"
     ]
    }
   ],
   "source": [
    "with open('price_persqft.csv', 'r') as csvfile:# read data from csv file\n",
    "    count = 0 #at the end, divide cumulative_sum by this to get the mean\n",
    "    cumulative_sum = 0 #our rolling sum\n",
    "    my_csv = csv.reader(csvfile)\n",
    "    next(my_csv)#skip header row\n",
    "    for row in my_csv:\n",
    "            \n",
    "            cumulative_sum=cumulative_sum + float(row[2])#add rows to cumulative sum\n",
    "            count= count+1 # increase the value of count by 1\n",
    "#print results\n",
    "average_price=round(cumulative_sum/count,2)\n",
    "print(cumulative_sum)\n",
    "print(count)\n",
    "print(cumulative_sum/count)\n",
    "print(average_price)"
   ]
  },
  {
   "cell_type": "code",
   "execution_count": null,
   "metadata": {},
   "outputs": [],
   "source": []
  },
  {
   "cell_type": "markdown",
   "metadata": {},
   "source": [
    "# Answer 3"
   ]
  },
  {
   "cell_type": "code",
   "execution_count": 7,
   "metadata": {},
   "outputs": [],
   "source": [
    "# I have skipped missing data in 1 and 2 and it may affect the result of average value of price per square foot"
   ]
  },
  {
   "cell_type": "code",
   "execution_count": null,
   "metadata": {},
   "outputs": [],
   "source": []
  }
 ],
 "metadata": {
  "anaconda-cloud": {},
  "kernelspec": {
   "display_name": "Python 3",
   "language": "python",
   "name": "python3"
  },
  "language_info": {
   "codemirror_mode": {
    "name": "ipython",
    "version": 3
   },
   "file_extension": ".py",
   "mimetype": "text/x-python",
   "name": "python",
   "nbconvert_exporter": "python",
   "pygments_lexer": "ipython3",
   "version": "3.7.0"
  }
 },
 "nbformat": 4,
 "nbformat_minor": 1
}
